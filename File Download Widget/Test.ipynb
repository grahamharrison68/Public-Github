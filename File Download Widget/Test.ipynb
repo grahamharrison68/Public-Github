{
 "cells": [
  {
   "cell_type": "code",
   "execution_count": 4,
   "metadata": {},
   "outputs": [],
   "source": [
    "import base64\n",
    "import hashlib\n",
    "from typing import Callable\n",
    "import time\n",
    "\n",
    "import ipywidgets\n",
    "from IPython.display import HTML, display\n",
    "\n",
    "\n",
    "class DownloadButton(ipywidgets.Button):\n",
    "    \"\"\"Download button with dynamic content\n",
    "\n",
    "    The content is generated using a callback when the button is clicked.\n",
    "    \"\"\"\n",
    "\n",
    "    def __init__(self, filename: str, contents: Callable[[], str], **kwargs):\n",
    "        super(DownloadButton, self).__init__(**kwargs)\n",
    "        self.filename = filename\n",
    "        self.contents = contents\n",
    "        self.on_click(self.__on_click)\n",
    "\n",
    "    def __on_click(self, b):\n",
    "        contents: bytes = self.contents().encode('utf-8')\n",
    "        b64 = base64.b64encode(contents)\n",
    "        payload = b64.decode()\n",
    "        digest = hashlib.md5(contents).hexdigest()  # bypass browser cache\n",
    "        id = f'dl_{digest}'\n",
    "\n",
    "        display(HTML(f\"\"\"\n",
    "<html>\n",
    "<body>\n",
    "<a id=\"{id}\" download=\"{self.filename}\" href=\"data:text/csv;base64,{payload}\" download>\n",
    "</a>\n",
    "\n",
    "<script>\n",
    "(function download() {{\n",
    "document.getElementById('{id}').click();\n",
    "}})()\n",
    "</script>\n",
    "\n",
    "</body>\n",
    "</html>\n",
    "\"\"\"))"
   ]
  },
  {
   "cell_type": "code",
   "execution_count": 5,
   "metadata": {},
   "outputs": [
    {
     "data": {
      "application/vnd.jupyter.widget-view+json": {
       "model_id": "8d5f3c1aeabc4684be2d6b4e818b384c",
       "version_major": 2,
       "version_minor": 0
      },
      "text/plain": [
       "DownloadButton(description='download', style=ButtonStyle())"
      ]
     },
     "metadata": {},
     "output_type": "display_data"
    },
    {
     "data": {
      "text/html": [
       "\n",
       "<html>\n",
       "<body>\n",
       "<a id=\"dl_5c9fedbadc81c69fd4a30d0c3aca263e\" download=\"foo.txt\" href=\"data:text/csv;base64,aGVsbG8gMTYzNTM1NDYyNS41NDg4NjE1\" download>\n",
       "</a>\n",
       "\n",
       "<script>\n",
       "(function download() {\n",
       "document.getElementById('dl_5c9fedbadc81c69fd4a30d0c3aca263e').click();\n",
       "})()\n",
       "</script>\n",
       "\n",
       "</body>\n",
       "</html>\n"
      ],
      "text/plain": [
       "<IPython.core.display.HTML object>"
      ]
     },
     "metadata": {},
     "output_type": "display_data"
    }
   ],
   "source": [
    "DownloadButton(filename='foo.txt', contents=lambda: f'hello {time.time()}', description='download')"
   ]
  }
 ],
 "metadata": {
  "kernelspec": {
   "display_name": "Python 3 (ipykernel)",
   "language": "python",
   "name": "python3"
  },
  "language_info": {
   "codemirror_mode": {
    "name": "ipython",
    "version": 3
   },
   "file_extension": ".py",
   "mimetype": "text/x-python",
   "name": "python",
   "nbconvert_exporter": "python",
   "pygments_lexer": "ipython3",
   "version": "3.8.5"
  }
 },
 "nbformat": 4,
 "nbformat_minor": 4
}
