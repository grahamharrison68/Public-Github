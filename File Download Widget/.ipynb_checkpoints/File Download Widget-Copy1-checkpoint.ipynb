{
 "cells": [
  {
   "cell_type": "markdown",
   "metadata": {},
   "source": [
    "References\n",
    "- https://medium.com/@charles2588/how-to-upload-download-files-to-from-notebook-in-my-local-machine-6a4e65a15767\n",
    "- https://stackoverflow.com/questions/61708701/how-to-download-a-file-using-ipywidget-button"
   ]
  },
  {
   "cell_type": "code",
   "execution_count": 1,
   "metadata": {},
   "outputs": [],
   "source": [
    "import base64\n",
    "import hashlib\n",
    "import os\n",
    "\n",
    "from ipywidgets import Button\n",
    "from IPython.display import HTML, display"
   ]
  },
  {
   "cell_type": "code",
   "execution_count": 6,
   "metadata": {},
   "outputs": [],
   "source": [
    "path = \"data/Test Text.csv\"\n",
    "filename = os.path.basename(path)"
   ]
  },
  {
   "cell_type": "code",
   "execution_count": 12,
   "metadata": {},
   "outputs": [],
   "source": [
    "def download_button_on_click(b):\n",
    "    print(\"hello there\")\n",
    "    file_to_download = open(path, 'rb') # Open the file represented by the path\n",
    "    b64 = base64.encodebytes(file_to_download.read()) # Read the contents in base 64\n",
    "    payload = b64.decode() # Decode the base 64 representation into the payload (i.e. the file to download)\n",
    "\n",
    "    digest = hashlib.md5(b64).hexdigest()  # Create a unique digest from the base 64 ...\n",
    "    id = f\"dl_{digest}\" # ... and use it as the id of the <a> element which is an HTML hyperlink\n",
    "\n",
    "    # Create an HTML element and automatically cause the elements .click() event to fire which will initiate the file download\n",
    "    display(HTML(\n",
    "    f\"\"\"\n",
    "    <html>\n",
    "        <body>\n",
    "            <a id=\"{id}\" download=\"{filename}\" href=\"data:text/csv;base64,{payload}\" download>\n",
    "            </a>\n",
    "\n",
    "            <script>\n",
    "                (function download() {{\n",
    "                document.getElementById('{id}').click();\n",
    "                }})()\n",
    "            </script>\n",
    "\n",
    "        </body>\n",
    "    </html>\n",
    "    \"\"\"))\n"
   ]
  },
  {
   "cell_type": "code",
   "execution_count": 13,
   "metadata": {},
   "outputs": [],
   "source": [
    "download_button = Button(description=\"Download\")\n",
    "download_button.on_click(download_button_on_click)"
   ]
  },
  {
   "cell_type": "code",
   "execution_count": 14,
   "metadata": {},
   "outputs": [
    {
     "data": {
      "application/vnd.jupyter.widget-view+json": {
       "model_id": "6a69a6f7f3cc4e34b5cf3aa1f70d7453",
       "version_major": 2,
       "version_minor": 0
      },
      "text/plain": [
       "Button(description='Download', style=ButtonStyle())"
      ]
     },
     "metadata": {},
     "output_type": "display_data"
    },
    {
     "name": "stdout",
     "output_type": "stream",
     "text": [
      "hello\n"
     ]
    },
    {
     "data": {
      "text/html": [
       "\n",
       "    <html>\n",
       "        <body>\n",
       "            <a id=\"dl_0e4300acc658045b84c091697e23d870\" download=\"Test Text.csv\" href=\"data:text/csv;base64,77u/Q29sdW1uIDEsQ29sdW1uIDIsQ29sdW1uIDMsQ29sdW1uIDQNCmEsYixjLGQNCmUsZixnLGgN\n",
       "CmksaixrLGwNCg==\n",
       "\" download>\n",
       "            </a>\n",
       "\n",
       "            <script>\n",
       "                (function download() {\n",
       "                document.getElementById('dl_0e4300acc658045b84c091697e23d870').click();\n",
       "                })()\n",
       "            </script>\n",
       "\n",
       "        </body>\n",
       "    </html>\n",
       "    "
      ],
      "text/plain": [
       "<IPython.core.display.HTML object>"
      ]
     },
     "metadata": {},
     "output_type": "display_data"
    }
   ],
   "source": [
    "download_button"
   ]
  }
 ],
 "metadata": {
  "kernelspec": {
   "display_name": "Python 3 (ipykernel)",
   "language": "python",
   "name": "python3"
  },
  "language_info": {
   "codemirror_mode": {
    "name": "ipython",
    "version": 3
   },
   "file_extension": ".py",
   "mimetype": "text/x-python",
   "name": "python",
   "nbconvert_exporter": "python",
   "pygments_lexer": "ipython3",
   "version": "3.8.5"
  }
 },
 "nbformat": 4,
 "nbformat_minor": 4
}
