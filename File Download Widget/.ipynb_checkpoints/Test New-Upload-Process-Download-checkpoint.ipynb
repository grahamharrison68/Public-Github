{
 "cells": [
  {
   "cell_type": "code",
   "execution_count": 1,
   "metadata": {},
   "outputs": [],
   "source": [
    "from ipywidgets import HTML, FileUpload, Button, Output\n",
    "from IPython.display import display\n",
    "\n",
    "import base64"
   ]
  },
  {
   "cell_type": "code",
   "execution_count": 2,
   "metadata": {},
   "outputs": [],
   "source": [
    "class FileDownload():\n",
    "    \n",
    "    def __init__(self, filename):\n",
    "        self.filename = filename\n",
    "\n",
    "    def render(self):\n",
    "        file_to_download = open(self.filename, 'rb') # Open the file represented by the path\n",
    "        b64 = base64.encodebytes(file_to_download.read()) # Read the contents in base 64\n",
    "        payload = b64.decode() # Decode the base 64 representation into the payload (i.e. the file to download)\n",
    "\n",
    "        download_button_string = '''\n",
    "                                     <html>\n",
    "                                         <head>\n",
    "                                             <meta name=\"viewport\" content=\"width=device-width, initial-scale=1\">\n",
    "                                         </head>\n",
    "                                         <body>\n",
    "                                             <a download=\"{filename}\" href=\"data:text/csv;base64,{payload}\" download>\n",
    "                                                 <button class=\"jupyter-button widget-button\">Download File</button>\n",
    "                                             </a>\n",
    "                                         </body>\n",
    "                                     </html>\n",
    "                                 '''\n",
    "\n",
    "        return(download_button_string.format(payload=payload, filename=self.filename))"
   ]
  },
  {
   "cell_type": "code",
   "execution_count": 11,
   "metadata": {},
   "outputs": [],
   "source": [
    "file_upload = FileUpload(accept='', multiple=False)\n",
    "process_file_button = Button(description=\"Process File\")\n",
    "output = Output()\n",
    "file_name = 'data/Test Word.docx'"
   ]
  },
  {
   "cell_type": "code",
   "execution_count": 4,
   "metadata": {},
   "outputs": [
    {
     "data": {
      "application/vnd.jupyter.widget-view+json": {
       "model_id": "9f1d45654d554c87b99105a01548bda9",
       "version_major": 2,
       "version_minor": 0
      },
      "text/plain": [
       "FileUpload(value={}, description='Upload')"
      ]
     },
     "metadata": {},
     "output_type": "display_data"
    }
   ],
   "source": [
    "display(file_upload)"
   ]
  },
  {
   "cell_type": "code",
   "execution_count": 5,
   "metadata": {},
   "outputs": [],
   "source": [
    "def upload_file():\n",
    "    uploaded_filename = next(iter(file_upload.value))\n",
    "    content = file_upload.value[uploaded_filename]['content']\n",
    "    file_size = file_upload.value[uploaded_filename]['metadata']['size']\n",
    "    file_type = file_upload.value[uploaded_filename]['metadata']['type']\n",
    "    with open(f'data/{uploaded_filename}', 'wb') as f: \n",
    "        f.write(content)"
   ]
  },
  {
   "cell_type": "code",
   "execution_count": 6,
   "metadata": {},
   "outputs": [],
   "source": [
    "def process_file():\n",
    "    with output:\n",
    "        print(\"File Processed\")"
   ]
  },
  {
   "cell_type": "code",
   "execution_count": 7,
   "metadata": {},
   "outputs": [],
   "source": [
    "def process_file_clicked(b):\n",
    "\n",
    "    with output:\n",
    "        if len(file_upload.value) > 0:\n",
    "\n",
    "            upload_file()\n",
    "            print(\"file uploaded\")\n",
    "            process_file()\n",
    "            print(\"file processed\")\n",
    "\n",
    "        else:\n",
    "            print(\"no file uploaded\")"
   ]
  },
  {
   "cell_type": "code",
   "execution_count": 8,
   "metadata": {},
   "outputs": [
    {
     "data": {
      "application/vnd.jupyter.widget-view+json": {
       "model_id": "b684a740ba234883a235725686ecb15c",
       "version_major": 2,
       "version_minor": 0
      },
      "text/plain": [
       "Button(description='Process File', style=ButtonStyle())"
      ]
     },
     "metadata": {},
     "output_type": "display_data"
    }
   ],
   "source": [
    "process_file_button.on_click(process_file_clicked)\n",
    "process_file_button"
   ]
  },
  {
   "cell_type": "code",
   "execution_count": 12,
   "metadata": {},
   "outputs": [
    {
     "data": {
      "application/vnd.jupyter.widget-view+json": {
       "model_id": "22aa054d3f4843eb9cfc3c55c690a351",
       "version_major": 2,
       "version_minor": 0
      },
      "text/plain": [
       "HTML(value='\\n                                     <html>\\n                                         <head>\\n  …"
      ]
     },
     "metadata": {},
     "output_type": "display_data"
    }
   ],
   "source": [
    "file_download = FileDownload(file_name)\n",
    "display(HTML(file_download.render()))"
   ]
  },
  {
   "cell_type": "code",
   "execution_count": null,
   "metadata": {},
   "outputs": [],
   "source": [
    "#file_upload.value"
   ]
  }
 ],
 "metadata": {
  "kernelspec": {
   "display_name": "Python 3 (ipykernel)",
   "language": "python",
   "name": "python3"
  },
  "language_info": {
   "codemirror_mode": {
    "name": "ipython",
    "version": 3
   },
   "file_extension": ".py",
   "mimetype": "text/x-python",
   "name": "python",
   "nbconvert_exporter": "python",
   "pygments_lexer": "ipython3",
   "version": "3.8.5"
  }
 },
 "nbformat": 4,
 "nbformat_minor": 4
}
