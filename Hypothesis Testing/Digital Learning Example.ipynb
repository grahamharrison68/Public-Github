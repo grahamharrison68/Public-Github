{
 "cells": [
  {
   "cell_type": "markdown",
   "metadata": {},
   "source": [
    "# Hypothesis Testing in Python Made Easy"
   ]
  },
  {
   "cell_type": "markdown",
   "metadata": {},
   "source": [
    "## Introduction\n",
    "In this excellent article ... https://medium.com/analytics-vidhya/everything-you-should-know-about-p-value-from-scratch-for-data-science-f3c0bfa3c4cc ... the author explores the p-value in statistics and uses the example of an archery team to compare  two distributions.\n",
    "\n",
    "I found this article very insightful but I was left wanting more in that I wanted the statistics breaking down into simple steps that a non-statistician could follow and I wanted to see the full python code that explored the datasets to see if the archery team had improved or not.\n",
    "\n",
    "With that in mind I invented my own scenario based on some fictitous, normally distributed data so that I could build a Python / Jupyter example up in simple steps."
   ]
  },
  {
   "cell_type": "markdown",
   "metadata": {},
   "source": [
    "<img src=\"images/LaptopOnKnee.png\">"
   ]
  },
  {
   "cell_type": "markdown",
   "metadata": {},
   "source": [
    "# The Problem\n",
    "A teacher has historically been delivering their curriculum by standing in front of their class and teaching their students. The teacher has been explaining the material each week using PowerPoint slides and then setting questions for the students to solve during the class to demonstrate if learning has taken place.\n",
    "\n",
    "However, the COVID-19 crisis has forced the introduction of social distancing in the classroom meaning that the class has had to be split into two equal groups that cannot be taught at the same time.\n",
    "\n",
    "To solve this problem the teacher converts the course into online delivery and then teaches half of the class using the traditional classroom-based approach and the other half remotely and online.\n",
    "\n",
    "At the end of term the teacher sets an equivalent test for each group and records the scores. The teacher also records the attendance of each group.\n",
    "\n",
    "The teacher notices that the classroom vs. online groups exhibit different scores for their tests and their attendance, but wonders of these differences are statistically significant or just a matter of luck (as the sample size is quite small)."
   ]
  },
  {
   "cell_type": "markdown",
   "metadata": {},
   "source": [
    "<img src=\"images/computers.jpg\">"
   ]
  },
  {
   "cell_type": "markdown",
   "metadata": {},
   "source": [
    "## The Data\n",
    "The data for the end-of term tests looks like this ...\n",
    "\n",
    "|  | Classroom-Taught Group | Online-Taught Group |\n",
    "| --- | --- | --- |\n",
    "| Mean (Average) Test Score | 74.0% | 76.7% |\n",
    "| Standard Deviation of Test Score | 5% | 8% |\n",
    "| Observations (No of Students in Group) | 30 | 30 |\n",
    "\n",
    "... and the attendance data looks like this ...\n",
    "\n",
    "|  | Classroom-Taught Group | Online-Taught Group |\n",
    "| --- | --- | --- |\n",
    "| Mean (Average) Attendance | 85.0% | 83.0% |\n",
    "| Standard Deviation of Attendance | 5% | 7% |\n",
    "| Observations (No of Register Marks Recorded) | 100 | 100 |\n",
    "\n"
   ]
  },
  {
   "cell_type": "markdown",
   "metadata": {},
   "source": [
    "## First Impressions\n",
    "Well, it doesn't look like the test scores have gone up by much, they have increased by 2.7% from 74% to 76.7%.\n",
    "\n",
    "Also it looks like attendance has decreased for the online group by 2% from 85% to 83%.\n",
    "\n",
    "Does this mean that the online delivery has been a failure and that a way should be found of teaching both groups using traditional classroom teaching?\n",
    "\n",
    "Let's find out ..."
   ]
  },
  {
   "cell_type": "markdown",
   "metadata": {},
   "source": [
    "## Applying Some Data Science\n",
    "In the original article the author jumped in with a z score and a p-value, but the statistics quickly lost me and in any case there was no python code to walk me through it step-by-step, so I thought I would expand on this excellent article in those respects."
   ]
  },
  {
   "cell_type": "markdown",
   "metadata": {},
   "source": [
    "## Exploring the Data\n",
    "So, I thought I would start by using Python to generate some data for me to represent the two data sets, as it is much easier to visualise it once you can see it.\n",
    "\n",
    "Let us start by importing some libraries and setting the random seed so that our results are reproducible ..."
   ]
  },
  {
   "cell_type": "code",
   "execution_count": 1,
   "metadata": {},
   "outputs": [],
   "source": [
    "import warnings\n",
    "warnings.filterwarnings('ignore')\n",
    "\n",
    "import numpy as np\n",
    "import matplotlib.pyplot as plt\n",
    "import scipy.stats as stats\n",
    "import seaborn as sns"
   ]
  },
  {
   "cell_type": "markdown",
   "metadata": {},
   "source": [
    "Now let's have a first look at our data sets which we have assumed are normally distributed.\n",
    "\n",
    "In statistics-speak a normal distribution is defined as follows ...\n",
    "$$N(\\mu, \\sigma^2)$$\n",
    "\n",
    "... which just means a normal distribution that has a mean represented by the greek symbol mu ($\\mu$) and a variance represented by the greek symbol sigma sqaured ($\\sigma^2$).\n",
    "\n",
    "Note that the standard deviation ($\\sigma$) is simply the variance squared and hence the standard deviation is the square root of the variance.\n",
    "\n",
    "So our data sets can be defined as -\n",
    "\n",
    "- Classroom taught test scores = $N(74, 5^2)$\n",
    "- Online taught test scores = $N(76.7, 8^2)$\n",
    "\n",
    "\n",
    "- Classroom taught attendance = $N(85, 5^2)$\n",
    "- Online taught test scores = $N(83, 7^2)$\n",
    "\n",
    "We can now generate some sample data that matches this in Python as follows -"
   ]
  },
  {
   "cell_type": "code",
   "execution_count": 2,
   "metadata": {},
   "outputs": [],
   "source": [
    "mu_classroom_test = 74\n",
    "sigma_classroom_test = 5\n",
    "n_classroom_test = 30\n",
    "\n",
    "mu_online_test = 76.7\n",
    "sigma_online_test = 8\n",
    "n_online_test = 30"
   ]
  },
  {
   "cell_type": "code",
   "execution_count": 3,
   "metadata": {},
   "outputs": [],
   "source": [
    "np.random.seed(42)\n",
    "\n",
    "# Note that there are 3 common methods for generating normally distributed data in Python.\n",
    "# To demystify this I have given an example of each ...\n",
    "classroom_test_scores_np_randn = sigma_classroom_test * np.random.randn(n_classroom_test) + mu_classroom_test # sigma * np.random.randn(...) + mu\n",
    "classroom_test_scores_np_normal =np.random.normal(loc=mu_classroom_test, scale=sigma_classroom_test, size = n_classroom_test)\n",
    "classroom_test_scores_sp_rvs = stats.norm.rvs(loc=mu_classroom_test, scale=sigma_classroom_test, size = n_classroom_test)"
   ]
  },
  {
   "cell_type": "markdown",
   "metadata": {},
   "source": [
    "However, as scipy is the common choice for statistics in Python I settled on this method to generate our test data ..."
   ]
  },
  {
   "cell_type": "code",
   "execution_count": 4,
   "metadata": {},
   "outputs": [],
   "source": [
    "np.random.seed(42)\n",
    "\n",
    "classroom_test_scores = stats.norm.rvs(loc=mu_classroom_test, scale=sigma_classroom_test, size = n_classroom_test)\n",
    "online_test_scores = stats.norm.rvs(loc=mu_online_test, scale=sigma_online_test, size = n_online_test)"
   ]
  },
  {
   "cell_type": "markdown",
   "metadata": {},
   "source": [
    "Let's take a quick look at the data that has been generated ..."
   ]
  },
  {
   "cell_type": "code",
   "execution_count": 5,
   "metadata": {},
   "outputs": [
    {
     "data": {
      "text/plain": [
       "array([76.48357077, 73.30867849, 77.23844269, 81.61514928, 72.82923313,\n",
       "       72.82931522, 81.89606408, 77.83717365, 71.65262807, 76.71280022,\n",
       "       71.68291154, 71.67135123, 75.20981136, 64.43359878, 65.37541084,\n",
       "       71.18856235, 68.9358444 , 75.57123666, 69.45987962, 66.93848149,\n",
       "       81.32824384, 72.8711185 , 74.33764102, 66.87625907, 71.27808638,\n",
       "       74.55461295, 68.24503211, 75.87849009, 70.99680655, 72.54153125])"
      ]
     },
     "execution_count": 5,
     "metadata": {},
     "output_type": "execute_result"
    }
   ],
   "source": [
    "classroom_test_scores"
   ]
  },
  {
   "cell_type": "code",
   "execution_count": 6,
   "metadata": {},
   "outputs": [
    {
     "data": {
      "text/plain": [
       "array([71.8863471 , 91.51822548, 76.5920222 , 68.23831257, 83.2803593 ,\n",
       "       66.9332508 , 78.37090876, 61.02263901, 66.07451161, 78.27488989,\n",
       "       82.60773264, 78.07094625, 75.77481374, 74.29117044, 64.87182408,\n",
       "       70.94124633, 73.01488983, 85.15697781, 79.44894632, 62.59567876,\n",
       "       79.29267176, 73.61934176, 71.284624  , 81.59341031, 84.94799618,\n",
       "       84.15024095, 69.98625981, 74.22630099, 79.35010745, 84.50436102])"
      ]
     },
     "execution_count": 6,
     "metadata": {},
     "output_type": "execute_result"
    }
   ],
   "source": [
    "online_test_scores"
   ]
  },
  {
   "cell_type": "markdown",
   "metadata": {},
   "source": [
    "Now let's look at it visually ..."
   ]
  },
  {
   "cell_type": "code",
   "execution_count": 7,
   "metadata": {},
   "outputs": [
    {
     "data": {
      "image/png": "[encoded data removed]",
      "text/plain": [
       "<Figure size 432x288 with 1 Axes>"
      ]
     },
     "metadata": {
      "needs_background": "light"
     },
     "output_type": "display_data"
    }
   ],
   "source": [
    "sns.distplot(classroom_test_scores, bins=25, kde=True, color='blue')\n",
    "sns.distplot(online_test_scores, bins=25, kde=True, color='red')\n",
    "plt.show()"
   ]
  },
  {
   "cell_type": "markdown",
   "metadata": {},
   "source": [
    "Interestingly, it doesn't look very normally distributed does it? That is because of the limited number of samples. The bigger the sample size (n) the more the generated (or real world) data will resemble a pure normal distribution, but we have limited data points in our samples and that is why it looks a bit odd.\n",
    "\n",
    "We can visualise a true normal distribution using out means and standard deviations as follows -"
   ]
  },
  {
   "cell_type": "code",
   "execution_count": 8,
   "metadata": {},
   "outputs": [
    {
     "data": {
      "image/png": "[encoded data removed]",
      "text/plain": [
       "<Figure size 432x288 with 1 Axes>"
      ]
     },
     "metadata": {
      "needs_background": "light"
     },
     "output_type": "display_data"
    }
   ],
   "source": [
    "normal_before = stats.norm(loc=mu_classroom_test, scale=sigma_classroom_test) # Generate a normal continuous random variable with mean 74 and standard deviation 8\n",
    "normal_after = stats.norm(loc=mu_online_test, scale=sigma_online_test) # Generate a normal continuous random variable with mean 78 and standard deviation 5\n",
    "x = np.linspace(normal_before.ppf(0.001), normal_before.ppf(0.999), 100) # Generate an x axis with 100 points from 0.1% along the x axis to 99.9% along the x axis\n",
    "sns.lineplot(x,normal_before.pdf(x), color=\"blue\") # Plot the \"before\" normal distribution\n",
    "sns.lineplot(x,normal_after.pdf(x), color=\"red\") # Plot the \"after\" normal distribution\n",
    "plt.show()"
   ]
  },
  {
   "cell_type": "markdown",
   "metadata": {},
   "source": [
    "Also when we consider the two distributions (from the generated data) visually our intuition is telling us that the online test scores (the red distribution) is higher than the classroom based test scores (the blue distribution) as there is a greater area underneath the right hand side of the red graph."
   ]
  },
  {
   "cell_type": "markdown",
   "metadata": {},
   "source": [
    "## Understanding the means in our datasets\n",
    "So clearly our data is not completely accurate because of the limited number of data in each set. We have just 30 data points for the classroom taught test and 30 for the online taught test.\n",
    "\n",
    "What are the true averages (means / $\\mu$). This is where confidence intervals come in.\n",
    "\n",
    "Confidence intervals are described using a terrifying formula, but it is not that complicated when it is broken down and it is easy to implement with an example in Python.\n",
    "\n",
    "Brace yourself, here is the formula -\n",
    "\n",
    "$$CI = \\bar{x} \\pm Z_{\\alpha/2} \\times \\frac{\\sigma}{\\sqrt{n}}$$\n",
    "\n",
    "All this is saying is that the confidence interval is equal to the sample mean ($\\bar{x}$) plus or minus something called the z score ($Z_{\\alpha/2}$) multiplied by the standard deviation ($\\sigma$) divided by the square root of the sample size ($\\sqrt{n}$).\n",
    "\n",
    "If that still looks scary, it is easily explained with examples.\n",
    "\n",
    "The \"z score\" is just the distance from the mean measured in the number of standard deviations. \n",
    "\n",
    "The table below depicts the z-scores necessary for calculating the most commonly used confidence intervals (90%, 95%, and 99%). \n",
    "\n",
    "| CI  | Z-Score |\n",
    "|-----|---------|\n",
    "| 90% | 1.645   |\n",
    "| 95% | 1.96    |\n",
    "| 99% | 2.575   |\n",
    "\n",
    "Alternatively, the z-score can easily be calculated using a little bit of Python -"
   ]
  },
  {
   "cell_type": "code",
   "execution_count": 9,
   "metadata": {},
   "outputs": [
    {
     "name": "stdout",
     "output_type": "stream",
     "text": [
      "z-score for 90% along the x axis is 1.645\n",
      "z-score for 95% along the x axis is 1.96\n",
      "z-score for 99% along the x axis is 2.576\n"
     ]
    }
   ],
   "source": [
    "print(f\"z-score for 90% along the x axis is {round(stats.norm.interval(0.90)[1],3)}\")\n",
    "print(f\"z-score for 95% along the x axis is {round(stats.norm.interval(0.95)[1],3)}\")\n",
    "print(f\"z-score for 99% along the x axis is {round(stats.norm.interval(0.99)[1],3)}\")"
   ]
  },
  {
   "cell_type": "markdown",
   "metadata": {},
   "source": [
    "... and you can visualise what is going on in this diagram. Tthe confidence level of 90%, 95% or 99% is shown across the top and the (magical!) z-score is shown along the x axis measured in the number of standard deviations away from the mean (the centre of the graph) -"
   ]
  },
  {
   "cell_type": "markdown",
   "metadata": {},
   "source": [
    "<img src=\"images/Conf_interval - GH2.png\">"
   ]
  },
  {
   "cell_type": "markdown",
   "metadata": {},
   "source": [
    "Armed with all of this statistical know-how we can make a statement about the upper and lower range of both of our means with a particular confidence level, for example ..."
   ]
  },
  {
   "cell_type": "code",
   "execution_count": 10,
   "metadata": {},
   "outputs": [
    {
     "data": {
      "text/plain": [
       "(71.4489792915286, 74.669551749961)"
      ]
     },
     "execution_count": 10,
     "metadata": {},
     "output_type": "execute_result"
    }
   ],
   "source": [
    "stats.norm.interval(0.95, loc=np.mean(classroom_test_scores), scale=stats.sem(classroom_test_scores))"
   ]
  },
  {
   "cell_type": "code",
   "execution_count": 11,
   "metadata": {},
   "outputs": [
    {
     "data": {
      "text/plain": [
       "(70.94299068659794, 75.17554035489167)"
      ]
     },
     "execution_count": 11,
     "metadata": {},
     "output_type": "execute_result"
    }
   ],
   "source": [
    "stats.norm.interval(0.99, loc=np.mean(classroom_test_scores), scale=stats.sem(classroom_test_scores))"
   ]
  },
  {
   "cell_type": "markdown",
   "metadata": {},
   "source": [
    "This is saying that we can be 95% sure that the true mean of the classroom test scores lies between 71.4 % and 74.7% and we can be 99% sure that the true mean of the classroom test scores lies between 70.9 % and 75.1% (as we increase the confidence level the range will increase - the minimum will get smaller and the maximum larger).\n",
    "\n",
    "Interesting!\n",
    "\n",
    "Now let's take a look at the online test scores ..."
   ]
  },
  {
   "cell_type": "code",
   "execution_count": 12,
   "metadata": {},
   "outputs": [
    {
     "data": {
      "text/plain": [
       "(73.0652240783914, 78.39617639696951)"
      ]
     },
     "execution_count": 12,
     "metadata": {},
     "output_type": "execute_result"
    }
   ],
   "source": [
    "stats.norm.interval(0.95, loc=np.mean(online_test_scores), scale=stats.sem(online_test_scores))"
   ]
  },
  {
   "cell_type": "code",
   "execution_count": 13,
   "metadata": {},
   "outputs": [
    {
     "data": {
      "text/plain": [
       "(72.22767076715732, 79.23372970820358)"
      ]
     },
     "execution_count": 13,
     "metadata": {},
     "output_type": "execute_result"
    }
   ],
   "source": [
    "stats.norm.interval(0.99, loc=np.mean(online_test_scores), scale=stats.sem(online_test_scores))"
   ]
  },
  {
   "cell_type": "markdown",
   "metadata": {},
   "source": [
    "At both the 95% and 99% confidence interval the range of the means of the classroom test and the online test overlaps (71.4% - 74.7% overlaps with 73.1% - 78.4%).\n",
    "\n",
    "Given that these ranges overlap it could possibly be the case that the classroom and online test results have not changed and we just got lucky (or unlucky) with our sampling.\n",
    "\n",
    "We now need to do a bit more work to investigate this is more detail."
   ]
  },
  {
   "cell_type": "markdown",
   "metadata": {},
   "source": [
    "## Hypothesis Testing\n",
    "Hypothesis testing uses statistics to test whether anything statistically significant has changed or not i.e. are our two distributions different because of luck or are they really different?\n",
    "\n",
    "A null hypothesis ($H_0$) is put forward which states that nothing has changed and an alternative hypothesis ($H_1$ or $H_A$) is proposed indicating that something of interest has changed. \n",
    "\n",
    "If the alternative hypothesis is looking for a new state that is either greater than or less than the old state this is called a \"one tailed test\". If it is just looking for a difference regardless of whether it is less than or greater than this is called a \"two tailed test\".\n",
    "\n",
    "For our test scores, our hypotheses are as follows -\n",
    "\n",
    "$H_0$: The two groups (classroom and online) are scoring the same in their tests; nothing has changed\n",
    "\n",
    "$H_A$: The new online teaching method has improved learning and the test scores in the online group are higher than in the classroom group\n",
    "\n",
    "We can visualise the hypothesis test as follows -\n",
    "\n",
    "<img src=\"images/TandP.png\">"
   ]
  },
  {
   "cell_type": "markdown",
   "metadata": {},
   "source": [
    "Here is what it means ...\n",
    "\n",
    "First we pick the confidence level we want for our results. It is common to pick 95% confidence although we can pick 90%, 99% or some other value. The only hard-and-fast rule is to select the confidence level before carrying out any calculations; we must not adjust our results retrospectively just to get a result we wanted or were predisposed towards.\n",
    "\n",
    "When we have picked it, let's say we have gone for 95% confidence, we then calculate the alpha value ($\\alpha$) which is simply 1 - the confidence level so for 95% confidence the alpha value is 0.05.\n",
    "\n",
    "In the graph above an alpha of 0.05 is represented by the yellow shaded area (note: it includes the green shading which is on top of the yellow). \n",
    "\n",
    "A statistical calculation is then used to calculate the p-value represented by the green shaded area.\n",
    "\n",
    "If the p_value is less than the alpha value (i.e. if the green area is to the left of the yellow) we can reject the null hypothesis (that nothing has changed) and instead accept the alternative hypothesis with the chosen level of confidence.\n",
    "\n",
    "One last note: If we have a one-tailed test the p_value generated by the statistical calculation must be divided by 2 as the calculation generates the p-value for both ends of the distribution i.e. it defaults to a two-tailed test.\n",
    "\n",
    "It all sounds much more complicated than it is so let's use our test scores as an example to see just how easy this is in Python ..."
   ]
  },
  {
   "cell_type": "markdown",
   "metadata": {},
   "source": [
    "### Hypothesis Testing for the Test Scores\n",
    "$H_0:$  The test scores for the classroom and online groups have not changed\n",
    "\n",
    "$H_a:$  The test scores for the online group are higher than the test scores for the classroom-based group"
   ]
  },
  {
   "cell_type": "code",
   "execution_count": 14,
   "metadata": {},
   "outputs": [
    {
     "data": {
      "text/plain": [
       "(-1.681343244117311, 0.09807408179921107)"
      ]
     },
     "execution_count": 14,
     "metadata": {},
     "output_type": "execute_result"
    }
   ],
   "source": [
    "t_statistic, p_value = stats.ttest_ind(classroom_test_scores, online_test_scores)\n",
    "t_statistic, p_value"
   ]
  },
  {
   "cell_type": "markdown",
   "metadata": {},
   "source": [
    "In order to interpret the results I am going to write a small function that I can re-use. It is a bit more verbose than the coding style I would usually adopt but I wanted to maximise the readability ..."
   ]
  },
  {
   "cell_type": "code",
   "execution_count": 15,
   "metadata": {},
   "outputs": [],
   "source": [
    "def reject_null_hypothesis(p_value, two_tailed = False, alpha_value=0.05, print_result=True):\n",
    "    if two_tailed == True:\n",
    "        reject = p_value < alpha_value\n",
    "    else:\n",
    "        reject = (p_value / 2) < alpha_value\n",
    "    \n",
    "    if print_result:\n",
    "        print(f\"two_tailed = {two_tailed}\")\n",
    "        if two_tailed == True:\n",
    "            print(f\"p_value = {p_value:.9f}\")\n",
    "        else:\n",
    "            print(f\"(p_value / 2) = {p_value / 2:.9f}\")\n",
    "        print(f\"alpha_value={alpha_value}\")\n",
    "        \n",
    "        if reject == True:\n",
    "              print(f\"The null hypothesis can be rejected with {(1-alpha_value):.0%} confidence and the alternative hypothesis can be accepted\")\n",
    "        else:\n",
    "              print(f\"The null hypothesis cannot be rejected with {(1-alpha_value):.0%} confidence\")\n",
    "              \n",
    "    return reject"
   ]
  },
  {
   "cell_type": "code",
   "execution_count": 16,
   "metadata": {},
   "outputs": [
    {
     "name": "stdout",
     "output_type": "stream",
     "text": [
      "two_tailed = False\n",
      "(p_value / 2) = 0.049037041\n",
      "alpha_value=0.05\n",
      "The null hypothesis can be rejected with 95% confidence and the alternative hypothesis can be accepted\n"
     ]
    },
    {
     "data": {
      "text/plain": [
       "True"
      ]
     },
     "execution_count": 16,
     "metadata": {},
     "output_type": "execute_result"
    }
   ],
   "source": [
    "reject_null_hypothesis(p_value)"
   ]
  },
  {
   "cell_type": "markdown",
   "metadata": {},
   "source": [
    "This result tells us that we can reject the null hypothesis (that nothing has changed) and that with 95% confidence we can accept the alternative hypothesis i.e. that the test scores for the online group are higher than the test scores for the classroom based group.\n",
    "\n",
    "What about our attendance though? It looked like attendance had declined for the online group.\n",
    "\n",
    "We had better see whether this apparent decline was statistically significant or not."
   ]
  },
  {
   "cell_type": "markdown",
   "metadata": {},
   "source": [
    "### Hypothesis Testing for Attendance\n",
    "\n",
    "<img src=\"images/attendance2.jpg\" width=700>\n",
    "\n",
    "$H_0:$  The attendance for the classroom and online groups have not changed\n",
    "\n",
    "$H_a:$  The attendance for the online group is lower than the attendance for the classroom-based group"
   ]
  },
  {
   "cell_type": "code",
   "execution_count": 17,
   "metadata": {},
   "outputs": [],
   "source": [
    "np.random.seed(42)\n",
    "\n",
    "mu_classroom_attendance = 85\n",
    "sigma_classroom_attendance = 5\n",
    "n_classroom_attendance = 100\n",
    "\n",
    "mu_online_attendance = 83\n",
    "sigma_online_attendance = 7\n",
    "n_online_attendance = 100\n",
    "\n",
    "classroom_attendance = stats.norm.rvs(loc=mu_classroom_attendance, scale=sigma_classroom_attendance, size=n_classroom_attendance)\n",
    "online_attendance = stats.norm.rvs(loc=mu_online_attendance, scale=sigma_online_attendance, size=n_online_attendance)"
   ]
  },
  {
   "cell_type": "code",
   "execution_count": 18,
   "metadata": {},
   "outputs": [
    {
     "data": {
      "image/png": "[encoded data removed]",
      "text/plain": [
       "<Figure size 432x288 with 1 Axes>"
      ]
     },
     "metadata": {
      "needs_background": "light"
     },
     "output_type": "display_data"
    }
   ],
   "source": [
    "sns.distplot(classroom_attendance, bins=25, kde=True, color='blue')\n",
    "sns.distplot(online_attendance, bins=25, kde=True, color='red')\n",
    "plt.show()"
   ]
  },
  {
   "cell_type": "code",
   "execution_count": 19,
   "metadata": {},
   "outputs": [
    {
     "data": {
      "text/plain": [
       "(1.6406874755230665, 0.10244989280783035)"
      ]
     },
     "execution_count": 19,
     "metadata": {},
     "output_type": "execute_result"
    }
   ],
   "source": [
    "t_statistic, p_value = stats.ttest_ind(classroom_attendance, online_attendance)\n",
    "t_statistic, p_value"
   ]
  },
  {
   "cell_type": "code",
   "execution_count": 20,
   "metadata": {},
   "outputs": [
    {
     "name": "stdout",
     "output_type": "stream",
     "text": [
      "two_tailed = False\n",
      "(p_value / 2) = 0.051224946\n",
      "alpha_value=0.05\n",
      "The null hypothesis cannot be rejected with 95% confidence\n"
     ]
    },
    {
     "data": {
      "text/plain": [
       "False"
      ]
     },
     "execution_count": 20,
     "metadata": {},
     "output_type": "execute_result"
    }
   ],
   "source": [
    "reject_null_hypothesis(p_value)"
   ]
  },
  {
   "cell_type": "markdown",
   "metadata": {},
   "source": [
    "So, the null hypothesis cannot be rejected and we must accept, with 95% confidence, that the attendance has not changed and is not lower for the online group than for the classroom-taught group."
   ]
  },
  {
   "cell_type": "markdown",
   "metadata": {},
   "source": [
    "# Conclusion\n",
    "Well, isn't that interesting?!\n",
    "\n",
    "For starters the statistics and maths around confidence intervals for means and hypothesis testing turns out to be fairly straight-forward, especially when we realise that it can all be achieved in just a few lines of Python in a Jupyter notebook.\n",
    "\n",
    "Secondly we have worked through an example to show just how easy and also how important it is to apply some theory and not to rely solely on intuition.\n",
    "\n",
    "Using intuition alone we may have concluded that the test scores have not increased for online learning and that student attendance was worse.\n",
    "\n",
    "However, when we applied the statistics and data science and by using confidence intervals and hypothesis testing we were able to conclude the following (with 95% confidence) -\n",
    "\n",
    "- The test results of the online group are higher than the test results for the classroom taught group\n",
    "- The attendance of the online group is not lower than the attendance of the classroom taught group\n",
    "\n",
    "If this were a real world example I would be tempted to increase and not decrease the amount of online learning as based on the metrics we have considered the student outcomes have improved.\n",
    "\n",
    "Again if this were a real world example I would want to increase the sample size, make sure that all other factors were equal, collect some qualitative data from students (like surveys results) and look for other relevant metrics like student mental health and wellbeing etc.\n",
    "\n",
    "I would conclude (again if this were a real world example) that contrary to my initial intuitive view (based on a quick look at the charts) there are benefits to student outcomes of online learning over the classroom equivalent that should be explored in more detail and if possible exported to other courses and curriculum areas."
   ]
  }
 ],
 "metadata": {
  "kernelspec": {
   "display_name": "Python 3",
   "language": "python",
   "name": "python3"
  },
  "language_info": {
   "codemirror_mode": {
    "name": "ipython",
    "version": 3
   },
   "file_extension": ".py",
   "mimetype": "text/x-python",
   "name": "python",
   "nbconvert_exporter": "python",
   "pygments_lexer": "ipython3",
   "version": "3.8.5"
  }
 },
 "nbformat": 4,
 "nbformat_minor": 2
}
