{
 "cells": [
  {
   "cell_type": "markdown",
   "metadata": {},
   "source": [
    "# Confidence Interval Formulae"
   ]
  },
  {
   "cell_type": "code",
   "execution_count": 2,
   "metadata": {},
   "outputs": [],
   "source": [
    "from ipywidgets import interact, interactive, fixed, interact_manual\n",
    "import ipywidgets as widgets"
   ]
  },
  {
   "cell_type": "markdown",
   "metadata": {},
   "source": [
    "## 1. Confidence Interval Formula for Normal Distributions\n",
    "\n",
    "$$CI = \\bar{x} \\pm Z_{\\alpha/2} \\times \\frac{\\sigma}{\\sqrt{n}}$$\n",
    "\n",
    "where ...\n",
    "- $CI$ = the confidence interval\n",
    "- $\\bar{x}$ = the mean of the sample \n",
    "- $Z_{\\alpha/2}$ = the z-score for the required confidence interval e.g. 95% confidence = 1.96 z-score\n",
    "- $\\sigma$ = the standard distribution of the sample\n",
    "- $n$ = the sample size"
   ]
  },
  {
   "cell_type": "markdown",
   "metadata": {},
   "source": [
    "## 2. Confidence Interval Formula for Binomial Distributions\n",
    "\n",
    "$$CI = p \\pm Z_{\\alpha/2} \\sqrt{ \\frac{p(1-p)}{\\sqrt{n}}  }$$\n",
    "\n",
    "where ...\n",
    "- $CI$ = the confidence interval\n",
    "- $p$ = the probability of the poll e.g. 58% of those polled voted for candidate XYZ\n",
    "- $Z_{\\alpha/2}$ = the z-score for the required confidence interval e.g. 95% confidence = 1.96 z-score\n",
    "- $n$ = the sample size"
   ]
  },
  {
   "cell_type": "code",
   "execution_count": null,
   "metadata": {},
   "outputs": [],
   "source": [
    "widgets.BoundedIntText(value=7,min=0,max=10,step=1,description='Text:',disabled=False)"
   ]
  },
  {
   "cell_type": "code",
   "execution_count": 24,
   "metadata": {},
   "outputs": [],
   "source": [
    "sample_box = widgets.BoundedIntText(\n",
    "    value=7,\n",
    "    min=0,\n",
    "    max=10,\n",
    "    step=1,\n",
    "    description='Sample Size:',\n",
    "    disabled=False\n",
    ")\n",
    "\n",
    "test = widgets.IntText(\n",
    "    value=7,\n",
    "    description='Sample Size:',\n",
    "    disabled=False\n",
    ")"
   ]
  },
  {
   "cell_type": "markdown",
   "metadata": {},
   "source": [
    "https://ipywidgets.readthedocs.io/en/stable/examples/Widget%20List.html\n",
    "\n",
    "https://ipywidgets.readthedocs.io/en/stable/examples/Using%20Interact.html"
   ]
  },
  {
   "cell_type": "code",
   "execution_count": 25,
   "metadata": {},
   "outputs": [
    {
     "data": {
      "application/vnd.jupyter.widget-view+json": {
       "model_id": "6205e78aa228451496ab8f1a136dfd06",
       "version_major": 2,
       "version_minor": 0
      },
      "text/plain": [
       "interactive(children=(FloatSlider(value=1000.0, description='x_bar', max=10000.0, step=10.0), IntSlider(value=…"
      ]
     },
     "metadata": {},
     "output_type": "display_data"
    }
   ],
   "source": [
    "@interact_manual(x_bar=(0.0,10000.0,10.0), confidence_level=(50, 99,1), sigma=(0.0,10000.0,1.0), sample_size=test)\n",
    "def confidence_interval_normal(x_bar=1000, confidence_level=96, sigma=0, sample_size=30):\n",
    "    print(sample_size)"
   ]
  },
  {
   "cell_type": "code",
   "execution_count": 9,
   "metadata": {},
   "outputs": [
    {
     "data": {
      "application/vnd.jupyter.widget-view+json": {
       "model_id": "b2f85ae370f94cae953dac635b9ad3ad",
       "version_major": 2,
       "version_minor": 0
      },
      "text/plain": [
       "interactive(children=(FloatSlider(value=5000.0, description='x_bar', max=10000.0), IntSlider(value=74, descrip…"
      ]
     },
     "metadata": {},
     "output_type": "display_data"
    }
   ],
   "source": [
    "@interact_manual\n",
    "def confidence_interval_normal(x_bar=(0.0,10000.0), \n",
    "                               confidence_level=(50, 99),\n",
    "                               sigma=(0.0,10000.0),\n",
    "                               sample_size=(0,10000.0)):\n",
    "    print(\"hello\")"
   ]
  },
  {
   "cell_type": "code",
   "execution_count": 26,
   "metadata": {},
   "outputs": [],
   "source": [
    "def f(x):\n",
    "    return x"
   ]
  },
  {
   "cell_type": "code",
   "execution_count": 28,
   "metadata": {},
   "outputs": [
    {
     "data": {
      "application/vnd.jupyter.widget-view+json": {
       "model_id": "863c50f4e4bb476ca256eca8bd973b1e",
       "version_major": 2,
       "version_minor": 0
      },
      "text/plain": [
       "interactive(children=(IntSlider(value=10, description='x', max=30, min=-10), Button(description='Run Interact'…"
      ]
     },
     "metadata": {},
     "output_type": "display_data"
    }
   ],
   "source": [
    "interact_manual(f, x=10);"
   ]
  }
 ],
 "metadata": {
  "kernelspec": {
   "display_name": "Python 3",
   "language": "python",
   "name": "python3"
  },
  "language_info": {
   "codemirror_mode": {
    "name": "ipython",
    "version": 3
   },
   "file_extension": ".py",
   "mimetype": "text/x-python",
   "name": "python",
   "nbconvert_exporter": "python",
   "pygments_lexer": "ipython3",
   "version": "3.8.5"
  }
 },
 "nbformat": 4,
 "nbformat_minor": 4
}
