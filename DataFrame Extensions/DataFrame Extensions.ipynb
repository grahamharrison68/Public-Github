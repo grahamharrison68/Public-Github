{
 "cells": [
  {
   "cell_type": "markdown",
   "metadata": {},
   "source": [
    "# How to Extend Pandas DataFrames with Custom Methods to Supercharge Code Functionality and Readability"
   ]
  },
  {
   "cell_type": "markdown",
   "metadata": {},
   "source": [
    "## A step-by-step guide to extending pandas DataFrames with custom methods including full examples of how to implement extensions for conditional probability and expected values"
   ]
  },
  {
   "cell_type": "markdown",
   "metadata": {},
   "source": [
    "![Alt text](markus-spiske-hvSr_CVecVI-unsplash-1.jpg)\n",
    "Photo by <a href=\"https://unsplash.com/@markusspiske?utm_source=unsplash&utm_medium=referral&utm_content=creditCopyText\">Markus Spiske</a> on <a href=\"https://unsplash.com/photos/hvSr_CVecVI?utm_source=unsplash&utm_medium=referral&utm_content=creditCopyText\">Unsplash</a>\n",
    "  "
   ]
  },
  {
   "cell_type": "markdown",
   "metadata": {},
   "source": [
    "### The Problem\n",
    "Pandas dataframes come with a wide range of in-built functions, but there are always new ways that Python programmers will want to interrogate and transform their data.\n",
    "\n",
    "### The Opportunity\n",
    "A common approach is to write functions and pass the dataframes as parameters but this can become unwieldly whereas the optimum approach would be to add new methods and properties directly to the pandas classes.\n",
    "\n",
    "### The Way Forward\n",
    "It is very easy to extend the functionality classes in pandas or any other library with custom methods and properties producing code which is easy to read, understand and re-use."
   ]
  },
  {
   "cell_type": "markdown",
   "metadata": {},
   "source": [
    "## Background\n",
    "\n",
    "I had been writing some code for a causal inference library that involved some complex data operations and the constant calls out to functions made the code difficult to read and understnad.\n",
    "\n",
    "I hit on the idea that if pandas DataFrames did the things that I was writing functions for natively the code would become clean, simple and easy to understand and it was only a small jump from there to finding out how to extend pandas myself."
   ]
  },
  {
   "cell_type": "markdown",
   "metadata": {},
   "source": [
    "## Solution\n",
    "\n",
    "The first function I wanted to implement was probability and conditional probability. Let us consider the following dataset ..."
   ]
  },
  {
   "cell_type": "code",
   "execution_count": 2,
   "metadata": {},
   "outputs": [],
   "source": [
    "import pandas as pd\n",
    "import re\n",
    "from icecream import ic\n",
    "\n",
    "import sys\n",
    "sys.path.insert(1, r'C:\\\\Users\\\\GHarr\\\\OneDrive - Lincoln College\\\\Python Projects\\Data Science\\\\ghlibrary')\n",
    "\n",
    "# pylint: disable=import-error, unused-import\n",
    "from synthetic_tools import SampleBinaryDatasets\n",
    "\n",
    "ic.disable()"
   ]
  },
  {
   "cell_type": "code",
   "execution_count": 3,
   "metadata": {},
   "outputs": [
    {
     "data": {
      "text/html": [
       "<div>\n",
       "<style scoped>\n",
       "    .dataframe tbody tr th:only-of-type {\n",
       "        vertical-align: middle;\n",
       "    }\n",
       "\n",
       "    .dataframe tbody tr th {\n",
       "        vertical-align: top;\n",
       "    }\n",
       "\n",
       "    .dataframe thead th {\n",
       "        text-align: right;\n",
       "    }\n",
       "</style>\n",
       "<table border=\"1\" class=\"dataframe\">\n",
       "  <thead>\n",
       "    <tr style=\"text-align: right;\">\n",
       "      <th></th>\n",
       "      <th>training</th>\n",
       "      <th>skills</th>\n",
       "      <th>income</th>\n",
       "    </tr>\n",
       "  </thead>\n",
       "  <tbody>\n",
       "    <tr>\n",
       "      <th>0</th>\n",
       "      <td>1</td>\n",
       "      <td>1</td>\n",
       "      <td>1</td>\n",
       "    </tr>\n",
       "    <tr>\n",
       "      <th>1</th>\n",
       "      <td>0</td>\n",
       "      <td>0</td>\n",
       "      <td>1</td>\n",
       "    </tr>\n",
       "    <tr>\n",
       "      <th>2</th>\n",
       "      <td>1</td>\n",
       "      <td>1</td>\n",
       "      <td>1</td>\n",
       "    </tr>\n",
       "    <tr>\n",
       "      <th>3</th>\n",
       "      <td>1</td>\n",
       "      <td>1</td>\n",
       "      <td>1</td>\n",
       "    </tr>\n",
       "    <tr>\n",
       "      <th>4</th>\n",
       "      <td>0</td>\n",
       "      <td>0</td>\n",
       "      <td>0</td>\n",
       "    </tr>\n",
       "    <tr>\n",
       "      <th>...</th>\n",
       "      <td>...</td>\n",
       "      <td>...</td>\n",
       "      <td>...</td>\n",
       "    </tr>\n",
       "    <tr>\n",
       "      <th>795</th>\n",
       "      <td>1</td>\n",
       "      <td>1</td>\n",
       "      <td>1</td>\n",
       "    </tr>\n",
       "    <tr>\n",
       "      <th>796</th>\n",
       "      <td>1</td>\n",
       "      <td>1</td>\n",
       "      <td>0</td>\n",
       "    </tr>\n",
       "    <tr>\n",
       "      <th>797</th>\n",
       "      <td>0</td>\n",
       "      <td>0</td>\n",
       "      <td>0</td>\n",
       "    </tr>\n",
       "    <tr>\n",
       "      <th>798</th>\n",
       "      <td>1</td>\n",
       "      <td>0</td>\n",
       "      <td>1</td>\n",
       "    </tr>\n",
       "    <tr>\n",
       "      <th>799</th>\n",
       "      <td>0</td>\n",
       "      <td>0</td>\n",
       "      <td>0</td>\n",
       "    </tr>\n",
       "  </tbody>\n",
       "</table>\n",
       "<p>800 rows × 3 columns</p>\n",
       "</div>"
      ],
      "text/plain": [
       "     training  skills  income\n",
       "0           1       1       1\n",
       "1           0       0       1\n",
       "2           1       1       1\n",
       "3           1       1       1\n",
       "4           0       0       0\n",
       "..        ...     ...     ...\n",
       "795         1       1       1\n",
       "796         1       1       0\n",
       "797         0       0       0\n",
       "798         1       0       1\n",
       "799         0       0       0\n",
       "\n",
       "[800 rows x 3 columns]"
      ]
     },
     "execution_count": 3,
     "metadata": {},
     "output_type": "execute_result"
    }
   ],
   "source": [
    "df_training = SampleBinaryDatasets(population_size=800, abbreviated=False).training_dataset().data\n",
    "df_training"
   ]
  },
  {
   "cell_type": "markdown",
   "metadata": {},
   "source": [
    "This is a synthetic dataset that captures the relationship between training, skills and income with each row representing an individual who either trained (or did not), acquired skills (or did not) and increased their income (or did not).\n",
    "\n",
    "It would be very useful to know - given our data what is the probability that training was received. This can be expressed as a mathematical formula as follows ...\n",
    "\n",
    "$$\n",
    "\\mathbb{P}(training=1)\n",
    "$$\n",
    "\n",
    "... which means \"the probability that training = 1\"."
   ]
  },
  {
   "cell_type": "markdown",
   "metadata": {},
   "source": [
    "The traditional way of working this out would be to write specific code to filter the ``DataFrame`` down to just the rows where ``training==`` and count the rows in the filter as a proportion of the overall data ..."
   ]
  },
  {
   "cell_type": "code",
   "execution_count": 9,
   "metadata": {},
   "outputs": [
    {
     "data": {
      "text/plain": [
       "0.5"
      ]
     },
     "execution_count": 9,
     "metadata": {},
     "output_type": "execute_result"
    }
   ],
   "source": [
    "training_filter = df_training[\"training\"]==1\n",
    "df_training[training_filter].shape[0] / df_training.shape[0]"
   ]
  },
  {
   "cell_type": "markdown",
   "metadata": {},
   "source": [
    "This is fairly straightforward but specific code has to be written every time and it is not immediately obvious that this code related to a probability. Wouldn't it be much better if we could simple write ``df_training.probability(\"p(training=1)\")``?\n",
    "\n",
    "Well, it turns out that this can be done in just 6 lines of code for any probability or conditional probability!"
   ]
  },
  {
   "cell_type": "code",
   "execution_count": 53,
   "metadata": {},
   "outputs": [],
   "source": [
    "VARIABLE_REGEX: str = r'[a-zA-Z0-9_ \"\\']+'\n",
    "OPERATOR_REGEX: str = r'=|<|<=|>|>=|!='\n",
    "VALUE_REGEX: str = r'\\'[^\\']*\\'|\\\"[^\\\"]*\\\"|-?\\d+\\.?\\d*'\n",
    "ASSIGNMENT_REGEX: str = fr'\\s*({VARIABLE_REGEX})\\s*({OPERATOR_REGEX})\\s*({VALUE_REGEX})'\n",
    "PROB_REGEX: str = r'(?i)^p\\(([^|]+)(?:\\s*\\|\\s*)?(.*)?\\)$'\n",
    "\n",
    "def _filter_dataset(data: pd.DataFrame, expression: str) -> pd.DataFrame:\n",
    "    filter_expr = pd.Series(True, index=data.index) if expression == \"\" else eval(\" & \".join([f\"(data['{filter[0].strip()}'] {'==' if filter[1] == '=' else filter[1]} {filter[2]})\" for filter in re.findall(ASSIGNMENT_REGEX, expression)]))\n",
    "    return data[filter_expr]\n",
    "\n",
    "def probability(self: pd.DataFrame, expression: str) -> float:\n",
    "    parse_probability_expr = re.findall(PROB_REGEX, expression) # Parses \"p(A=5, B=6)\" into [('A=5, B=6', '')] or \"p(A=5, B=6 | X=1, Y=2)\" into [('A=5, B=6 ', 'X=1, Y=2')]\n",
    "\n",
    "    df_events = _filter_dataset(self, parse_probability_expr[0][1].strip()) # Calculate a filtered dataset based on the events i.e. after the \"|\" (or the whole dataset if there is nothing conditional i.e. no \"|\")\n",
    "    df_outcome = _filter_dataset(df_events, parse_probability_expr[0][0].strip()) # Calculate a filtered dataset based on the outcome\n",
    "\n",
    "    return 0 if len(df_events) == 0 else df_outcome.shape[0] / df_events.shape[0] # The probability is then simply the number of rows in the outcome dataset divided by the number of rows in the events dataset\n",
    "\n",
    "pd.DataFrame.probability = probability # Assigns the extension method to pd.DataFrame so it can be invoked just like any other native DataFrame method\n"
   ]
  },
  {
   "cell_type": "code",
   "execution_count": 46,
   "metadata": {},
   "outputs": [
    {
     "data": {
      "text/plain": [
       "[('training', '=', '1')]"
      ]
     },
     "execution_count": 46,
     "metadata": {},
     "output_type": "execute_result"
    }
   ],
   "source": [
    "expression = \"training=1\"\n",
    "\n",
    "re.findall(ASSIGNMENT_REGEX, expression)"
   ]
  },
  {
   "cell_type": "code",
   "execution_count": 47,
   "metadata": {},
   "outputs": [
    {
     "data": {
      "text/plain": [
       "0       True\n",
       "1      False\n",
       "2       True\n",
       "3       True\n",
       "4      False\n",
       "       ...  \n",
       "795     True\n",
       "796     True\n",
       "797    False\n",
       "798     True\n",
       "799    False\n",
       "Name: training, Length: 800, dtype: bool"
      ]
     },
     "execution_count": 47,
     "metadata": {},
     "output_type": "execute_result"
    }
   ],
   "source": [
    "data = df_training\n",
    "filter_expr = pd.Series(True, index=data.index) if expression == \"\" else eval(\" & \".join([f\"(data['{filter[0].strip()}'] {'==' if filter[1] == '=' else filter[1]} {filter[2]})\" for filter in re.findall(ASSIGNMENT_REGEX, expression)]))\n",
    "filter_expr"
   ]
  },
  {
   "cell_type": "code",
   "execution_count": 48,
   "metadata": {},
   "outputs": [
    {
     "data": {
      "text/plain": [
       "[('skills=1 ', 'training=0')]"
      ]
     },
     "execution_count": 48,
     "metadata": {},
     "output_type": "execute_result"
    }
   ],
   "source": [
    "expression = \"p(skills=1 | training=0)\"\n",
    "parse_probability_expr = re.findall(PROB_REGEX, expression)\n",
    "\n",
    "parse_probability_expr"
   ]
  },
  {
   "cell_type": "code",
   "execution_count": 55,
   "metadata": {},
   "outputs": [
    {
     "data": {
      "text/plain": [
       "'training=0'"
      ]
     },
     "execution_count": 55,
     "metadata": {},
     "output_type": "execute_result"
    }
   ],
   "source": [
    "parse_probability_expr[0][1].strip()"
   ]
  },
  {
   "cell_type": "code",
   "execution_count": 57,
   "metadata": {},
   "outputs": [
    {
     "data": {
      "text/html": [
       "<div>\n",
       "<style scoped>\n",
       "    .dataframe tbody tr th:only-of-type {\n",
       "        vertical-align: middle;\n",
       "    }\n",
       "\n",
       "    .dataframe tbody tr th {\n",
       "        vertical-align: top;\n",
       "    }\n",
       "\n",
       "    .dataframe thead th {\n",
       "        text-align: right;\n",
       "    }\n",
       "</style>\n",
       "<table border=\"1\" class=\"dataframe\">\n",
       "  <thead>\n",
       "    <tr style=\"text-align: right;\">\n",
       "      <th></th>\n",
       "      <th>training</th>\n",
       "      <th>skills</th>\n",
       "      <th>income</th>\n",
       "    </tr>\n",
       "  </thead>\n",
       "  <tbody>\n",
       "    <tr>\n",
       "      <th>1</th>\n",
       "      <td>0</td>\n",
       "      <td>0</td>\n",
       "      <td>1</td>\n",
       "    </tr>\n",
       "    <tr>\n",
       "      <th>4</th>\n",
       "      <td>0</td>\n",
       "      <td>0</td>\n",
       "      <td>0</td>\n",
       "    </tr>\n",
       "    <tr>\n",
       "      <th>5</th>\n",
       "      <td>0</td>\n",
       "      <td>0</td>\n",
       "      <td>0</td>\n",
       "    </tr>\n",
       "    <tr>\n",
       "      <th>8</th>\n",
       "      <td>0</td>\n",
       "      <td>0</td>\n",
       "      <td>0</td>\n",
       "    </tr>\n",
       "    <tr>\n",
       "      <th>12</th>\n",
       "      <td>0</td>\n",
       "      <td>0</td>\n",
       "      <td>0</td>\n",
       "    </tr>\n",
       "  </tbody>\n",
       "</table>\n",
       "</div>"
      ],
      "text/plain": [
       "    training  skills  income\n",
       "1          0       0       1\n",
       "4          0       0       0\n",
       "5          0       0       0\n",
       "8          0       0       0\n",
       "12         0       0       0"
      ]
     },
     "execution_count": 57,
     "metadata": {},
     "output_type": "execute_result"
    }
   ],
   "source": [
    "df_events = _filter_dataset(df_training, parse_probability_expr[0][1].strip())\n",
    "df_events.head()"
   ]
  },
  {
   "cell_type": "code",
   "execution_count": 56,
   "metadata": {},
   "outputs": [
    {
     "data": {
      "text/plain": [
       "'skills=1'"
      ]
     },
     "execution_count": 56,
     "metadata": {},
     "output_type": "execute_result"
    }
   ],
   "source": [
    "parse_probability_expr[0][0].strip()"
   ]
  },
  {
   "cell_type": "code",
   "execution_count": 58,
   "metadata": {},
   "outputs": [],
   "source": [
    "df_outcome = _filter_dataset(df_events, parse_probability_expr[0][0].strip())"
   ]
  },
  {
   "cell_type": "code",
   "execution_count": 45,
   "metadata": {},
   "outputs": [
    {
     "data": {
      "text/html": [
       "<div>\n",
       "<style scoped>\n",
       "    .dataframe tbody tr th:only-of-type {\n",
       "        vertical-align: middle;\n",
       "    }\n",
       "\n",
       "    .dataframe tbody tr th {\n",
       "        vertical-align: top;\n",
       "    }\n",
       "\n",
       "    .dataframe thead th {\n",
       "        text-align: right;\n",
       "    }\n",
       "</style>\n",
       "<table border=\"1\" class=\"dataframe\">\n",
       "  <thead>\n",
       "    <tr style=\"text-align: right;\">\n",
       "      <th></th>\n",
       "      <th>training</th>\n",
       "      <th>skills</th>\n",
       "      <th>income</th>\n",
       "    </tr>\n",
       "  </thead>\n",
       "  <tbody>\n",
       "    <tr>\n",
       "      <th>0</th>\n",
       "      <td>1</td>\n",
       "      <td>1</td>\n",
       "      <td>1</td>\n",
       "    </tr>\n",
       "    <tr>\n",
       "      <th>2</th>\n",
       "      <td>1</td>\n",
       "      <td>1</td>\n",
       "      <td>1</td>\n",
       "    </tr>\n",
       "    <tr>\n",
       "      <th>3</th>\n",
       "      <td>1</td>\n",
       "      <td>1</td>\n",
       "      <td>1</td>\n",
       "    </tr>\n",
       "    <tr>\n",
       "      <th>6</th>\n",
       "      <td>1</td>\n",
       "      <td>1</td>\n",
       "      <td>1</td>\n",
       "    </tr>\n",
       "    <tr>\n",
       "      <th>7</th>\n",
       "      <td>1</td>\n",
       "      <td>1</td>\n",
       "      <td>1</td>\n",
       "    </tr>\n",
       "    <tr>\n",
       "      <th>...</th>\n",
       "      <td>...</td>\n",
       "      <td>...</td>\n",
       "      <td>...</td>\n",
       "    </tr>\n",
       "    <tr>\n",
       "      <th>791</th>\n",
       "      <td>1</td>\n",
       "      <td>1</td>\n",
       "      <td>1</td>\n",
       "    </tr>\n",
       "    <tr>\n",
       "      <th>794</th>\n",
       "      <td>1</td>\n",
       "      <td>1</td>\n",
       "      <td>0</td>\n",
       "    </tr>\n",
       "    <tr>\n",
       "      <th>795</th>\n",
       "      <td>1</td>\n",
       "      <td>1</td>\n",
       "      <td>1</td>\n",
       "    </tr>\n",
       "    <tr>\n",
       "      <th>796</th>\n",
       "      <td>1</td>\n",
       "      <td>1</td>\n",
       "      <td>0</td>\n",
       "    </tr>\n",
       "    <tr>\n",
       "      <th>798</th>\n",
       "      <td>1</td>\n",
       "      <td>0</td>\n",
       "      <td>1</td>\n",
       "    </tr>\n",
       "  </tbody>\n",
       "</table>\n",
       "<p>400 rows × 3 columns</p>\n",
       "</div>"
      ],
      "text/plain": [
       "     training  skills  income\n",
       "0           1       1       1\n",
       "2           1       1       1\n",
       "3           1       1       1\n",
       "6           1       1       1\n",
       "7           1       1       1\n",
       "..        ...     ...     ...\n",
       "791         1       1       1\n",
       "794         1       1       0\n",
       "795         1       1       1\n",
       "796         1       1       0\n",
       "798         1       0       1\n",
       "\n",
       "[400 rows x 3 columns]"
      ]
     },
     "execution_count": 45,
     "metadata": {},
     "output_type": "execute_result"
    }
   ],
   "source": [
    "data[filter_expr]"
   ]
  },
  {
   "cell_type": "code",
   "execution_count": 54,
   "metadata": {},
   "outputs": [
    {
     "data": {
      "text/plain": [
       "0.5"
      ]
     },
     "execution_count": 54,
     "metadata": {},
     "output_type": "execute_result"
    }
   ],
   "source": [
    "df_training.probability(\"p(training=1)\")"
   ]
  },
  {
   "cell_type": "code",
   "execution_count": 37,
   "metadata": {},
   "outputs": [
    {
     "data": {
      "text/plain": [
       "0.05"
      ]
     },
     "execution_count": 37,
     "metadata": {},
     "output_type": "execute_result"
    }
   ],
   "source": [
    "df_training.probability(\"p(skills=1 | training=0)\")"
   ]
  },
  {
   "cell_type": "code",
   "execution_count": 6,
   "metadata": {},
   "outputs": [
    {
     "data": {
      "text/plain": [
       "0.95"
      ]
     },
     "execution_count": 6,
     "metadata": {},
     "output_type": "execute_result"
    }
   ],
   "source": [
    "df_training.probability(\"p(skills=1 | training=1)\")"
   ]
  },
  {
   "cell_type": "code",
   "execution_count": 7,
   "metadata": {},
   "outputs": [
    {
     "data": {
      "text/plain": [
       "0.9025"
      ]
     },
     "execution_count": 7,
     "metadata": {},
     "output_type": "execute_result"
    }
   ],
   "source": [
    "df_training.probability(\"p(income=1 | training=1)\")"
   ]
  },
  {
   "cell_type": "code",
   "execution_count": 8,
   "metadata": {},
   "outputs": [
    {
     "data": {
      "text/plain": [
       "0.1475"
      ]
     },
     "execution_count": 8,
     "metadata": {},
     "output_type": "execute_result"
    }
   ],
   "source": [
    "df_training.probability(\"p(income=1 | training=0)\")"
   ]
  },
  {
   "cell_type": "code",
   "execution_count": 21,
   "metadata": {},
   "outputs": [
    {
     "data": {
      "text/plain": [
       "0.1"
      ]
     },
     "execution_count": 21,
     "metadata": {},
     "output_type": "execute_result"
    }
   ],
   "source": [
    "df_training.probability(\"p(income=1 | training=0, skills=1)\")"
   ]
  },
  {
   "cell_type": "code",
   "execution_count": 32,
   "metadata": {},
   "outputs": [],
   "source": [
    "EXPECT_REGEX: str = r'(?i)^e\\[([^|]+)(?:\\s*\\|\\s*)?(.*)?\\]$'\n",
    "\n",
    "def expected(self: pd.DataFrame, expression: str) -> float:\n",
    "    \"\"\"Calculates the expected value or conditional expected value of a DataFrame given a string expression\n",
    "\n",
    "        Args:\n",
    "            expression (str): The string expression\n",
    "\n",
    "        Returns:\n",
    "            float: The expected value\n",
    "\n",
    "        Examples:\n",
    "            >>> df.expected_value(\"E[D]\")\n",
    "            >>> 4.412406593060421\n",
    "\n",
    "            >>> df.expected(\"E[D| G >= 3, E > 2]\")\n",
    "            >>> 1.9753517006699204\n",
    "        \"\"\"\n",
    "    parse_expected_expr = re.findall(EXPECT_REGEX, expression)\n",
    "    df_events = _filter_dataset(self, parse_expected_expr[0][1].strip()) # Calculate a filtered dataset based on the events i.e. after the \"|\" (or the whole dataset if there is nothing conditional i.e. no \"|\")\n",
    "\n",
    "    return 0 if len(df_events) == 0 else df_events[parse_expected_expr[0][0].strip()].mean() # Calculate the expected value based on the filtered dataset\n",
    "\n",
    "pd.DataFrame.expected = expected"
   ]
  },
  {
   "cell_type": "code",
   "execution_count": 10,
   "metadata": {},
   "outputs": [],
   "source": [
    "from dag_tools import DirectedAcyclicGraph\n",
    "from causal_tools import CausalModel"
   ]
  },
  {
   "cell_type": "code",
   "execution_count": 18,
   "metadata": {},
   "outputs": [
    {
     "data": {
      "text/html": [
       "<div>\n",
       "<style scoped>\n",
       "    .dataframe tbody tr th:only-of-type {\n",
       "        vertical-align: middle;\n",
       "    }\n",
       "\n",
       "    .dataframe tbody tr th {\n",
       "        vertical-align: top;\n",
       "    }\n",
       "\n",
       "    .dataframe thead th {\n",
       "        text-align: right;\n",
       "    }\n",
       "</style>\n",
       "<table border=\"1\" class=\"dataframe\">\n",
       "  <thead>\n",
       "    <tr style=\"text-align: right;\">\n",
       "      <th></th>\n",
       "      <th>D</th>\n",
       "      <th>F</th>\n",
       "      <th>G</th>\n",
       "      <th>A</th>\n",
       "      <th>C</th>\n",
       "      <th>B</th>\n",
       "      <th>E</th>\n",
       "      <th>X</th>\n",
       "      <th>Y</th>\n",
       "    </tr>\n",
       "  </thead>\n",
       "  <tbody>\n",
       "    <tr>\n",
       "      <th>0</th>\n",
       "      <td>5.634316</td>\n",
       "      <td>1.399732</td>\n",
       "      <td>2.035583</td>\n",
       "      <td>9.914077</td>\n",
       "      <td>-24.214419</td>\n",
       "      <td>44.195973</td>\n",
       "      <td>-75.865578</td>\n",
       "      <td>-342.413180</td>\n",
       "      <td>-604.177195</td>\n",
       "    </tr>\n",
       "    <tr>\n",
       "      <th>1</th>\n",
       "      <td>7.341857</td>\n",
       "      <td>0.031668</td>\n",
       "      <td>4.376354</td>\n",
       "      <td>15.308372</td>\n",
       "      <td>-22.692390</td>\n",
       "      <td>29.534663</td>\n",
       "      <td>-68.266770</td>\n",
       "      <td>-199.271975</td>\n",
       "      <td>-613.181989</td>\n",
       "    </tr>\n",
       "    <tr>\n",
       "      <th>2</th>\n",
       "      <td>3.914095</td>\n",
       "      <td>2.636184</td>\n",
       "      <td>4.140724</td>\n",
       "      <td>6.044142</td>\n",
       "      <td>-15.317655</td>\n",
       "      <td>21.067061</td>\n",
       "      <td>-48.658849</td>\n",
       "      <td>-163.918270</td>\n",
       "      <td>-470.942156</td>\n",
       "    </tr>\n",
       "    <tr>\n",
       "      <th>3</th>\n",
       "      <td>3.914127</td>\n",
       "      <td>2.046147</td>\n",
       "      <td>3.231601</td>\n",
       "      <td>8.811971</td>\n",
       "      <td>-16.196070</td>\n",
       "      <td>22.381185</td>\n",
       "      <td>-47.754029</td>\n",
       "      <td>-185.314511</td>\n",
       "      <td>-545.992623</td>\n",
       "    </tr>\n",
       "    <tr>\n",
       "      <th>4</th>\n",
       "      <td>7.451454</td>\n",
       "      <td>3.017559</td>\n",
       "      <td>4.871805</td>\n",
       "      <td>15.313706</td>\n",
       "      <td>-31.482503</td>\n",
       "      <td>45.578518</td>\n",
       "      <td>-91.170220</td>\n",
       "      <td>-405.028262</td>\n",
       "      <td>-1026.669754</td>\n",
       "    </tr>\n",
       "    <tr>\n",
       "      <th>...</th>\n",
       "      <td>...</td>\n",
       "      <td>...</td>\n",
       "      <td>...</td>\n",
       "      <td>...</td>\n",
       "      <td>...</td>\n",
       "      <td>...</td>\n",
       "      <td>...</td>\n",
       "      <td>...</td>\n",
       "      <td>...</td>\n",
       "    </tr>\n",
       "    <tr>\n",
       "      <th>995</th>\n",
       "      <td>5.620962</td>\n",
       "      <td>-0.423221</td>\n",
       "      <td>3.966892</td>\n",
       "      <td>9.614154</td>\n",
       "      <td>-14.551332</td>\n",
       "      <td>17.128210</td>\n",
       "      <td>-39.285287</td>\n",
       "      <td>-153.175943</td>\n",
       "      <td>-493.048433</td>\n",
       "    </tr>\n",
       "    <tr>\n",
       "      <th>996</th>\n",
       "      <td>3.256654</td>\n",
       "      <td>0.968543</td>\n",
       "      <td>2.019814</td>\n",
       "      <td>7.040034</td>\n",
       "      <td>-12.401946</td>\n",
       "      <td>9.879755</td>\n",
       "      <td>-44.832499</td>\n",
       "      <td>-160.515481</td>\n",
       "      <td>-326.960258</td>\n",
       "    </tr>\n",
       "    <tr>\n",
       "      <th>997</th>\n",
       "      <td>5.487806</td>\n",
       "      <td>-0.158014</td>\n",
       "      <td>3.183499</td>\n",
       "      <td>10.789441</td>\n",
       "      <td>-15.028534</td>\n",
       "      <td>17.452708</td>\n",
       "      <td>-46.887088</td>\n",
       "      <td>-143.251753</td>\n",
       "      <td>-410.673777</td>\n",
       "    </tr>\n",
       "    <tr>\n",
       "      <th>998</th>\n",
       "      <td>7.100604</td>\n",
       "      <td>-0.023013</td>\n",
       "      <td>3.679870</td>\n",
       "      <td>14.205608</td>\n",
       "      <td>-22.450353</td>\n",
       "      <td>21.982254</td>\n",
       "      <td>-58.815147</td>\n",
       "      <td>-215.682315</td>\n",
       "      <td>-571.397425</td>\n",
       "    </tr>\n",
       "    <tr>\n",
       "      <th>999</th>\n",
       "      <td>6.174557</td>\n",
       "      <td>1.004456</td>\n",
       "      <td>6.236602</td>\n",
       "      <td>13.133185</td>\n",
       "      <td>-21.124648</td>\n",
       "      <td>19.720250</td>\n",
       "      <td>-59.600657</td>\n",
       "      <td>-172.470482</td>\n",
       "      <td>-331.555539</td>\n",
       "    </tr>\n",
       "  </tbody>\n",
       "</table>\n",
       "<p>1000 rows × 9 columns</p>\n",
       "</div>"
      ],
      "text/plain": [
       "            D         F         G          A          C          B          E  \\\n",
       "0    5.634316  1.399732  2.035583   9.914077 -24.214419  44.195973 -75.865578   \n",
       "1    7.341857  0.031668  4.376354  15.308372 -22.692390  29.534663 -68.266770   \n",
       "2    3.914095  2.636184  4.140724   6.044142 -15.317655  21.067061 -48.658849   \n",
       "3    3.914127  2.046147  3.231601   8.811971 -16.196070  22.381185 -47.754029   \n",
       "4    7.451454  3.017559  4.871805  15.313706 -31.482503  45.578518 -91.170220   \n",
       "..        ...       ...       ...        ...        ...        ...        ...   \n",
       "995  5.620962 -0.423221  3.966892   9.614154 -14.551332  17.128210 -39.285287   \n",
       "996  3.256654  0.968543  2.019814   7.040034 -12.401946   9.879755 -44.832499   \n",
       "997  5.487806 -0.158014  3.183499  10.789441 -15.028534  17.452708 -46.887088   \n",
       "998  7.100604 -0.023013  3.679870  14.205608 -22.450353  21.982254 -58.815147   \n",
       "999  6.174557  1.004456  6.236602  13.133185 -21.124648  19.720250 -59.600657   \n",
       "\n",
       "              X            Y  \n",
       "0   -342.413180  -604.177195  \n",
       "1   -199.271975  -613.181989  \n",
       "2   -163.918270  -470.942156  \n",
       "3   -185.314511  -545.992623  \n",
       "4   -405.028262 -1026.669754  \n",
       "..          ...          ...  \n",
       "995 -153.175943  -493.048433  \n",
       "996 -160.515481  -326.960258  \n",
       "997 -143.251753  -410.673777  \n",
       "998 -215.682315  -571.397425  \n",
       "999 -172.470482  -331.555539  \n",
       "\n",
       "[1000 rows x 9 columns]"
      ]
     },
     "execution_count": 18,
     "metadata": {},
     "output_type": "execute_result"
    }
   ],
   "source": [
    "example_dag = DirectedAcyclicGraph.example_dags()[\"book_of_why_smoking_asthma_2\"]\n",
    "\n",
    "causal_model = CausalModel(dag=example_dag[\"dag\"], random_state=42)\n",
    "causal_model.fit(X = None)\n",
    "\n",
    "df_continuous = causal_model.data\n",
    "df_continuous"
   ]
  },
  {
   "cell_type": "code",
   "execution_count": 25,
   "metadata": {},
   "outputs": [
    {
     "data": {
      "text/plain": [
       "4.412406593060421"
      ]
     },
     "execution_count": 25,
     "metadata": {},
     "output_type": "execute_result"
    }
   ],
   "source": [
    "df_continuous.expected(\"E[D]\")"
   ]
  },
  {
   "cell_type": "code",
   "execution_count": 38,
   "metadata": {},
   "outputs": [
    {
     "data": {
      "text/plain": [
       "4.429821998698432"
      ]
     },
     "execution_count": 38,
     "metadata": {},
     "output_type": "execute_result"
    }
   ],
   "source": [
    "df_continuous.expected(\"E[D | G>3]\")"
   ]
  },
  {
   "cell_type": "code",
   "execution_count": 39,
   "metadata": {},
   "outputs": [
    {
     "data": {
      "text/plain": [
       "3.7051574107849214"
      ]
     },
     "execution_count": 39,
     "metadata": {},
     "output_type": "execute_result"
    }
   ],
   "source": [
    "df_continuous.expected(\"E[D| G>3, A <=12]\")"
   ]
  }
 ],
 "metadata": {
  "kernelspec": {
   "display_name": "project-env",
   "language": "python",
   "name": "python3"
  },
  "language_info": {
   "codemirror_mode": {
    "name": "ipython",
    "version": 3
   },
   "file_extension": ".py",
   "mimetype": "text/x-python",
   "name": "python",
   "nbconvert_exporter": "python",
   "pygments_lexer": "ipython3",
   "version": "3.10.9"
  },
  "orig_nbformat": 4
 },
 "nbformat": 4,
 "nbformat_minor": 2
}
