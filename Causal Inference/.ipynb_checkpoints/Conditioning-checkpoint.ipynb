{
 "cells": [
  {
   "cell_type": "markdown",
   "metadata": {},
   "source": [
    "# A Detailed Explanation of Conditioning in Causal Inference and Randomized Control Trials"
   ]
  },
  {
   "cell_type": "markdown",
   "metadata": {},
   "source": [
    "## How to understand the complex topic of conditioning and how to use this understanding to improve data and experimentation outcomes"
   ]
  },
  {
   "cell_type": "code",
   "execution_count": 2,
   "metadata": {
    "ExecuteTime": {
     "end_time": "2023-02-27T18:17:03.049627Z",
     "start_time": "2023-02-27T18:17:00.353238Z"
    }
   },
   "outputs": [],
   "source": [
    "import sys\n",
    "sys.path.insert(1, r'C:\\Users\\GHarrison\\OneDrive - Lincoln College\\Python Projects\\Data Science\\Utilities')\n",
    "\n",
    "from Causal.lib.causal_tools2 import DirectedAcyclicGraph"
   ]
  },
  {
   "cell_type": "markdown",
   "metadata": {},
   "source": [
    "## Background\n",
    "Having read Judea Pearl's \"The Book of Why\" (twice) and then moved onto \"Causal Inference in Statistics\" I was beginning to improve my undersatanding of causal inference and critically the role this exciting subject has in delivering organisational impact and outcomes from data.\n",
    "\n",
    "These texts and other articles discuss how to look at a \"path\" through a causal diagram and understand how to \"condition\" so that the true causal impact of a treatment variable on an outcome variable can be understood in isolation, even if both are being \"confounded\".\n",
    "\n",
    "That sentence alone can seem daunting to those new to the area so this article is going to de-mystify that part of it and then explain the simple rules involved in achieving \"deconfounding\" no matter how complicated the causal relationships are."
   ]
  },
  {
   "cell_type": "markdown",
   "metadata": {},
   "source": [
    "## A Refresher on Causal Inference and Directed Acyclic Graphs\n",
    "\n",
    "My favourite definition of causal inference is \"the study of understanding cause-and-effect relationships between variables while taking into account potential confounding factors and biases.\"\n",
    "\n",
    "One of the key points is that causality i.e. cause-and-effect cannot be established from data alone and any attempt to ascertain the impact of one feature or variable on another is likely to be inaccurate if there are causal relationships in the real world that the data is modelling.\n",
    "\n",
    "There are several approaches to resolving this but a common and highly visual approach is to supplement te data with a Directed Acyclic Graph or \"DAG\" that shows a proposal for the causal relationships based on domain expertise -"
   ]
  },
  {
   "cell_type": "code",
   "execution_count": 3,
   "metadata": {
    "ExecuteTime": {
     "end_time": "2023-02-27T18:17:17.097459Z",
     "start_time": "2023-02-27T18:17:16.974895Z"
    }
   },
   "outputs": [
    {
     "data": {
      "image/png": "[encoded data removed]",
      "text/plain": [
       "<Figure size 360x360 with 1 Axes>"
      ]
     },
     "metadata": {},
     "output_type": "display_data"
    }
   ],
   "source": [
    "edges_1 : list = [(\"D\", \"R\")]\n",
    "pos_1: dict = {\"D\": (1, 1), \"R\": (2,1)}\n",
    "    \n",
    "dag_1 = DirectedAcyclicGraph(edges=edges_1, pos=pos_1, treatment=\"D\", outcome=\"R\")\n",
    "dag_1.draw()"
   ]
  },
  {
   "cell_type": "markdown",
   "metadata": {},
   "source": [
    "This DAG is propsing that taking a drug (D) has a causal impact on recvovery (R) and not the other way around.\n",
    "\n",
    "Here our feature \"D\" is referred to as the \"treatment\" and \"R\" as the outcome. Note that \"treatment\" does not infer anything medical. Although the example is medical as it is showing the causal effect of a drug on a patient outcome the \"treatment\" could just as easilt be something like attending a training course, studying additional hours or changing the percentage split of fossil and non-fossil fuels.\n",
    "\n",
    "However, most DAGs and the causality they represent are not that simple. It is common for additional features to exist that \"confound\" the treatment and the outcome -"
   ]
  },
  {
   "cell_type": "code",
   "execution_count": 4,
   "metadata": {
    "ExecuteTime": {
     "end_time": "2023-02-27T18:17:35.755177Z",
     "start_time": "2023-02-27T18:17:35.644095Z"
    }
   },
   "outputs": [
    {
     "data": {
      "image/png": "[encoded data removed]",
      "text/plain": [
       "<Figure size 360x360 with 1 Axes>"
      ]
     },
     "metadata": {},
     "output_type": "display_data"
    }
   ],
   "source": [
    "edges_2 : list = [(\"D\", \"R\"), (\"G\", \"D\"), (\"G\", \"R\")]\n",
    "pos_2: dict = {\"D\": (1, 1), \"G\": (2,2), \"R\": (3, 1)}\n",
    "    \n",
    "dag_2 = DirectedAcyclicGraph(edges=edges_2, pos=pos_2, treatment=\"D\", outcome=\"R\")\n",
    "dag_2.draw()"
   ]
  },
  {
   "cell_type": "markdown",
   "metadata": {},
   "source": [
    "In this DAG a third variable \"G\" has been introduced to represent gender based on additional findings relating to the drug trial -\n",
    "\n",
    "- More males than females decide to take the drug.\n",
    "- Females have a better natural recovery rate than males.\n",
    "\n",
    "This means that gender is causing both the taking of the drug and recovery rates as well as taking the drug affecting recovery which must be adjusted for if the true effect of taking the drug on recovery is to be understood."
   ]
  },
  {
   "cell_type": "markdown",
   "metadata": {},
   "source": [
    "## Conditioning\n",
    "\n",
    "If there is nothing \"confounding\" the effect of \"D\" and \"R\" then the probability of recovery can be expressed as  -\n",
    "\n",
    "$$\n",
    "P(Recovery=1 \\mid Drug=1)\n",
    "$$\n",
    "\n",
    "i.e. what is the probability of recovery given that the drug was taken.\n",
    "\n",
    "But if there is a confounder like \"Gender\" in the diagram above then P(Recovery=1 | Drug=1) does not give the correct answer.\n",
    "\n",
    "In order to isolate the effect of \"D\" on \"R\" requires that \"G\" or Gender is \"conditioned\" as follows -\n",
    "\n",
    "1. Gender is fixed at its first value (say \"Male\").\n",
    "2. P(R | D) is calculated for that fixed value.\n",
    "3. Gender is fixed again at its second value (say \"Female\").\n",
    "4. P(R | D) is calculated for that fixed value.\n",
    "5. If 60% of the trial subjects were Male and 40% female then the final answer is 0.6 x the first fixed value + 0.4 x the second fixed value.\n",
    "\n",
    "This is the essence of conditioning. The groups (male and female in this example) could be split up and measured separately at the start of the trial if this were a real-world, randomised control trial.\n",
    "\n",
    "Alternatively, if the data has already been observed and captured there is a mathematical formula called the \"backdoor adjustment formula\" that will perform the calculation ..."
   ]
  },
  {
   "cell_type": "markdown",
   "metadata": {},
   "source": [
    "$$\n",
    "P(Y \\mid do(X)) = \\sum_{z} P(Y\\mid X, Z=z)\\ P(Z=z)\n",
    "$$\n"
   ]
  },
  {
   "cell_type": "markdown",
   "metadata": {
    "ExecuteTime": {
     "end_time": "2023-02-27T18:11:06.900840Z",
     "start_time": "2023-02-27T18:11:06.880904Z"
    }
   },
   "source": [
    "For D (Drug), R (Recovery) and G (Gender) the formula can be re-written as follows -"
   ]
  },
  {
   "cell_type": "markdown",
   "metadata": {},
   "source": [
    "$$\n",
    "P(R=1 \\mid do(D=1)) = \\sum_{g} P(R\\mid D, G=g)\\ P(G=g)\n",
    "$$"
   ]
  },
  {
   "cell_type": "markdown",
   "metadata": {},
   "source": [
    "If you would like a detailed explanation of the formula, please check this article out ... but the main thing to take away is that there is an approach in real world experiments (dividing the subject up into male and female) and an approach in mathematics (applying the backdoor adjustment formula) that will both work for \"conditioning\" the confounding variable such that the true effect of the treatment on the outcome can be calculated."
   ]
  },
  {
   "cell_type": "markdown",
   "metadata": {},
   "source": [
    "## Forks, Chains and Colliders\n",
    "\n",
    "In the diagram above the pattern is commonly referred to as a \"fork\" because the two arrows from the confounder G are facing away from the node.\n",
    "\n",
    "There are only two other patterns to consider which, when added to the \"fork\" pattern cover all eventualities.\n",
    "\n",
    "The first pattern, which we have already seen, is a fork -"
   ]
  },
  {
   "cell_type": "code",
   "execution_count": 8,
   "metadata": {
    "ExecuteTime": {
     "end_time": "2023-02-27T18:25:39.065979Z",
     "start_time": "2023-02-27T18:25:38.949058Z"
    }
   },
   "outputs": [
    {
     "data": {
      "image/png": "[encoded data removed]",
      "text/plain": [
       "<Figure size 360x360 with 1 Axes>"
      ]
     },
     "metadata": {},
     "output_type": "display_data"
    }
   ],
   "source": [
    "edges_2 : list = [(\"G\", \"D\"), (\"G\", \"R\")]\n",
    "pos_2: dict = {\"D\": (1, 1), \"G\": (2,2), \"R\": (3, 1)}\n",
    "    \n",
    "dag_2 = DirectedAcyclicGraph(edges=edges_2, pos=pos_2, treatment=\"D\", outcome=\"R\")\n",
    "dag_2.draw()"
   ]
  },
  {
   "cell_type": "markdown",
   "metadata": {},
   "source": [
    "This is a small variation on the DAG above because for a fork only requires a double arrow from a node like G into nodes D and R; D and R do not have to be causally linked directly."
   ]
  },
  {
   "cell_type": "markdown",
   "metadata": {},
   "source": [
    "The second pattern is a chain -"
   ]
  },
  {
   "cell_type": "code",
   "execution_count": 6,
   "metadata": {
    "ExecuteTime": {
     "end_time": "2023-02-27T18:19:05.220785Z",
     "start_time": "2023-02-27T18:19:05.115282Z"
    }
   },
   "outputs": [
    {
     "data": {
      "image/png": "[encoded data removed]",
      "text/plain": [
       "<Figure size 360x360 with 1 Axes>"
      ]
     },
     "metadata": {},
     "output_type": "display_data"
    }
   ],
   "source": [
    "edges_3 : list = [(\"D\", \"B\"), (\"B\", \"R\")]\n",
    "pos_3: dict = {\"D\": (1, 1), \"B\": (2, 1), \"R\": (3, 1)}\n",
    "    \n",
    "dag_3 = DirectedAcyclicGraph(edges=edges_3, pos=pos_3, treatment=\"D\", outcome=\"R\")\n",
    "dag_3.draw()"
   ]
  },
  {
   "cell_type": "markdown",
   "metadata": {},
   "source": [
    "This DAG represents the following causal relationships -\n",
    "\n",
    "1. Taking the drug (D) causes blood pressure (B) to change.\n",
    "2. A change in blood pressure (B) causes recovery (R) to change.\n",
    "\n",
    "i.e. The drug does not cause recovery directly, rather the drug impacts on blood pressure which then impacts on recovery."
   ]
  },
  {
   "cell_type": "markdown",
   "metadata": {},
   "source": [
    "This third pattern is a collider - "
   ]
  },
  {
   "cell_type": "code",
   "execution_count": 7,
   "metadata": {
    "ExecuteTime": {
     "end_time": "2023-02-27T18:21:59.522946Z",
     "start_time": "2023-02-27T18:21:59.407615Z"
    }
   },
   "outputs": [
    {
     "data": {
      "image/png": "[encoded data removed]",
      "text/plain": [
       "<Figure size 360x360 with 1 Axes>"
      ]
     },
     "metadata": {},
     "output_type": "display_data"
    }
   ],
   "source": [
    "edges_4 : list = [(\"S\", \"B\"), (\"A\", \"B\")]\n",
    "pos_4: dict = {\"S\": (1, 2), \"B\": (2, 1), \"A\": (3, 2)}\n",
    "    \n",
    "dag_4 = DirectedAcyclicGraph(edges=edges_4, pos=pos_4, treatment=\"D\", outcome=\"R\")\n",
    "dag_4.draw()"
   ]
  },
  {
   "cell_type": "markdown",
   "metadata": {},
   "source": [
    "This DAG represents the following causal relationships in a hypothetical college that specialises in sport -\n",
    "\n",
    "1. Sporting ability (S) causes the award of student bursaries (B).\n",
    "2. Academic ability (A) also causes the award of student bursaries (B)."
   ]
  },
  {
   "cell_type": "markdown",
   "metadata": {},
   "source": [
    "In the example above where D causes R and G causes both D and R we saw an example of how to condition by taking each gender in turn and why we would want to do this i.e. to isolate the affect of taking the drug on recovery by removing the confounding effect of gender.\n",
    "\n",
    "This is the overall objective of conditioning any Directed Acyclic Graph but there are some additional factors to consider -\n",
    "\n",
    "1. There are 3 possible patterns - fork, chain and collider and we have only worked through a fork example so far; we need to understand the impact of conditioning on all 3 patterns.\n",
    "2. So far we have only seen simple DAGs with a small number of nodes; we need to be able to scale up to larger and more complex DAGs.\n",
    "\n",
    "Once the first point has been explained the second point becomes easy to understand and at that point it is easy to understand how to condition for any set of causal relationships, no matter how complicated they are."
   ]
  },
  {
   "cell_type": "markdown",
   "metadata": {},
   "source": [
    "## Paths"
   ]
  },
  {
   "cell_type": "code",
   "execution_count": 11,
   "metadata": {
    "ExecuteTime": {
     "end_time": "2023-02-27T18:50:54.849966Z",
     "start_time": "2023-02-27T18:50:54.730371Z"
    }
   },
   "outputs": [
    {
     "data": {
      "image/png": "[encoded data removed]",
      "text/plain": [
       "<Figure size 360x360 with 1 Axes>"
      ]
     },
     "metadata": {},
     "output_type": "display_data"
    }
   ],
   "source": [
    "edges_2 : list = [(\"D\", \"R\"), (\"G\", \"D\"), (\"G\", \"R\")]\n",
    "pos_2: dict = {\"D\": (1, 1), \"G\": (2,2), \"R\": (3, 1)}\n",
    "    \n",
    "dag_2 = DirectedAcyclicGraph(edges=edges_2, pos=pos_2, treatment=\"D\", outcome=\"R\")\n",
    "dag_2.draw()"
   ]
  },
  {
   "cell_type": "markdown",
   "metadata": {},
   "source": [
    "Returning to our first example, there is one more thing to unpack before we can achieve a full understanding of conditioning more complex DAGs.\n",
    "\n",
    "When I first read Pearl's \"The Book of Why\" I was able to understood the concept of conditioning paths (see pages 159 - 163) but a couple of key points were not made clear in the text ...\n",
    "\n",
    "1. A single DAG contains multiple paths and every path needs to be considered in turn when conditioning..\n",
    "2. Each of those paths begins with the treatment and ends with the outcome.\n",
    "\n",
    "The DAG above contains exactly 2 paths which can be expressed as follows ..."
   ]
  },
  {
   "cell_type": "code",
   "execution_count": 10,
   "metadata": {
    "ExecuteTime": {
     "end_time": "2023-02-27T18:39:57.405676Z",
     "start_time": "2023-02-27T18:39:57.381224Z"
    }
   },
   "outputs": [
    {
     "data": {
      "text/latex": [
       "$\\displaystyle D \\rightarrow R$"
      ],
      "text/plain": [
       "<IPython.core.display.Math object>"
      ]
     },
     "metadata": {},
     "output_type": "display_data"
    },
    {
     "data": {
      "text/latex": [
       "$\\displaystyle D \\leftarrow G \\rightarrow R$"
      ],
      "text/plain": [
       "<IPython.core.display.Math object>"
      ]
     },
     "metadata": {},
     "output_type": "display_data"
    }
   ],
   "source": [
    "dag_2.print_paths(dag_2.all_paths(), display_latex=True)"
   ]
  },
  {
   "cell_type": "markdown",
   "metadata": {},
   "source": [
    "... so G or Gender is a fork in the second path."
   ]
  }
 ],
 "metadata": {
  "kernelspec": {
   "display_name": "Python 3 (ipykernel)",
   "language": "python",
   "name": "python3"
  },
  "language_info": {
   "codemirror_mode": {
    "name": "ipython",
    "version": 3
   },
   "file_extension": ".py",
   "mimetype": "text/x-python",
   "name": "python",
   "nbconvert_exporter": "python",
   "pygments_lexer": "ipython3",
   "version": "3.8.5"
  }
 },
 "nbformat": 4,
 "nbformat_minor": 4
}
