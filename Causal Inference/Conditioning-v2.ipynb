{
 "cells": [
  {
   "cell_type": "markdown",
   "metadata": {},
   "source": [
    "# A Master Class in Directed Acyclic Graphs in Causal Inference"
   ]
  },
  {
   "cell_type": "markdown",
   "metadata": {},
   "source": [
    "## A step-by-step explanation of Directed Acyclic Graphs from the basics to more advanced aspects"
   ]
  },
  {
   "cell_type": "code",
   "execution_count": 1,
   "metadata": {
    "ExecuteTime": {
     "end_time": "2023-03-10T08:12:04.777279Z",
     "start_time": "2023-03-10T08:12:02.176477Z"
    }
   },
   "outputs": [],
   "source": [
    "import sys\n",
    "sys.path.insert(1, r'C:\\Users\\GHarrison\\OneDrive - Lincoln College\\Python Projects\\Data Science\\Utilities')\n",
    "\n",
    "from Causal.lib.causal_tools2 import DirectedAcyclicGraph"
   ]
  },
  {
   "cell_type": "markdown",
   "metadata": {},
   "source": [
    "## Objective\n",
    "Having spent a lot of time researching causal inference I began to realise that I did not have a full grasp of Directed Acyclic Graphs (DAGs) and that this was hampering my efforts to develop my understanding to a point where I could apply it in order to solve real-world problems.\n",
    "\n",
    "This objective of this article is to document my learning journey and to share everything you need to know about DAGs in order to take your understanding of Causal Inference to the next level."
   ]
  },
  {
   "cell_type": "markdown",
   "metadata": {},
   "source": [
    "## Background\n",
    "I would like to start by proposing a deinfition for causal inference -\n",
    "\n",
    "\"Causal inference is the process of reasoning and the application of conclusions drawn from cause-and-effect relationships between variables while taking into account potential confounding factors and biases.\"\n",
    "\n",
    "That is quite a mouthful but it does encapsulate the key points -\n",
    "\n",
    "1. It is the study of cause-and-effect.\n",
    "2. The point is to draw conclusions that can be applied to solve real-world problems.\n",
    "3. Any bias or \"confounding\" must be taken account of and compensated for.\n",
    "\n",
    "Moving beyond the definition, there is an age old saying that \"correlation does not imply causation\" which leads to the question \"so what does then?\" \n",
    "\n",
    "It turns out that causation cannot be inferred or calculated from a set of data in isolation. That data needs to be extended and supplemented with additional information that can propose, visualise and represent the causal relationships and one common appraoch to the is to use a \"Directed Acyclic Graph\".\n"
   ]
  },
  {
   "cell_type": "markdown",
   "metadata": {},
   "source": [
    "## A Simple DAG\n",
    "At the most basic level DAGs are very simple indeed. The example below is representing the proposed relationship between taking a drug \"D\" and recovery \"R\" and the arrow is stating that taking the drug has a causal effect on recovery ..."
   ]
  },
  {
   "cell_type": "code",
   "execution_count": 3,
   "metadata": {
    "ExecuteTime": {
     "end_time": "2023-03-10T08:21:01.959051Z",
     "start_time": "2023-03-10T08:21:01.848007Z"
    },
    "hide_input": false
   },
   "outputs": [
    {
     "data": {
      "image/png": "[encoded data removed]",
      "text/plain": [
       "<Figure size 360x360 with 1 Axes>"
      ]
     },
     "metadata": {},
     "output_type": "display_data"
    }
   ],
   "source": [
    "edges : list = [(\"D\", \"R\")]\n",
    "pos: dict = {\"D\": (1, 1), \"R\": (2,1)}\n",
    "    \n",
    "dag = DirectedAcyclicGraph(edges=edges, pos=pos, treatment=\"D\", outcome=\"R\")\n",
    "dag.draw()"
   ]
  },
  {
   "cell_type": "markdown",
   "metadata": {},
   "source": [
    "This DAG illustrates two of the key terms - \"treatment\" and \"outcome\".\n",
    "\n",
    "- \"treatment\" refers to the action or intervention being studied or manipulated to determine its effect on the outcome. \n",
    "- \"outcome\" refers to the variable being measured to determine the effect of the treatment. \n",
    "\n",
    "In traditional machine learning terms the treatment is the independent variable(s) and the outcome the dependent varialble.\n",
    "\n",
    "When I first studied DAGs I was confused by the terminology as \"treatment\" and \"outcome\" are typically medical terms and I wondered if DAGs and causal inference were limited to the medical domain. This is not the case, causal inference can be applied to any set of variables in any domain and I suspect the medical-sounding terminology has been borrowed because drug and treatment trials have a significan overlap with causal inference."
   ]
  },
  {
   "cell_type": "markdown",
   "metadata": {},
   "source": [
    "## A DAG with a \"Confounder\""
   ]
  },
  {
   "cell_type": "code",
   "execution_count": 4,
   "metadata": {
    "ExecuteTime": {
     "end_time": "2023-03-10T08:21:12.577492Z",
     "start_time": "2023-03-10T08:21:12.443940Z"
    },
    "hide_input": true
   },
   "outputs": [
    {
     "data": {
      "image/png": "[encoded data removed]",
      "text/plain": [
       "<Figure size 360x360 with 1 Axes>"
      ]
     },
     "metadata": {},
     "output_type": "display_data"
    }
   ],
   "source": [
    "edges : list = [(\"D\", \"R\"), (\"G\", \"D\"), (\"G\", \"R\")]\n",
    "pos: dict = {\"D\": (1, 1), \"G\": (2,2), \"R\": (3, 1)}\n",
    "    \n",
    "dag = DirectedAcyclicGraph(edges=edges, pos=pos, treatment=\"D\", outcome=\"R\")\n",
    "dag.draw()"
   ]
  },
  {
   "cell_type": "markdown",
   "metadata": {},
   "source": [
    "This example adds another factor - \"G\" or gender. The arrows show that gender (G) has a causal affect on both the drug (D) and on recovery (R). The explanation for this is as follows -\n",
    "\n",
    "- More males than females decide to take the drug so \"Gender\" causes \"Drug\".\n",
    "- Females have a better natural recovery rate than males so \"Gender\" causes \"Recovery\".\n",
    "\n",
    "This complicates things significantly. The objective is to establish the true effect of taking the drug on recovery but gender is affecting both so simply observing how many people in the trial took the drug and recovered does not provide an accurate answer.\n",
    "\n",
    "The affect of gender on drug and recovery is mixed together with the effect of the drug on recovery. This mixing effect is called \"confounding\" in causal inference. An individual variable that causes this effect (gender in this example) is a \"confounder\" which must be \"de-confounded\" to establish the true efficacy of the drug ..."
   ]
  },
  {
   "cell_type": "markdown",
   "metadata": {},
   "source": [
    "## Controlling and Conditioning\n",
    "\n",
    "In order to calculate the true effect of D on R we need to isolate and remove the effect of G. This sounds complicated but it is actually very straightforward.\n",
    "\n",
    "If this were a real-world drug trial the approach would be to separate the subjects based on gender. If the subject groups were 60% male and 40% female the correct answer would be calculated by -\n",
    "\n",
    "1. Measure the proportion of males who recovered and multiply by 0.6 (as 60% are males).\n",
    "2. Measure the proportion of females who recovered and multiply by 0.4 (as 40% are females).\n",
    "3. Add the two numbers together and this gives the true probability of recovery for those who take the drug.\n",
    "\n",
    "Where this is done in a real-world trial it is referred to as \"controlling\".\n",
    "\n",
    "However, there are some potential issues. \n",
    "\n",
    "Firstly the study may be historical and the data has already been collected so it is too late to decide who take the drug. \n",
    "\n",
    "Also if this were a trial into smoking or obesity it would be immoral and unethical to force people to smoke to observe the outcome and those that smoke already may be self-selecting for other confounding factors (for example diet and exercise).\n",
    "\n",
    "However, a second approach exists that can mitigate these issues - the application of statistical techniques to simulate an intervention in a trial using historical, observational data. This technique is called \"conditioning\".\n",
    "\n",
    "A full explantion of the maths is beyond the scope of this article but if you are interested, here is the formula ..."
   ]
  },
  {
   "cell_type": "markdown",
   "metadata": {},
   "source": [
    "$$\n",
    "P(Y \\mid do(X)) = \\sum_{z} P(Y\\mid X, Z=z)\\ P(Z=z)\n",
    "$$\n"
   ]
  },
  {
   "cell_type": "markdown",
   "metadata": {},
   "source": [
    "In our example DAG Y would represent recovery, X the drug taking and Z the gender and the formula is calculating the probability of recovery given that the drug is taken whilst adjusting for gender."
   ]
  },
  {
   "cell_type": "markdown",
   "metadata": {},
   "source": [
    "The key takeaways from this section are that if a \"confounder\" exists that has an effect on both the treatment and outcome then this bias must be removed by either \"controlling\" in a real-world trail or \"conditioning\" when looking at historical, observational data."
   ]
  },
  {
   "cell_type": "markdown",
   "metadata": {},
   "source": [
    "## Paths\n",
    "Okey dokey!!"
   ]
  },
  {
   "cell_type": "markdown",
   "metadata": {},
   "source": [
    "## Background\n",
    "Having read Judea Pearl's \"The Book of Why\" (twice) and then moved onto \"Causal Inference in Statistics\" I was beginning to improve my undersatanding of causal inference and critically the role this exciting subject has in delivering organisational impact and outcomes from data.\n",
    "\n",
    "These texts and other articles discuss how to look at a \"path\" through a causal diagram and understand how to \"condition\" so that the true causal impact of a treatment variable on an outcome variable can be understood in isolation, even if both are being \"confounded\".\n",
    "\n",
    "That sentence alone can seem daunting to those new to the area so this article is going to de-mystify that part of it and then explain the simple rules involved in achieving \"deconfounding\" no matter how complicated the causal relationships are."
   ]
  },
  {
   "cell_type": "markdown",
   "metadata": {},
   "source": [
    "## A Refresher on Causal Inference and Directed Acyclic Graphs\n",
    "\n",
    "My favourite definition of causal inference is \"the study of understanding cause-and-effect relationships between variables while taking into account potential confounding factors and biases.\"\n",
    "\n",
    "One of the key points is that causality i.e. cause-and-effect cannot be established from data alone and any attempt to ascertain the impact of one feature or variable on another is likely to be inaccurate if there are causal relationships in the real world that the data is modelling.\n",
    "\n",
    "There are several approaches to resolving this but a common and highly visual approach is to supplement te data with a Directed Acyclic Graph or \"DAG\" that shows a proposal for the causal relationships based on domain expertise -"
   ]
  },
  {
   "cell_type": "markdown",
   "metadata": {},
   "source": [
    "This DAG is propsing that taking a drug (D) has a causal impact on recvovery (R) and not the other way around.\n",
    "\n",
    "Here our feature \"D\" is referred to as the \"treatment\" and \"R\" as the outcome. Note that \"treatment\" does not infer anything medical. Although the example is medical as it is showing the causal effect of a drug on a patient outcome the \"treatment\" could just as easilt be something like attending a training course, studying additional hours or changing the percentage split of fossil and non-fossil fuels.\n",
    "\n",
    "However, most DAGs and the causality they represent are not that simple. It is common for additional features to exist that \"confound\" the treatment and the outcome -"
   ]
  },
  {
   "cell_type": "markdown",
   "metadata": {},
   "source": [
    "In this DAG a third variable \"G\" has been introduced to represent gender based on additional findings relating to the drug trial -\n",
    "\n",
    "- More males than females decide to take the drug.\n",
    "- Females have a better natural recovery rate than males.\n",
    "\n",
    "This means that gender is causing both the taking of the drug and recovery rates as well as taking the drug affecting recovery which must be adjusted for if the true effect of taking the drug on recovery is to be understood."
   ]
  },
  {
   "cell_type": "markdown",
   "metadata": {},
   "source": [
    "## Conditioning\n",
    "\n",
    "If there is nothing \"confounding\" the effect of \"D\" and \"R\" then the probability of recovery can be expressed as  -\n",
    "\n",
    "$$\n",
    "P(Recovery=1 \\mid Drug=1)\n",
    "$$\n",
    "\n",
    "i.e. what is the probability of recovery given that the drug was taken.\n",
    "\n",
    "But if there is a confounder like \"Gender\" in the diagram above then P(Recovery=1 | Drug=1) does not give the correct answer.\n",
    "\n",
    "In order to isolate the effect of \"D\" on \"R\" requires that \"G\" or Gender is \"conditioned\" as follows -\n",
    "\n",
    "1. Gender is fixed at its first value (say \"Male\").\n",
    "2. P(R | D) is calculated for that fixed value.\n",
    "3. Gender is fixed again at its second value (say \"Female\").\n",
    "4. P(R | D) is calculated for that fixed value.\n",
    "5. If 60% of the trial subjects were Male and 40% female then the final answer is 0.6 x the first fixed value + 0.4 x the second fixed value.\n",
    "\n",
    "This is the essence of conditioning. The groups (male and female in this example) could be split up and measured separately at the start of the trial if this were a real-world, randomised control trial.\n",
    "\n",
    "Alternatively, if the data has already been observed and captured there is a mathematical formula called the \"backdoor adjustment formula\" that will perform the calculation ..."
   ]
  },
  {
   "cell_type": "markdown",
   "metadata": {},
   "source": [
    "For D (Drug), R (Recovery) and G (Gender) the formula can be re-written as follows -"
   ]
  },
  {
   "cell_type": "markdown",
   "metadata": {},
   "source": [
    "$$\n",
    "P(R=1 \\mid do(D=1)) = \\sum_{g} P(R\\mid D, G=g)\\ P(G=g)\n",
    "$$"
   ]
  },
  {
   "cell_type": "markdown",
   "metadata": {},
   "source": [
    "If you would like a detailed explanation of the formula, please check this article out ... but the main thing to take away is that there is an approach in real world experiments (dividing the subject up into male and female) and an approach in mathematics (applying the backdoor adjustment formula) that will both work for \"conditioning\" the confounding variable such that the true effect of the treatment on the outcome can be calculated."
   ]
  },
  {
   "cell_type": "markdown",
   "metadata": {},
   "source": [
    "## Forks, Chains and Colliders\n",
    "\n",
    "In the diagram above the pattern is commonly referred to as a \"fork\" because the two arrows from the confounder G are facing away from the node.\n",
    "\n",
    "There are only two other patterns to consider which, when added to the \"fork\" pattern cover all eventualities.\n",
    "\n",
    "The first pattern, which we have already seen, is a fork -"
   ]
  },
  {
   "cell_type": "code",
   "execution_count": 8,
   "metadata": {},
   "outputs": [
    {
     "data": {
      "image/png": "[encoded data removed]",
      "text/plain": [
       "<Figure size 360x360 with 1 Axes>"
      ]
     },
     "metadata": {},
     "output_type": "display_data"
    }
   ],
   "source": [
    "edges_2 : list = [(\"G\", \"D\"), (\"G\", \"R\")]\n",
    "pos_2: dict = {\"D\": (1, 1), \"G\": (2,2), \"R\": (3, 1)}\n",
    "    \n",
    "dag_2 = DirectedAcyclicGraph(edges=edges_2, pos=pos_2, treatment=\"D\", outcome=\"R\")\n",
    "dag_2.draw()"
   ]
  },
  {
   "cell_type": "markdown",
   "metadata": {},
   "source": [
    "This is a small variation on the DAG above because for a fork only requires a double arrow from a node like G into nodes D and R; D and R do not have to be causally linked directly."
   ]
  },
  {
   "cell_type": "markdown",
   "metadata": {},
   "source": [
    "The second pattern is a chain -"
   ]
  },
  {
   "cell_type": "code",
   "execution_count": 6,
   "metadata": {},
   "outputs": [
    {
     "data": {
      "image/png": "[encoded data removed]",
      "text/plain": [
       "<Figure size 360x360 with 1 Axes>"
      ]
     },
     "metadata": {},
     "output_type": "display_data"
    }
   ],
   "source": [
    "edges_3 : list = [(\"D\", \"B\"), (\"B\", \"R\")]\n",
    "pos_3: dict = {\"D\": (1, 1), \"B\": (2, 1), \"R\": (3, 1)}\n",
    "    \n",
    "dag_3 = DirectedAcyclicGraph(edges=edges_3, pos=pos_3, treatment=\"D\", outcome=\"R\")\n",
    "dag_3.draw()"
   ]
  },
  {
   "cell_type": "markdown",
   "metadata": {},
   "source": [
    "This DAG represents the following causal relationships -\n",
    "\n",
    "1. Taking the drug (D) causes blood pressure (B) to change.\n",
    "2. A change in blood pressure (B) causes recovery (R) to change.\n",
    "\n",
    "i.e. The drug does not cause recovery directly, rather the drug impacts on blood pressure which then impacts on recovery."
   ]
  },
  {
   "cell_type": "markdown",
   "metadata": {},
   "source": [
    "This third pattern is a collider - "
   ]
  },
  {
   "cell_type": "code",
   "execution_count": 7,
   "metadata": {},
   "outputs": [
    {
     "data": {
      "image/png": "[encoded data removed]",
      "text/plain": [
       "<Figure size 360x360 with 1 Axes>"
      ]
     },
     "metadata": {},
     "output_type": "display_data"
    }
   ],
   "source": [
    "edges_4 : list = [(\"S\", \"B\"), (\"A\", \"B\")]\n",
    "pos_4: dict = {\"S\": (1, 2), \"B\": (2, 1), \"A\": (3, 2)}\n",
    "    \n",
    "dag_4 = DirectedAcyclicGraph(edges=edges_4, pos=pos_4, treatment=\"D\", outcome=\"R\")\n",
    "dag_4.draw()"
   ]
  },
  {
   "cell_type": "markdown",
   "metadata": {},
   "source": [
    "This DAG represents the following causal relationships in a hypothetical college that specialises in sport -\n",
    "\n",
    "1. Sporting ability (S) causes the award of student bursaries (B).\n",
    "2. Academic ability (A) also causes the award of student bursaries (B)."
   ]
  },
  {
   "cell_type": "markdown",
   "metadata": {},
   "source": [
    "In the example above where D causes R and G causes both D and R we saw an example of how to condition by taking each gender in turn and why we would want to do this i.e. to isolate the affect of taking the drug on recovery by removing the confounding effect of gender.\n",
    "\n",
    "This is the overall objective of conditioning any Directed Acyclic Graph but there are some additional factors to consider -\n",
    "\n",
    "1. There are 3 possible patterns - fork, chain and collider and we have only worked through a fork example so far; we need to understand the impact of conditioning on all 3 patterns.\n",
    "2. So far we have only seen simple DAGs with a small number of nodes; we need to be able to scale up to larger and more complex DAGs.\n",
    "\n",
    "Once the first point has been explained the second point becomes easy to understand and at that point it is easy to understand how to condition for any set of causal relationships, no matter how complicated they are."
   ]
  },
  {
   "cell_type": "markdown",
   "metadata": {},
   "source": [
    "## Paths"
   ]
  },
  {
   "cell_type": "code",
   "execution_count": 11,
   "metadata": {},
   "outputs": [
    {
     "data": {
      "image/png": "[encoded data removed]",
      "text/plain": [
       "<Figure size 360x360 with 1 Axes>"
      ]
     },
     "metadata": {},
     "output_type": "display_data"
    }
   ],
   "source": [
    "edges_2 : list = [(\"D\", \"R\"), (\"G\", \"D\"), (\"G\", \"R\")]\n",
    "pos_2: dict = {\"D\": (1, 1), \"G\": (2,2), \"R\": (3, 1)}\n",
    "    \n",
    "dag_2 = DirectedAcyclicGraph(edges=edges_2, pos=pos_2, treatment=\"D\", outcome=\"R\")\n",
    "dag_2.draw()"
   ]
  },
  {
   "cell_type": "markdown",
   "metadata": {},
   "source": [
    "Returning to our first example, there is one more thing to unpack before we can achieve a full understanding of conditioning more complex DAGs.\n",
    "\n",
    "When I first read Pearl's \"The Book of Why\" I was able to understood the concept of conditioning paths (see pages 159 - 163) but a couple of key points were not made clear in the text ...\n",
    "\n",
    "1. A single DAG contains multiple paths and every path needs to be considered in turn when conditioning..\n",
    "2. Each of those paths begins with the treatment and ends with the outcome.\n",
    "\n",
    "The DAG above contains exactly 2 paths which can be expressed as follows ..."
   ]
  },
  {
   "cell_type": "code",
   "execution_count": 10,
   "metadata": {},
   "outputs": [
    {
     "data": {
      "text/latex": [
       "$\\displaystyle D \\rightarrow R$"
      ],
      "text/plain": [
       "<IPython.core.display.Math object>"
      ]
     },
     "metadata": {},
     "output_type": "display_data"
    },
    {
     "data": {
      "text/latex": [
       "$\\displaystyle D \\leftarrow G \\rightarrow R$"
      ],
      "text/plain": [
       "<IPython.core.display.Math object>"
      ]
     },
     "metadata": {},
     "output_type": "display_data"
    }
   ],
   "source": [
    "dag_2.print_paths(dag_2.all_paths(), display_latex=True)"
   ]
  },
  {
   "cell_type": "markdown",
   "metadata": {},
   "source": [
    "... so G or Gender is a fork in the second path."
   ]
  }
 ],
 "metadata": {
  "kernelspec": {
   "display_name": "Python 3 (ipykernel)",
   "language": "python",
   "name": "python3"
  },
  "language_info": {
   "codemirror_mode": {
    "name": "ipython",
    "version": 3
   },
   "file_extension": ".py",
   "mimetype": "text/x-python",
   "name": "python",
   "nbconvert_exporter": "python",
   "pygments_lexer": "ipython3",
   "version": "3.8.5"
  }
 },
 "nbformat": 4,
 "nbformat_minor": 4
}
