{
 "cells": [
  {
   "cell_type": "markdown",
   "metadata": {},
   "source": [
    "# Unlock the Secret to Effortlessly Calculating Conditional Probabilities From Any DataFrame in Just 3 Lines of Code"
   ]
  },
  {
   "cell_type": "markdown",
   "metadata": {},
   "source": [
    "## How to write a simple Python function that will calculate conditional probabilities directly from any DataFrame using notation like p(cancer=1 | smoker=1)"
   ]
  },
  {
   "attachments": {
    "cond_prod.png": {
     "image/png": "[encoded data removed]"
    }
   },
   "cell_type": "markdown",
   "metadata": {},
   "source": [
    "![cond_prod.png](attachment:cond_prod.png)"
   ]
  },
  {
   "cell_type": "markdown",
   "metadata": {},
   "source": [
    "## Background\n",
    "As I have continued to delve into causal inference I reached a stage where I needed to be able to construct formulas that use complex combinations of conditional probabilities and the code was starting to be difficult to read and maintain.\n",
    "\n",
    "That led me to developing a simple solution and by the end of this article you will be equipped with a short Python function that can apply a conditional probability directly to a any pandas ``DataFrame`` and return the result."
   ]
  },
  {
   "cell_type": "markdown",
   "metadata": {},
   "source": [
    "## A Recap\n",
    "Conditional probability is the probability of an event occurring given that another event has already occurred. The notation $P(A \\mid B)$ can be understood as the probability (P) of event A given (|) that event B has already occured. \n",
    "\n",
    "To extend this one step forward the notation $P(A\\mid B,C)$ means the probability of event A given that both event B and event C have already occured. "
   ]
  },
  {
   "cell_type": "markdown",
   "metadata": {},
   "source": [
    "## An Example\n",
    "We all know that if a fair coin is tossed twice the probability of getting two heads is 0.25 because the probability of the first event (tossing the first coin and getting ahead) is 0.5 multiplied by the probability of the second event (tossing the second coin and getting a head), also 0.5 i.e. 0.5 x 0.5 = 0.25.\n",
    "\n",
    "The simple multiplication works when the two events are completely independent of each other i.e. there is no way that the result of the first coin toss can impact the second so before we perform the two events the probability of two heads is 0.25.\n",
    "\n",
    "However, not all events are independent and this is best explained using an example ...\n",
    "\n",
    "Here is a table of synthetic data representing a fictitious sample of 800 people where whether they smoke or not and whether they suffer from lung cancer or not has been observed and recorded ..."
   ]
  },
  {
   "cell_type": "code",
   "execution_count": 1,
   "metadata": {
    "ExecuteTime": {
     "end_time": "2023-02-05T14:48:34.558770Z",
     "start_time": "2023-02-05T14:48:33.819368Z"
    }
   },
   "outputs": [
    {
     "data": {
      "text/html": [
       "<div>\n",
       "<style scoped>\n",
       "    .dataframe tbody tr th:only-of-type {\n",
       "        vertical-align: middle;\n",
       "    }\n",
       "\n",
       "    .dataframe tbody tr th {\n",
       "        vertical-align: top;\n",
       "    }\n",
       "\n",
       "    .dataframe thead th {\n",
       "        text-align: right;\n",
       "    }\n",
       "</style>\n",
       "<table border=\"1\" class=\"dataframe\">\n",
       "  <thead>\n",
       "    <tr style=\"text-align: right;\">\n",
       "      <th></th>\n",
       "      <th>cancer</th>\n",
       "      <th>smoker</th>\n",
       "      <th>count</th>\n",
       "    </tr>\n",
       "  </thead>\n",
       "  <tbody>\n",
       "    <tr>\n",
       "      <th>0</th>\n",
       "      <td>0</td>\n",
       "      <td>1</td>\n",
       "      <td>341</td>\n",
       "    </tr>\n",
       "    <tr>\n",
       "      <th>1</th>\n",
       "      <td>0</td>\n",
       "      <td>0</td>\n",
       "      <td>39</td>\n",
       "    </tr>\n",
       "    <tr>\n",
       "      <th>2</th>\n",
       "      <td>1</td>\n",
       "      <td>0</td>\n",
       "      <td>361</td>\n",
       "    </tr>\n",
       "    <tr>\n",
       "      <th>3</th>\n",
       "      <td>1</td>\n",
       "      <td>1</td>\n",
       "      <td>59</td>\n",
       "    </tr>\n",
       "  </tbody>\n",
       "</table>\n",
       "</div>"
      ],
      "text/plain": [
       "   cancer  smoker  count\n",
       "0       0       1    341\n",
       "1       0       0     39\n",
       "2       1       0    361\n",
       "3       1       1     59"
      ]
     },
     "execution_count": 1,
     "metadata": {},
     "output_type": "execute_result"
    }
   ],
   "source": [
    "import sys\n",
    "sys.path.insert(1, r'C:\\Users\\GHarrison\\OneDrive - Lincoln College\\Python Projects\\Data Science\\Utilities')\n",
    "\n",
    "from Causal.lib.synthetic_utils import BinaryDataGenerator\n",
    "\n",
    "import pandas as pd\n",
    "\n",
    "generator = BinaryDataGenerator(population_size=800, columns=[\"smoker\", \"tar\", \"cancer\"], random_state=42)\n",
    "generator.set_values(col_name=\"smoker\", frac=0.5)\n",
    "generator.set_values(col_name=\"tar\", frac=0.05, condition=generator.data[\"smoker\"]==0)\n",
    "generator.set_values(col_name=\"tar\", frac=0.95, condition=generator.data[\"smoker\"]==1)\n",
    "generator.set_values(col_name=\"cancer\", frac=0.15, condition=((generator.data[\"smoker\"]==1) & (generator.data[\"tar\"]==1)))\n",
    "generator.set_values(col_name=\"cancer\", frac=0.1, condition=((generator.data[\"smoker\"]==1) & (generator.data[\"tar\"]==0)))\n",
    "generator.set_values(col_name=\"cancer\", frac=0.95, condition=((generator.data[\"smoker\"]==0) & (generator.data[\"tar\"]==1)))\n",
    "generator.set_values(col_name=\"cancer\", frac=0.9, condition=((generator.data[\"smoker\"]==0) & (generator.data[\"tar\"]==0)))\n",
    "df_smoking = generator.data\n",
    "\n",
    "df_summary = df_smoking[[\"smoker\", \"cancer\"]].groupby([\"cancer\"]).value_counts().reset_index()\n",
    "df_summary.rename(columns={0: \"count\"}, inplace=True)\n",
    "df_summary"
   ]
  },
  {
   "cell_type": "markdown",
   "metadata": {},
   "source": [
    "The probability of cancer (cancer=1) is as follows -\n",
    "$$p(cancer=1) = \\frac{(361+59)} {800} = \\frac {420} {800} = 0.525$$\n",
    "\n",
    "How about if we ask the following question:\n",
    "\n",
    "One of the test subjects is selected at random and it is found that the subject is a smoker. What is the probability that they have cancer?\n",
    "\n",
    "These probabilities are not independent like the coin tossing because we already know that the chosen subject is a smoker. The answer to this question can be expressed as follows -\n",
    "\n",
    "$$\n",
    "p(cancer=1 | smoker=1)\n",
    "$$\n",
    "\n",
    "i.e. the what is probability that cancer = 1 given that smoker = 1?\n",
    "\n",
    "There are two ways to calculate this result, the intuitive way and the probabilistic way. "
   ]
  },
  {
   "cell_type": "markdown",
   "metadata": {},
   "source": [
    "## The Intiutive Way\n",
    "It is easy to see that there are 400 smokers (323 + 18 + 57 + 2) by looking for rows in the summary table where smoker = 1 - "
   ]
  },
  {
   "cell_type": "code",
   "execution_count": 2,
   "metadata": {
    "ExecuteTime": {
     "end_time": "2023-02-05T14:48:34.574778Z",
     "start_time": "2023-02-05T14:48:34.563727Z"
    }
   },
   "outputs": [
    {
     "data": {
      "text/html": [
       "<div>\n",
       "<style scoped>\n",
       "    .dataframe tbody tr th:only-of-type {\n",
       "        vertical-align: middle;\n",
       "    }\n",
       "\n",
       "    .dataframe tbody tr th {\n",
       "        vertical-align: top;\n",
       "    }\n",
       "\n",
       "    .dataframe thead th {\n",
       "        text-align: right;\n",
       "    }\n",
       "</style>\n",
       "<table border=\"1\" class=\"dataframe\">\n",
       "  <thead>\n",
       "    <tr style=\"text-align: right;\">\n",
       "      <th></th>\n",
       "      <th>cancer</th>\n",
       "      <th>smoker</th>\n",
       "      <th>count</th>\n",
       "    </tr>\n",
       "  </thead>\n",
       "  <tbody>\n",
       "    <tr>\n",
       "      <th>0</th>\n",
       "      <td>0</td>\n",
       "      <td>1</td>\n",
       "      <td>341</td>\n",
       "    </tr>\n",
       "    <tr>\n",
       "      <th>3</th>\n",
       "      <td>1</td>\n",
       "      <td>1</td>\n",
       "      <td>59</td>\n",
       "    </tr>\n",
       "  </tbody>\n",
       "</table>\n",
       "</div>"
      ],
      "text/plain": [
       "   cancer  smoker  count\n",
       "0       0       1    341\n",
       "3       1       1     59"
      ]
     },
     "execution_count": 2,
     "metadata": {},
     "output_type": "execute_result"
    }
   ],
   "source": [
    "df_summary[df_summary[\"smoker\"]==1]"
   ]
  },
  {
   "cell_type": "markdown",
   "metadata": {},
   "source": [
    "If we have already selected a smoker, they must have come from this part of the sample. Of these 400 it is easy to see that 59 have cancer (57 + 2), so ...\n",
    "\n",
    "$$P(cancer=1 \\mid smoker=1) = \\frac{59} {(341 + 59)} = \\frac {59} {400} = 0.1475$$"
   ]
  },
  {
   "cell_type": "markdown",
   "metadata": {},
   "source": [
    "## The Mathematical Way\n",
    "\n",
    "The formula for calculating a conditional probability is as follows -\n",
    "\n",
    "$$\n",
    "P(A \\mid B) = \\frac {P(A\\ and\\ B)} {P(B)} = \\frac {P({A} \\cap {B})} {P(B)}\n",
    "$$\n"
   ]
  },
  {
   "cell_type": "markdown",
   "metadata": {},
   "source": [
    "Personally I find this to be less intuitive that the first solution as I can easily visualise what is going on inside the ``DataFrame`` of values but this way does have a big advantage. If you only have access to the probabilities and not to all of the underlying data then the \"Intuitive Way\" is not an option.\n",
    "\n",
    "Consider the following which is the same summary but with the probabilities instead of the counts ..."
   ]
  },
  {
   "cell_type": "code",
   "execution_count": 3,
   "metadata": {
    "ExecuteTime": {
     "end_time": "2023-02-05T14:48:34.589799Z",
     "start_time": "2023-02-05T14:48:34.577783Z"
    }
   },
   "outputs": [
    {
     "data": {
      "text/html": [
       "<div>\n",
       "<style scoped>\n",
       "    .dataframe tbody tr th:only-of-type {\n",
       "        vertical-align: middle;\n",
       "    }\n",
       "\n",
       "    .dataframe tbody tr th {\n",
       "        vertical-align: top;\n",
       "    }\n",
       "\n",
       "    .dataframe thead th {\n",
       "        text-align: right;\n",
       "    }\n",
       "</style>\n",
       "<table border=\"1\" class=\"dataframe\">\n",
       "  <thead>\n",
       "    <tr style=\"text-align: right;\">\n",
       "      <th></th>\n",
       "      <th>cancer</th>\n",
       "      <th>smoker</th>\n",
       "      <th>prob</th>\n",
       "    </tr>\n",
       "  </thead>\n",
       "  <tbody>\n",
       "    <tr>\n",
       "      <th>0</th>\n",
       "      <td>0</td>\n",
       "      <td>1</td>\n",
       "      <td>0.42625</td>\n",
       "    </tr>\n",
       "    <tr>\n",
       "      <th>1</th>\n",
       "      <td>0</td>\n",
       "      <td>0</td>\n",
       "      <td>0.04875</td>\n",
       "    </tr>\n",
       "    <tr>\n",
       "      <th>2</th>\n",
       "      <td>1</td>\n",
       "      <td>0</td>\n",
       "      <td>0.45125</td>\n",
       "    </tr>\n",
       "    <tr>\n",
       "      <th>3</th>\n",
       "      <td>1</td>\n",
       "      <td>1</td>\n",
       "      <td>0.07375</td>\n",
       "    </tr>\n",
       "  </tbody>\n",
       "</table>\n",
       "</div>"
      ],
      "text/plain": [
       "   cancer  smoker     prob\n",
       "0       0       1  0.42625\n",
       "1       0       0  0.04875\n",
       "2       1       0  0.45125\n",
       "3       1       1  0.07375"
      ]
     },
     "execution_count": 3,
     "metadata": {},
     "output_type": "execute_result"
    }
   ],
   "source": [
    "df_summary_prob = df_summary.copy(deep=True)\n",
    "df_summary_prob[\"prob\"] = df_summary_prob[\"count\"] / df_smoking.shape[0]\n",
    "df_summary_prob.drop(columns=[\"count\"], inplace=True)\n",
    "df_summary_prob"
   ]
  },
  {
   "cell_type": "markdown",
   "metadata": {},
   "source": [
    "Now $p(cancer=1 \\mid smoker=1$) can be calculated as follows -\n",
    "\n",
    "$$\n",
    "P(cancer=1 \\mid smoker=1) = \\\\\\frac {P({cancer=1} \\cap {smoker=1})} {P(smoker=1)} = \\frac {0.07375} {0.42625 + 0.07375} = \\frac {0.07375} {0.5} = 0.1475\n",
    "$$"
   ]
  },
  {
   "cell_type": "markdown",
   "metadata": {},
   "source": [
    "## The Python Function Solution\n",
    "Given the explanation of conditional probabilities, the objective now is to develop a Python function that can take all of the pain away and just work them out for any pandas ``DataFrame``."
   ]
  },
  {
   "cell_type": "markdown",
   "metadata": {},
   "source": [
    "The first thing we need are some test data. I have created a synthetic dataset using my ``BinaryDataGenerator`` class. If you would like the full source code, head over to this article - \n",
    "- https://towardsdatascience.com/how-to-generate-synthetic-data-for-any-causal-inference-project-in-less-than-10-lines-of-code-158688a89349."
   ]
  },
  {
   "cell_type": "code",
   "execution_count": 4,
   "metadata": {
    "ExecuteTime": {
     "end_time": "2023-02-05T14:48:34.621816Z",
     "start_time": "2023-02-05T14:48:34.590780Z"
    }
   },
   "outputs": [
    {
     "data": {
      "text/html": [
       "<div>\n",
       "<style scoped>\n",
       "    .dataframe tbody tr th:only-of-type {\n",
       "        vertical-align: middle;\n",
       "    }\n",
       "\n",
       "    .dataframe tbody tr th {\n",
       "        vertical-align: top;\n",
       "    }\n",
       "\n",
       "    .dataframe thead th {\n",
       "        text-align: right;\n",
       "    }\n",
       "</style>\n",
       "<table border=\"1\" class=\"dataframe\">\n",
       "  <thead>\n",
       "    <tr style=\"text-align: right;\">\n",
       "      <th></th>\n",
       "      <th>smoker</th>\n",
       "      <th>tar</th>\n",
       "      <th>cancer</th>\n",
       "    </tr>\n",
       "  </thead>\n",
       "  <tbody>\n",
       "    <tr>\n",
       "      <th>0</th>\n",
       "      <td>1</td>\n",
       "      <td>1</td>\n",
       "      <td>1</td>\n",
       "    </tr>\n",
       "    <tr>\n",
       "      <th>1</th>\n",
       "      <td>0</td>\n",
       "      <td>0</td>\n",
       "      <td>1</td>\n",
       "    </tr>\n",
       "    <tr>\n",
       "      <th>2</th>\n",
       "      <td>1</td>\n",
       "      <td>1</td>\n",
       "      <td>0</td>\n",
       "    </tr>\n",
       "    <tr>\n",
       "      <th>3</th>\n",
       "      <td>1</td>\n",
       "      <td>1</td>\n",
       "      <td>0</td>\n",
       "    </tr>\n",
       "    <tr>\n",
       "      <th>4</th>\n",
       "      <td>0</td>\n",
       "      <td>0</td>\n",
       "      <td>1</td>\n",
       "    </tr>\n",
       "    <tr>\n",
       "      <th>...</th>\n",
       "      <td>...</td>\n",
       "      <td>...</td>\n",
       "      <td>...</td>\n",
       "    </tr>\n",
       "    <tr>\n",
       "      <th>795</th>\n",
       "      <td>1</td>\n",
       "      <td>1</td>\n",
       "      <td>0</td>\n",
       "    </tr>\n",
       "    <tr>\n",
       "      <th>796</th>\n",
       "      <td>1</td>\n",
       "      <td>1</td>\n",
       "      <td>0</td>\n",
       "    </tr>\n",
       "    <tr>\n",
       "      <th>797</th>\n",
       "      <td>0</td>\n",
       "      <td>0</td>\n",
       "      <td>1</td>\n",
       "    </tr>\n",
       "    <tr>\n",
       "      <th>798</th>\n",
       "      <td>1</td>\n",
       "      <td>0</td>\n",
       "      <td>0</td>\n",
       "    </tr>\n",
       "    <tr>\n",
       "      <th>799</th>\n",
       "      <td>0</td>\n",
       "      <td>0</td>\n",
       "      <td>0</td>\n",
       "    </tr>\n",
       "  </tbody>\n",
       "</table>\n",
       "<p>800 rows × 3 columns</p>\n",
       "</div>"
      ],
      "text/plain": [
       "     smoker  tar  cancer\n",
       "0         1    1       1\n",
       "1         0    0       1\n",
       "2         1    1       0\n",
       "3         1    1       0\n",
       "4         0    0       1\n",
       "..      ...  ...     ...\n",
       "795       1    1       0\n",
       "796       1    1       0\n",
       "797       0    0       1\n",
       "798       1    0       0\n",
       "799       0    0       0\n",
       "\n",
       "[800 rows x 3 columns]"
      ]
     },
     "execution_count": 4,
     "metadata": {},
     "output_type": "execute_result"
    }
   ],
   "source": [
    "generator = BinaryDataGenerator(population_size=800, columns=[\"smoker\", \"tar\", \"cancer\"], random_state=42)\n",
    "generator.set_values(col_name=\"smoker\", frac=0.5)\n",
    "generator.set_values(col_name=\"tar\", frac=0.05, condition=generator.data[\"smoker\"]==0)\n",
    "generator.set_values(col_name=\"tar\", frac=0.95, condition=generator.data[\"smoker\"]==1)\n",
    "generator.set_values(col_name=\"cancer\", frac=0.15, condition=((generator.data[\"smoker\"]==1) & (generator.data[\"tar\"]==1)))\n",
    "generator.set_values(col_name=\"cancer\", frac=0.1, condition=((generator.data[\"smoker\"]==1) & (generator.data[\"tar\"]==0)))\n",
    "generator.set_values(col_name=\"cancer\", frac=0.95, condition=((generator.data[\"smoker\"]==0) & (generator.data[\"tar\"]==1)))\n",
    "generator.set_values(col_name=\"cancer\", frac=0.9, condition=((generator.data[\"smoker\"]==0) & (generator.data[\"tar\"]==0)))\n",
    "df_smoking = generator.data\n",
    "df_smoking"
   ]
  },
  {
   "cell_type": "markdown",
   "metadata": {},
   "source": [
    "## Version 1: Basic Function\n",
    "\n",
    "The most basic version of the function, implemented using the promised \"3 lines of code\" is as follows -"
   ]
  },
  {
   "cell_type": "code",
   "execution_count": 5,
   "metadata": {
    "ExecuteTime": {
     "end_time": "2023-02-05T14:48:34.637816Z",
     "start_time": "2023-02-05T14:48:34.623780Z"
    }
   },
   "outputs": [
    {
     "data": {
      "text/plain": [
       "0.1475"
      ]
     },
     "execution_count": 5,
     "metadata": {},
     "output_type": "execute_result"
    }
   ],
   "source": [
    "def calc_cond_prob(df_data: pd.DataFrame, outcome : tuple = None, events : dict = {}) -> float:\n",
    "\n",
    "    for feature, value in events.items():\n",
    "        df_data = df_data[df_data[feature] == value]\n",
    "\n",
    "    prob = df_data[df_data[outcome[0]]==outcome[1]].shape[0] / df_data.shape[0]\n",
    "\n",
    "    return prob\n",
    "\n",
    "calc_cond_prob(df_data=df_smoking, outcome=(\"cancer\",1), events={\"smoker\": 1})"
   ]
  },
  {
   "cell_type": "markdown",
   "metadata": {},
   "source": [
    "## Version 2: Basic Function Plus LaTeX Output\n",
    "\n",
    "However, I soon got bored with all the ``print`` statements to show the results which led to the second version which can optionally output a LaTeX representation of the calculation ..."
   ]
  },
  {
   "cell_type": "code",
   "execution_count": 6,
   "metadata": {
    "ExecuteTime": {
     "end_time": "2023-02-05T14:48:34.653778Z",
     "start_time": "2023-02-05T14:48:34.639786Z"
    }
   },
   "outputs": [
    {
     "data": {
      "text/latex": [
       "$\\displaystyle p(cancer=1 \\mid smoker=1) = 0.1475$"
      ],
      "text/plain": [
       "<IPython.core.display.Math object>"
      ]
     },
     "metadata": {},
     "output_type": "display_data"
    },
    {
     "data": {
      "text/latex": [
       "$\\displaystyle p(cancer=1 \\mid smoker=1, tar=1) = 0.15$"
      ],
      "text/plain": [
       "<IPython.core.display.Math object>"
      ]
     },
     "metadata": {},
     "output_type": "display_data"
    },
    {
     "name": "stdout",
     "output_type": "stream",
     "text": [
      "\n"
     ]
    }
   ],
   "source": [
    "from IPython.display import Math\n",
    "\n",
    "def calc_cond_prob(df_data: pd.DataFrame, outcome : tuple, events : dict, display_latex : bool = False) -> float:\n",
    "\n",
    "    for feature, value in events.items():\n",
    "        df_data = df_data[df_data[feature] == value]\n",
    "\n",
    "    prob = df_data[df_data[outcome[0]]==outcome[1]].shape[0] / df_data.shape[0]\n",
    "    \n",
    "    if display_latex:\n",
    "        mid_char : str = r\"\\mid\"\n",
    "        display(Math(f\"p({outcome[0]}={outcome[1]} {'' if len(events) == 0 else mid_char} {', '.join('{}={}'.format(k,v) for k,v in events.items())}) = {prob}\"))\n",
    "\n",
    "    return prob\n",
    "\n",
    "calc_cond_prob(df_data=df_smoking, outcome=(\"cancer\",1), events={\"smoker\": 1}, display_latex=True)\n",
    "calc_cond_prob(df_data=df_smoking, outcome=(\"cancer\",1), events={\"smoker\": 1, \"tar\": 1}, display_latex=True)\n",
    "print(\"\")"
   ]
  },
  {
   "cell_type": "markdown",
   "metadata": {},
   "source": [
    "## Version 3: Advanced Function\n",
    "Having got this far I really wanted a final version where I could just say $P(cancer=1 \\mid smoking=1)$ directly and get the result, but I also wanted to retain ``outcome`` and ``events`` as optional parameters so I could choose with method to use ..."
   ]
  },
  {
   "cell_type": "code",
   "execution_count": 7,
   "metadata": {
    "ExecuteTime": {
     "end_time": "2023-02-05T14:48:34.685788Z",
     "start_time": "2023-02-05T14:48:34.654777Z"
    }
   },
   "outputs": [
    {
     "data": {
      "text/latex": [
       "$\\displaystyle p(cancer=1 \\mid smoker=1) = 0.1475$"
      ],
      "text/plain": [
       "<IPython.core.display.Math object>"
      ]
     },
     "metadata": {},
     "output_type": "display_data"
    },
    {
     "data": {
      "text/latex": [
       "$\\displaystyle p(cancer=1 \\mid smoker=1, tar=1) = 0.15$"
      ],
      "text/plain": [
       "<IPython.core.display.Math object>"
      ]
     },
     "metadata": {},
     "output_type": "display_data"
    },
    {
     "name": "stdout",
     "output_type": "stream",
     "text": [
      "\n"
     ]
    }
   ],
   "source": [
    "from typing import Tuple\n",
    "from IPython.display import Math\n",
    "\n",
    "import re\n",
    "import ast\n",
    "\n",
    "def __int_float_str(v : any) -> any:\n",
    "    try:\n",
    "        return ast.literal_eval(v)\n",
    "    except ValueError:\n",
    "        return v\n",
    "\n",
    "def __extract_outcome_events(cond_prob: str) -> Tuple[tuple, dict]:\n",
    "    cond_prob = cond_prob.replace(\" \", \"\")\n",
    "    outcome = re.findall(r'(?i)[p]\\((\\w+)=(\\d+)', cond_prob)[0]\n",
    "    events = {k:__int_float_str(v) for k,v in re.findall(r'(\\w+)=(\\w+)', re.search(r'(?i)[p]\\(([^|]+)\\|?(.*)', cond_prob).group(2))}\n",
    "\n",
    "    return (outcome[0], __int_float_str(outcome[1])), events\n",
    "\n",
    "def calc_cond_prob(df_data: pd.DataFrame, cond_prob : str = None, outcome : tuple = None, events : dict = {}, display_latex : bool = False) -> float:\n",
    "    \"\"\"Calculates a conditional probability from the values in a DataFrame\n",
    "\n",
    "    Args:\n",
    "        df_data (pd.DataFrame): The DataFrame being used\n",
    "        cond_prob (str): The conditional probaility being calculated, for example p(A=1|B=1)\n",
    "        outcome (tuple, optional): If cond_prob is not passed the outcome can be specified directly. Defaults to None.\n",
    "        events (dict, optional): If cond_prob is not passed the events can be specified directly. Defaults to None.\n",
    "        display_latex (bool, optional): If True the a Latex representation of the conditional probability is displayed. Defaults to False.\n",
    "\n",
    "    Returns:\n",
    "        float: The calculated conditional probability\n",
    "    \"\"\"\n",
    "    if outcome is None and len(events) == 0:\n",
    "        outcome, events = __extract_outcome_events(cond_prob)\n",
    "\n",
    "    for feature, value in events.items():\n",
    "        df_data = df_data[df_data[feature] == value]\n",
    "\n",
    "    prob = df_data[df_data[outcome[0]]==outcome[1]].shape[0] / df_data.shape[0]\n",
    "\n",
    "    if display_latex:\n",
    "        mid_char : str = r\"\\mid\"\n",
    "        display(Math(f\"p({outcome[0]}={outcome[1]} {'' if len(events) == 0 else mid_char} {', '.join('{}={}'.format(k,v) for k,v in events.items())}) = {prob}\"))\n",
    "\n",
    "    return prob\n",
    "\n",
    "calc_cond_prob(df_data=df_smoking, cond_prob=\"p(cancer=1|smoker=1)\", display_latex=True)\n",
    "calc_cond_prob(df_data=df_smoking, cond_prob=\"p(cancer=1|smoker=1, tar=1)\", display_latex=True)\n",
    "print(\"\")"
   ]
  },
  {
   "cell_type": "markdown",
   "metadata": {},
   "source": [
    "# Conclusion\n",
    "Conditional probabilities are very useful in a range of statistical and machine learning solutions but there is no easy, readable and repeatable way to calculate them from a pandas ``DataFrame``.\n",
    "\n",
    "This article has explained what conditional proabilities are, given an example and then provided all the source code for a Python function that can take any ``DataFrame`` and then calculate and display the result."
   ]
  }
 ],
 "metadata": {
  "kernelspec": {
   "display_name": "Python 3 (ipykernel)",
   "language": "python",
   "name": "python3"
  },
  "language_info": {
   "codemirror_mode": {
    "name": "ipython",
    "version": 3
   },
   "file_extension": ".py",
   "mimetype": "text/x-python",
   "name": "python",
   "nbconvert_exporter": "python",
   "pygments_lexer": "ipython3",
   "version": "3.8.5"
  }
 },
 "nbformat": 4,
 "nbformat_minor": 4
}
