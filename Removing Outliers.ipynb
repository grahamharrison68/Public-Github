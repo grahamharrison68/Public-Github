{
 "cells": [
  {
   "cell_type": "code",
   "execution_count": 1,
   "metadata": {},
   "outputs": [
    {
     "name": "stdout",
     "output_type": "stream",
     "text": [
      "imports complete\n"
     ]
    },
    {
     "name": "stderr",
     "output_type": "stream",
     "text": [
      "C:\\Users\\GHarrison\\AppData\\Local\\Continuum\\anaconda3\\lib\\site-packages\\statsmodels\\tools\\_testing.py:19: FutureWarning: pandas.util.testing is deprecated. Use the functions in the public API at pandas.testing instead.\n",
      "  import pandas.util.testing as tm\n"
     ]
    }
   ],
   "source": [
    "import pandas as pd\n",
    "import numpy as np\n",
    "import seaborn as sns\n",
    "import matplotlib.pyplot as plt \n",
    "#from scipy import stats\n",
    "print(\"imports complete\")\n"
   ]
  },
  {
   "cell_type": "markdown",
   "metadata": {},
   "source": [
    " # Outliers\n",
    "\n",
    " A boxplot showing the median and inter-quartile ranges is a good way to visualise a distribution, especially when\n",
    " the data contains outliers. The meaning of the various aspects of a box plot can be visualised as follows -\n",
    "\n",
    " ![](images/IQR.png)"
   ]
  },
  {
   "cell_type": "markdown",
   "metadata": {},
   "source": [
    " ## Generating some data\n",
    " We are going to need some test data to explore the issues around outliers"
   ]
  },
  {
   "cell_type": "markdown",
   "metadata": {},
   "source": [
    " ### Function Definition\n",
    "\n",
    " The generate() function below (taken from Stack Overflow) will generate a list of floats\n",
    " with a given median that contains outliers (values a long way from the median) which we can\n",
    " use to explore the concept."
   ]
  },
  {
   "cell_type": "code",
   "execution_count": 2,
   "metadata": {},
   "outputs": [],
   "source": [
    "def generate(median=630, err=12, outlier_err=100, size=80, outlier_size=10):\n",
    "    np.random.seed(median)\n",
    "    errs = err * np.random.rand(size) * np.random.choice((-1, 1), size)\n",
    "    data = median + errs\n",
    "\n",
    "    lower_errs = outlier_err * np.random.rand(outlier_size)\n",
    "    lower_outliers = median - err - lower_errs\n",
    "\n",
    "    upper_errs = outlier_err * np.random.rand(outlier_size)\n",
    "    upper_outliers = median + err + upper_errs\n",
    "\n",
    "    data = np.concatenate((data, lower_outliers, upper_outliers))\n",
    "    np.random.shuffle(data)\n",
    "\n",
    "    return data\n"
   ]
  },
  {
   "cell_type": "markdown",
   "metadata": {},
   "source": [
    " ### Function Testing\n",
    "\n",
    " Let's get the results of generate() into a DataFrame so we can take a look at the output ..."
   ]
  },
  {
   "cell_type": "code",
   "execution_count": 3,
   "metadata": {},
   "outputs": [
    {
     "data": {
      "text/html": [
       "<div>\n",
       "<style scoped>\n",
       "    .dataframe tbody tr th:only-of-type {\n",
       "        vertical-align: middle;\n",
       "    }\n",
       "\n",
       "    .dataframe tbody tr th {\n",
       "        vertical-align: top;\n",
       "    }\n",
       "\n",
       "    .dataframe thead th {\n",
       "        text-align: right;\n",
       "    }\n",
       "</style>\n",
       "<table border=\"1\" class=\"dataframe\">\n",
       "  <thead>\n",
       "    <tr style=\"text-align: right;\">\n",
       "      <th></th>\n",
       "      <th>0</th>\n",
       "    </tr>\n",
       "  </thead>\n",
       "  <tbody>\n",
       "    <tr>\n",
       "      <th>0</th>\n",
       "      <td>729.346989</td>\n",
       "    </tr>\n",
       "    <tr>\n",
       "      <th>1</th>\n",
       "      <td>625.517946</td>\n",
       "    </tr>\n",
       "    <tr>\n",
       "      <th>2</th>\n",
       "      <td>628.131548</td>\n",
       "    </tr>\n",
       "    <tr>\n",
       "      <th>3</th>\n",
       "      <td>728.244689</td>\n",
       "    </tr>\n",
       "    <tr>\n",
       "      <th>4</th>\n",
       "      <td>523.220860</td>\n",
       "    </tr>\n",
       "  </tbody>\n",
       "</table>\n",
       "</div>"
      ],
      "text/plain": [
       "            0\n",
       "0  729.346989\n",
       "1  625.517946\n",
       "2  628.131548\n",
       "3  728.244689\n",
       "4  523.220860"
      ]
     },
     "execution_count": 3,
     "metadata": {},
     "output_type": "execute_result"
    }
   ],
   "source": [
    "df_test = pd.DataFrame(generate())\n",
    "df_test.head()\n"
   ]
  },
  {
   "cell_type": "markdown",
   "metadata": {},
   "source": [
    " ## Creating some meaningful data\n",
    "\n",
    " The following creates a dataframe with 3 columns with means of 630, 740 and 220 which contain ouutlying values"
   ]
  },
  {
   "cell_type": "code",
   "execution_count": 4,
   "metadata": {},
   "outputs": [
    {
     "data": {
      "text/html": [
       "<div>\n",
       "<style scoped>\n",
       "    .dataframe tbody tr th:only-of-type {\n",
       "        vertical-align: middle;\n",
       "    }\n",
       "\n",
       "    .dataframe tbody tr th {\n",
       "        vertical-align: top;\n",
       "    }\n",
       "\n",
       "    .dataframe thead th {\n",
       "        text-align: right;\n",
       "    }\n",
       "</style>\n",
       "<table border=\"1\" class=\"dataframe\">\n",
       "  <thead>\n",
       "    <tr style=\"text-align: right;\">\n",
       "      <th></th>\n",
       "      <th>Col0</th>\n",
       "      <th>Col1</th>\n",
       "      <th>Col2</th>\n",
       "    </tr>\n",
       "  </thead>\n",
       "  <tbody>\n",
       "    <tr>\n",
       "      <th>0</th>\n",
       "      <td>729.346989</td>\n",
       "      <td>732.344105</td>\n",
       "      <td>279.715383</td>\n",
       "    </tr>\n",
       "    <tr>\n",
       "      <th>1</th>\n",
       "      <td>625.517946</td>\n",
       "      <td>745.195532</td>\n",
       "      <td>223.136746</td>\n",
       "    </tr>\n",
       "    <tr>\n",
       "      <th>2</th>\n",
       "      <td>628.131548</td>\n",
       "      <td>743.745312</td>\n",
       "      <td>213.111157</td>\n",
       "    </tr>\n",
       "    <tr>\n",
       "      <th>3</th>\n",
       "      <td>728.244689</td>\n",
       "      <td>740.958763</td>\n",
       "      <td>216.648211</td>\n",
       "    </tr>\n",
       "    <tr>\n",
       "      <th>4</th>\n",
       "      <td>523.220860</td>\n",
       "      <td>748.678124</td>\n",
       "      <td>222.700787</td>\n",
       "    </tr>\n",
       "  </tbody>\n",
       "</table>\n",
       "</div>"
      ],
      "text/plain": [
       "         Col0        Col1        Col2\n",
       "0  729.346989  732.344105  279.715383\n",
       "1  625.517946  745.195532  223.136746\n",
       "2  628.131548  743.745312  213.111157\n",
       "3  728.244689  740.958763  216.648211\n",
       "4  523.220860  748.678124  222.700787"
      ]
     },
     "execution_count": 4,
     "metadata": {},
     "output_type": "execute_result"
    }
   ],
   "source": [
    "df = pd.DataFrame({'Col0': generate(median=630), 'Col1': generate(median=740), 'Col2': generate(median=220)})\n",
    "df.head()\n"
   ]
  },
  {
   "cell_type": "markdown",
   "metadata": {},
   "source": [
    " ## Working with outliers\n",
    "\n",
    " Let's start by taking another look at the explanation -\n",
    "\n",
    " ![](images/IQR.png)"
   ]
  },
  {
   "cell_type": "markdown",
   "metadata": {},
   "source": [
    " ### Helpder functions\n",
    "\n",
    " The functions below looks at a column of values within a data frame and calculates\n",
    " the 1st and 3rd quartiles, the inter-quartile range and the minimum and maximum\n",
    " Any value outside of the miniumum and maximum is an outlier"
   ]
  },
  {
   "cell_type": "code",
   "execution_count": 5,
   "metadata": {},
   "outputs": [
    {
     "name": "stdout",
     "output_type": "stream",
     "text": [
      "functions defined\n"
     ]
    }
   ],
   "source": [
    "# (modified from http://www.itl.nist.gov/div898/handbook/prc/section1/prc16.htm)\n",
    "def get_iqr_values(df_in, col_name):\n",
    "    median = df_in[col_name].median()\n",
    "    q1 = df_in[col_name].quantile(0.25) # 25th percentile / 1st quartile\n",
    "    q3 = df_in[col_name].quantile(0.75) # 7th percentile / 3rd quartile\n",
    "    iqr = q3-q1 #Interquartile range\n",
    "    minimum  = q1-1.5*iqr # The minimum value or the |- marker in the box plot\n",
    "    maximum = q3+1.5*iqr # The maximum value or the -| marker in the box plot\n",
    "    return median, q1, q3, iqr, minimum, maximum\n",
    "\n",
    "def get_iqr_text(df_in, col_name):\n",
    "    median, q1, q3, iqr, minimum, maximum = get_iqr_values(df_in, col_name)\n",
    "    text = f\"median={median:.2f}, q1={q1:.2f}, q3={q3:.2f}, iqr={iqr:.2f}, minimum={minimum:.2f}, maximum={maximum:.2f}\"\n",
    "    return text\n",
    "\n",
    "def remove_outliers(df_in, col_name):\n",
    "    _, _, _, _, minimum, maximum = get_iqr_values(df_in, col_name)\n",
    "    df_out = df_in.loc[(df_in[col_name] > minimum) & (df_in[col_name] < maximum)]\n",
    "    return df_out\n",
    "\n",
    "def count_outliers(df_in, col_name):\n",
    "    _, _, _, _, minimum, maximum = get_iqr_values(df_in, col_name)\n",
    "    df_outliers = df_in.loc[(df_in[col_name] <= minimum) | (df_in[col_name] >= maximum)]\n",
    "    return df_outliers.shape[0]\n",
    "\n",
    "def box_and_whisker(df_in, col_name):\n",
    "    title = get_iqr_text(df_in, col_name)\n",
    "    sns.boxplot(df_in[col_name])\n",
    "    plt.title(title)\n",
    "    plt.show()\n",
    "\n",
    "print(\"functions defined\")"
   ]
  },
  {
   "cell_type": "markdown",
   "metadata": {},
   "source": [
    " ## Visualising the data\n",
    "\n",
    " sns.boxplot is used to visualise our 3 columns of data; the outliers are the dots that lie\n",
    " outside of the |- and -| whiskers ..."
   ]
  },
  {
   "cell_type": "code",
   "execution_count": 6,
   "metadata": {},
   "outputs": [
    {
     "data": {
      "image/png": "[encoded data removed]",
      "text/plain": [
       "<Figure size 432x288 with 1 Axes>"
      ]
     },
     "metadata": {
      "needs_background": "light"
     },
     "output_type": "display_data"
    },
    {
     "data": {
      "image/png": "[encoded data removed]",
      "text/plain": [
       "<Figure size 432x288 with 1 Axes>"
      ]
     },
     "metadata": {
      "needs_background": "light"
     },
     "output_type": "display_data"
    },
    {
     "data": {
      "image/png": "[encoded data removed]",
      "text/plain": [
       "<Figure size 432x288 with 1 Axes>"
      ]
     },
     "metadata": {
      "needs_background": "light"
     },
     "output_type": "display_data"
    }
   ],
   "source": [
    "box_and_whisker(df, 'Col0')\n",
    "box_and_whisker(df, 'Col1')\n",
    "box_and_whisker(df, 'Col2')\n",
    "\n",
    "_, _, _, _, minimum_Col1_before, maximum_Col1_before = get_iqr_values(df, 'Col1')\n"
   ]
  },
  {
   "cell_type": "code",
   "execution_count": 7,
   "metadata": {},
   "outputs": [
    {
     "name": "stdout",
     "output_type": "stream",
     "text": [
      "Col0 has 19 outliers\n",
      "Col1 has 16 outliers\n",
      "Col2 has 18 outliers\n"
     ]
    }
   ],
   "source": [
    "print(f\"Col0 has {count_outliers(df, 'Col0')} outliers\")\n",
    "print(f\"Col1 has {count_outliers(df, 'Col1')} outliers\")\n",
    "print(f\"Col2 has {count_outliers(df, 'Col2')} outliers\")\n"
   ]
  },
  {
   "cell_type": "markdown",
   "metadata": {},
   "source": [
    " ## Removing the outliers\n",
    "\n",
    " Having done all the heavy lifting in the helpder functions we can now go ahead and remove the rows from the outliers\n",
    " outside of the |- and -| whiskers ..."
   ]
  },
  {
   "cell_type": "code",
   "execution_count": 8,
   "metadata": {},
   "outputs": [
    {
     "name": "stdout",
     "output_type": "stream",
     "text": [
      "rows before removing: 100\n",
      "rows after removing: 56\n"
     ]
    }
   ],
   "source": [
    "print(f\"rows before removing: {df.shape[0]}\")\n",
    "df = remove_outliers(df, 'Col0')\n",
    "df = remove_outliers(df, 'Col1')\n",
    "df = remove_outliers(df, 'Col2')\n",
    "print(f\"rows after removing: {df.shape[0]}\")\n"
   ]
  },
  {
   "cell_type": "markdown",
   "metadata": {},
   "source": [
    " ## Visualise the result\n",
    "\n",
    " Let's have a look at the end-result. Here is something very strange though, our data still appears to have outliers!"
   ]
  },
  {
   "cell_type": "code",
   "execution_count": 9,
   "metadata": {},
   "outputs": [
    {
     "data": {
      "image/png": "[encoded data removed]",
      "text/plain": [
       "<Figure size 432x288 with 1 Axes>"
      ]
     },
     "metadata": {
      "needs_background": "light"
     },
     "output_type": "display_data"
    },
    {
     "data": {
      "image/png": "[encoded data removed]",
      "text/plain": [
       "<Figure size 432x288 with 1 Axes>"
      ]
     },
     "metadata": {
      "needs_background": "light"
     },
     "output_type": "display_data"
    },
    {
     "data": {
      "image/png": "[encoded data removed]",
      "text/plain": [
       "<Figure size 432x288 with 1 Axes>"
      ]
     },
     "metadata": {
      "needs_background": "light"
     },
     "output_type": "display_data"
    }
   ],
   "source": [
    "box_and_whisker(df, 'Col0')\n",
    "box_and_whisker(df, 'Col1')\n",
    "box_and_whisker(df, 'Col2')\n",
    "\n",
    "_, _, _, _, minimum_Col1_after, maximum_Col1_after = get_iqr_values(df, 'Col1')\n"
   ]
  },
  {
   "cell_type": "markdown",
   "metadata": {},
   "source": [
    " ## Explain the result\n",
    "\n",
    " The reason that Col0 and Col1 still appear to have outliers is that we removed the outliers based on the\n",
    " minimum and maximum of the dataframe before we modified it with\n",
    "\n",
    "   df = remove_outliers(df, 'Col0')\n",
    "   df = remove_outliers(df, 'Col1')\n",
    "   df = remove_outliers(df, 'Col2')\n",
    "\n",
    " Once the data has been changed some values will be retained that were close to the original boundaries but\n",
    " after the modification the boundaries will change leaving some of the values outside of the new boundaries"
   ]
  },
  {
   "cell_type": "code",
   "execution_count": 10,
   "metadata": {},
   "outputs": [
    {
     "name": "stdout",
     "output_type": "stream",
     "text": [
      "Col1 original boundaries: minium=709.74, maximum=769.86\n",
      "Col1 new minimum and maximum values: minium=713.45, maximum=764.40\n",
      "Col1 new boundaries: minium=718.65, maximum=762.43\n",
      "\n",
      "Col0 has 1 outliers\n",
      "Col1 has 2 outliers\n",
      "Col2 has 0 outliers\n"
     ]
    }
   ],
   "source": [
    "print(f\"Col1 original boundaries: minium={minimum_Col1_before:.2f}, maximum={maximum_Col1_before:.2f}\")\n",
    "print(f\"Col1 new minimum and maximum values: minium={df['Col1'].min():.2f}, maximum={df['Col1'].max():.2f}\")\n",
    "print(f\"Col1 new boundaries: minium={minimum_Col1_after:.2f}, maximum={maximum_Col1_after:.2f}\")\n",
    "print(\"\")\n",
    "print(f\"Col0 has {count_outliers(df, 'Col0')} outliers\")\n",
    "print(f\"Col1 has {count_outliers(df, 'Col1')} outliers\")\n",
    "print(f\"Col2 has {count_outliers(df, 'Col2')} outliers\")\n"
   ]
  },
  {
   "cell_type": "markdown",
   "metadata": {},
   "source": [
    " ## Resolve the result\n",
    "\n",
    " We can either accept this slightly strange looking result or we can keep on trimming outliers until\n",
    " there are non left in the updated data frame .."
   ]
  },
  {
   "cell_type": "code",
   "execution_count": 11,
   "metadata": {},
   "outputs": [
    {
     "name": "stdout",
     "output_type": "stream",
     "text": [
      "Col0 has 0 outliers\n"
     ]
    },
    {
     "data": {
      "image/png": "[encoded data removed]",
      "text/plain": [
       "<Figure size 432x288 with 1 Axes>"
      ]
     },
     "metadata": {
      "needs_background": "light"
     },
     "output_type": "display_data"
    },
    {
     "name": "stdout",
     "output_type": "stream",
     "text": [
      "Col1 has 0 outliers\n"
     ]
    },
    {
     "data": {
      "image/png": "[encoded data removed]",
      "text/plain": [
       "<Figure size 432x288 with 1 Axes>"
      ]
     },
     "metadata": {
      "needs_background": "light"
     },
     "output_type": "display_data"
    },
    {
     "name": "stdout",
     "output_type": "stream",
     "text": [
      "Col2 has 0 outliers\n"
     ]
    },
    {
     "data": {
      "image/png": "[encoded data removed]",
      "text/plain": [
       "<Figure size 432x288 with 1 Axes>"
      ]
     },
     "metadata": {
      "needs_background": "light"
     },
     "output_type": "display_data"
    }
   ],
   "source": [
    "for column in df:\n",
    "    loop_count = 0\n",
    "    outlier_count = count_outliers(df, column)\n",
    "    while outlier_count > 0:\n",
    "        df = remove_outliers(df, column)\n",
    "        outlier_count = count_outliers(df, column)\n",
    "        loop_count += 1\n",
    "        if (loop_count > 100):\n",
    "            break\n",
    "\n",
    "    print(f\"{column} has {count_outliers(df, column)} outliers\")\n",
    "    box_and_whisker(df, column)\n"
   ]
  },
  {
   "cell_type": "markdown",
   "metadata": {},
   "source": [
    " ## Conclusion\n",
    "\n",
    " We have generated some test data with outliers to explore the probem space and then built some\n",
    " helper functions to resolve them.\n",
    "\n",
    " Having removed the outliers using the inter quartile ranges we noted that there appeared to be some\n",
    " left near the tails and explained this result as follow; the remaining outliers were not quite outliers\n",
    " in the original data but when we modified the data by trimming the original outliers the boundaries changed.\n",
    "\n",
    " This is an odd looking result. We can either accept it, as the point of removing outliers would usually be\n",
    " to remove outlandish values skewing the results or the models the results will be used in, or we can simply\n",
    " iterate around the data removing outliers until they are all gone. Two iterations usually suffices but the\n",
    " function provided keeps going until they are all gone"
   ]
  }
 ],
 "metadata": {
  "kernelspec": {
   "display_name": "Python 3",
   "language": "python",
   "name": "python3"
  },
  "language_info": {
   "codemirror_mode": {
    "name": "ipython",
    "version": 3
   },
   "file_extension": ".py",
   "mimetype": "text/x-python",
   "name": "python",
   "nbconvert_exporter": "python",
   "pygments_lexer": "ipython3",
   "version": "3.7.4"
  }
 },
 "nbformat": 4,
 "nbformat_minor": 2
}