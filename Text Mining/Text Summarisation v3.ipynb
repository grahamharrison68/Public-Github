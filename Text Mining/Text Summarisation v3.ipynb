{
 "cells": [
  {
   "cell_type": "code",
   "execution_count": 1,
   "metadata": {},
   "outputs": [],
   "source": [
    "#pip install python-docx\n",
    "#pip install docx"
   ]
  },
  {
   "cell_type": "code",
   "execution_count": 2,
   "metadata": {},
   "outputs": [],
   "source": [
    "import docx\n",
    "import gensim.summarization\n",
    "import os \n",
    "import tkinter as tk\n",
    "from tkinter.filedialog import askopenfilename\n",
    "from IPython.display import Markdown, display\n",
    "#import nltk   "
   ]
  },
  {
   "cell_type": "code",
   "execution_count": 3,
   "metadata": {},
   "outputs": [],
   "source": [
    "def openfile():\n",
    "    # Hide the additional dialog box\n",
    "    root = tk.Tk()\n",
    "    root.withdraw()\n",
    "    root.wm_attributes('-topmost', 1)\n",
    "\n",
    "    filename = askopenfilename(initialdir=os.getcwd(), title=\"Choose Input File\", filetypes = ((\"Word Documents\",\"*.docx\"),(\"Text Files\",\"*.txt\")))\n",
    "\n",
    "    return filename"
   ]
  },
  {
   "cell_type": "code",
   "execution_count": 4,
   "metadata": {},
   "outputs": [],
   "source": [
    "def getText(filename):\n",
    "    extension = os.path.splitext(filename)[1][1:]\n",
    "    if extension == \"txt\":\n",
    "        f = open(filename, \"r\")\n",
    "        fullText = f.read()\n",
    "        return fullText\n",
    "\n",
    "    if extension == \"docx\":\n",
    "        doc = docx.Document(filename)\n",
    "        fullText = []\n",
    "        for para in doc.paragraphs:\n",
    "            fullText.append(para.text)\n",
    "        return '\\n'.join(fullText)\n",
    "    \n",
    "    return \"\"   "
   ]
  },
  {
   "cell_type": "code",
   "execution_count": 5,
   "metadata": {},
   "outputs": [],
   "source": [
    "def summarise(text, word_count=300):\n",
    "    #text = getText(filename)\n",
    "    if text == \"\":\n",
    "        return \"\"\n",
    "    striptext = text.replace('\\n\\n', ' ')\n",
    "    striptext = striptext.replace('\\n', ' ')\n",
    "    striptext = striptext.replace('\\t', ' ')\n",
    "    striptext = striptext.replace('i.e.', '[[ie]]')\n",
    "    \n",
    "    summary = gensim.summarization.summarize(striptext, word_count=word_count)\n",
    "    \n",
    "    return summary.replace(\".\", \".\\n\").replace('[[ie]]', 'i.e.')    "
   ]
  },
  {
   "cell_type": "code",
   "execution_count": 6,
   "metadata": {},
   "outputs": [],
   "source": [
    "def printmd(string):\n",
    "    display(Markdown(string))"
   ]
  },
  {
   "cell_type": "code",
   "execution_count": 7,
   "metadata": {},
   "outputs": [],
   "source": [
    "def openLocalFileAndSummarize():\n",
    "    file_name = openfile()\n",
    "    if file_name != \"\": \n",
    "        printmd(f\"<b>Executive Summary for {os.path.basename(file_name)}\\n</b>\")\n",
    "        print(summarise(getText(file_name)))"
   ]
  },
  {
   "cell_type": "markdown",
   "metadata": {},
   "source": [
    "https://www.sustainability-reports.com/unleashing-the-power-of-online-reporting/"
   ]
  },
  {
   "cell_type": "code",
   "execution_count": 8,
   "metadata": {},
   "outputs": [
    {
     "data": {
      "text/markdown": [
       "<b>Executive Summary for HR System - 12052020 - FINAL.docx\n",
       "</b>"
      ],
      "text/plain": [
       "<IPython.core.display.Markdown object>"
      ]
     },
     "metadata": {},
     "output_type": "display_data"
    },
    {
     "name": "stdout",
     "output_type": "stream",
     "text": [
      "04 May 2020 To:  ELT  HR SYSTEMS REPLACEMENT ISSUE The main HR system (iTrent) has some key issues including high cost and low integration with the core MIS platform.\n",
      "\n",
      "However, it is likely that any systems migration would be targeted for a natural break in the academic cycle, for example October or February half term, and that parallel running would take place for one calendar quarter to verify payroll calculations and other key outputs.\n",
      "\n",
      "Licensing costs have risen during that time due to several factors – The initial contract did not include many of the optional modules which were later found to be required and the associated costs of additional modules has accumulated.\n",
      "\n",
      "As new HR legislation is introduced like RTI and LGPS iTrent charge a non-negotiable amount during the year of the change and then add the same amount to the recurring license costs.\n",
      "\n",
      "The CPC framework is well understood, easy to use, fully compliant with UK and EU legislation, reduces procurement timescales and ensures competitiveness and value for money  There are specific CPC Lots for HR and Payroll systems that includes both the incumbent (iTrent) and several systems identified as being of interest during the feasibility study (see ).\n",
      "\n",
      "The full saving cannot be realised during the year the transformation is delivered because of several factors – In addition to the annual license there will be a purchase component associated with any software procurements of this scale which will be a one-off cost in year 1.\n",
      "\n",
      "Given these complexities it is not currently possible to accurately quantify the year 1 costs, hence the recommendation to authorise the procurement process to the point of supplier selection and then review at ELT before either accepting or cancelling the implementation.\n",
      "\n"
     ]
    }
   ],
   "source": [
    "openLocalFileAndSummarize()"
   ]
  }
 ],
 "metadata": {
  "kernelspec": {
   "display_name": "Python 3",
   "language": "python",
   "name": "python3"
  },
  "language_info": {
   "codemirror_mode": {
    "name": "ipython",
    "version": 3
   },
   "file_extension": ".py",
   "mimetype": "text/x-python",
   "name": "python",
   "nbconvert_exporter": "python",
   "pygments_lexer": "ipython3",
   "version": "3.8.5"
  }
 },
 "nbformat": 4,
 "nbformat_minor": 4
}
