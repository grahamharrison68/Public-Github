{
 "cells": [
  {
   "cell_type": "code",
   "execution_count": null,
   "metadata": {},
   "outputs": [],
   "source": [
    "#pip install python-docx\n",
    "#pip install docx"
   ]
  },
  {
   "cell_type": "code",
   "execution_count": 1,
   "metadata": {},
   "outputs": [],
   "source": [
    "import docx\n",
    "import gensim.summarization"
   ]
  },
  {
   "cell_type": "code",
   "execution_count": 8,
   "metadata": {},
   "outputs": [],
   "source": [
    "def getText(filename):\n",
    "    doc = docx.Document(filename)\n",
    "    fullText = []\n",
    "    for para in doc.paragraphs:\n",
    "        fullText.append(para.text)\n",
    "    return '\\n'.join(fullText)"
   ]
  },
  {
   "cell_type": "code",
   "execution_count": 9,
   "metadata": {},
   "outputs": [],
   "source": [
    "text = getText(\"data/Dear Accountable Officer.docx\")"
   ]
  },
  {
   "cell_type": "code",
   "execution_count": 10,
   "metadata": {
    "scrolled": true
   },
   "outputs": [
    {
     "data": {
      "text/plain": [
       "'Dear Accountable Officer, Strengthening academic freedom and free speech in higher education in England I am writing to bring to your attention the paper published today by my department which sets out tougher legal measures to strengthen free speech and academic freedom in English higher education. Our universities have a long and proud history of being a space where views may be freely expressed and debated. Historically, they have been a crucible where ideas, tested and explored, have fuelled the progress of freedom and emancipation. I strongly believe that all staff and students should feel safe to challenge conventional wisdom by putting forward and discussing ideas that may be controversial, unpalatable, or even deeply offensive. I am clear that any activities at higher education providers that seek to limit lawful free speech and academic expression are unacceptable in all but a limited number of circumstances. Without action to counter attempts to discourage or even silence unpopular views, intellectual life on campus for both staff and students may be unfairly narrowed and diminished. The proposed measures deliver on our manifesto commitment to strengthen academic freedom and free speech in universities. The paper sets out the limitations of the existing legal framework in regard to freedom of speech and academic freedom within higher education, identifying where protections might be strengthened and proposing enhanced enforcement mechanisms. The current legal framework imposes on those concerned in the governance of providers a legal duty to take reasonably practicable steps to ensure free speech within the law is secured for their members, students, staff and visiting speakers. A growing number of reports of concerns in relation to freedom ol speech on campus, however, suggest that this duty is not being fully complied with and that there is insufficient enforcement of the duty; and the existing legal framework has been criticised as being overly complex. The proposals in this paper aim to strengthen and reinforce these aspects of the legislation. In particular, we are proposing to legislate to require the Office for Students to introduce a new registration condition regarding free speech and academic freedom. We will also strengthen and clarify the existing legal duties on free speech and academic freedom. These strengthened legal duties will extend to students’ unions, which for the first time will have to take steps to ensure that lawful free speech is secured for their members and others, including visiting speakers. In addition, legislation will enable individuals to seek compensation through the courts if they suffer loss as a result of breach of the free speech duties — for example, if they are expelled, dismissed or demoted. I recognise that the majority of the sector shares the values of free speech and academic freedom that are set out in this paper and the proposals aim to strengthen and further enable the efforts of those who are working to ensure that these values are protected. As leaders, I would like you to be at the forefront of ensuring a culture that values free speech is embedded and actively challenging those who would curtail it. To aid this, our document also includes a set of Government expectations, which set out best practices which I believe all registered higher education providers should ideally be ensuring they are in accordance with. In advance of legislation, I would urge you to review your existing internal practices against these expectations and make changes where necessary. I look forward to working with you to ensure that our universities and colleges remain bastions of free thought and intellectual debate for which they have long been celebrated. '"
      ]
     },
     "execution_count": 10,
     "metadata": {},
     "output_type": "execute_result"
    }
   ],
   "source": [
    "# Prepare text\n",
    "striptext = text.replace('\\n\\n', ' ')\n",
    "striptext = striptext.replace('\\n', ' ')\n",
    "striptext = striptext.replace('\\t', ' ')\n",
    "striptext"
   ]
  },
  {
   "cell_type": "code",
   "execution_count": 11,
   "metadata": {},
   "outputs": [
    {
     "name": "stdout",
     "output_type": "stream",
     "text": [
      "The paper sets out the limitations of the existing legal framework in regard to freedom of speech and academic freedom within higher education, identifying where protections might be strengthened and proposing enhanced enforcement mechanisms.\n",
      "The current legal framework imposes on those concerned in the governance of providers a legal duty to take reasonably practicable steps to ensure free speech within the law is secured for their members, students, staff and visiting speakers.\n",
      "I recognise that the majority of the sector shares the values of free speech and academic freedom that are set out in this paper and the proposals aim to strengthen and further enable the efforts of those who are working to ensure that these values are protected.\n"
     ]
    }
   ],
   "source": [
    "summary = gensim.summarization.summarize(striptext, word_count=100) \n",
    "print(summary)"
   ]
  },
  {
   "cell_type": "code",
   "execution_count": 18,
   "metadata": {},
   "outputs": [],
   "source": [
    "def summarise(filename):\n",
    "    text = getText(filename)\n",
    "    striptext = text.replace('\\n\\n', ' ')\n",
    "    striptext = striptext.replace('\\n', ' ')\n",
    "    striptext = striptext.replace('\\t', ' ')\n",
    "    \n",
    "    summary = gensim.summarization.summarize(striptext, word_count=300) \n",
    "    summary = summary.replace(\".\", \".\\n\")\n",
    "    print(summary)"
   ]
  },
  {
   "cell_type": "code",
   "execution_count": 19,
   "metadata": {},
   "outputs": [
    {
     "name": "stdout",
     "output_type": "stream",
     "text": [
      "I am clear that any activities at higher education providers that seek to limit lawful free speech and academic expression are unacceptable in all but a limited number of circumstances.\n",
      "\n",
      "The proposed measures deliver on our manifesto commitment to strengthen academic freedom and free speech in universities.\n",
      "\n",
      "The paper sets out the limitations of the existing legal framework in regard to freedom of speech and academic freedom within higher education, identifying where protections might be strengthened and proposing enhanced enforcement mechanisms.\n",
      "\n",
      "The current legal framework imposes on those concerned in the governance of providers a legal duty to take reasonably practicable steps to ensure free speech within the law is secured for their members, students, staff and visiting speakers.\n",
      "\n",
      "A growing number of reports of concerns in relation to freedom ol speech on campus, however, suggest that this duty is not being fully complied with and that there is insufficient enforcement of the duty; and the existing legal framework has been criticised as being overly complex.\n",
      "\n",
      "In particular, we are proposing to legislate to require the Office for Students to introduce a new registration condition regarding free speech and academic freedom.\n",
      "\n",
      "We will also strengthen and clarify the existing legal duties on free speech and academic freedom.\n",
      "\n",
      "These strengthened legal duties will extend to students’ unions, which for the first time will have to take steps to ensure that lawful free speech is secured for their members and others, including visiting speakers.\n",
      "\n",
      "I recognise that the majority of the sector shares the values of free speech and academic freedom that are set out in this paper and the proposals aim to strengthen and further enable the efforts of those who are working to ensure that these values are protected.\n",
      "\n"
     ]
    }
   ],
   "source": [
    "summarise(\"data/Dear Accountable Officer.docx\")"
   ]
  },
  {
   "cell_type": "code",
   "execution_count": 20,
   "metadata": {},
   "outputs": [
    {
     "name": "stdout",
     "output_type": "stream",
     "text": [
      "RECOMMENDATION The recommendation is to sign a contract with Advanced by the end of February to commit to taking the Pro suite ePortfolio platform, with the bulk of actual spend deferred to 1st August.\n",
      "\n",
      "TIMING A decision on whether to plan for a September launch of the new Pro ePortfolio platform is required by the end of February.\n",
      "\n",
      "In the intervening period it has not been possible to provide apprenticeship information and dashboarding services to the standard of the rest of the college because of the data integration and associated issues.\n",
      "\n",
      "Some key milestones have now occurred meaning that a decision is required on whether to undertake a move from OneFile to ProSolution ePortfolio – The pre-February early adopters price offer will expire at the end of February and costs will increase by 45%.\n",
      "\n",
      "Despite the challenges the OneFile system is not fit-for-purpose and it will never be possible to deliver extra-ordinary, data-augmented decision making or to deliver an extraordinary experience to apprentices, employers, instructor-assessors and other staff.\n",
      "\n",
      "SUMMARY Moving from OneFile to the Pro suite ePortfolio system will enable the benefits associated with a fully integrated MIS, specifically data accuracy, timeliness and consistency and the ability to use the data to augment and inform decision making.\n",
      "\n",
      "Several key milestones mean that a decision is required before the end of February to enable a project that would see the new intake of September apprentices join the new system rather than continue on OneFile.\n",
      "\n",
      "The 5 year license cost for the Pro ePortfolio module is £74,328 compared to £164,000 for OneFile i.\n",
      "e.\n",
      " a 5 year saving of £89,672.\n",
      "\n",
      "It should also be noted that whilst Advanced require a contractual commitment by the end of February to hold the pre-February charges, the costs will not be incurred until 1st August i.\n",
      "e.\n",
      " in-year spend will be minimised.\n",
      "\n"
     ]
    }
   ],
   "source": [
    "summarise(\"data/ePortfolio - 09022020.docx\")"
   ]
  },
  {
   "cell_type": "code",
   "execution_count": 21,
   "metadata": {},
   "outputs": [
    {
     "name": "stdout",
     "output_type": "stream",
     "text": [
      "04 May 2020 To:  ELT  HR SYSTEMS REPLACEMENT ISSUE The main HR system (iTrent) has some key issues including high cost and low integration with the core MIS platform.\n",
      "\n",
      "However, it is likely that any systems migration would be targeted for a natural break in the academic cycle, for example October or February half term, and that parallel running would take place for one calendar quarter to verify payroll calculations and other key outputs.\n",
      "\n",
      "Licensing costs have risen during that time due to several factors – The initial contract did not include many of the optional modules which were later found to be required and the associated costs of additional modules has accumulated.\n",
      "\n",
      "As new HR legislation is introduced like RTI and LGPS iTrent charge a non-negotiable amount during the year of the change and then add the same amount to the recurring license costs.\n",
      "\n",
      "The CPC framework is well understood, easy to use, fully compliant with UK and EU legislation, reduces procurement timescales and ensures competitiveness and value for money  There are specific CPC Lots for HR and Payroll systems that includes both the incumbent (iTrent) and several systems identified as being of interest during the feasibility study (see ).\n",
      "\n",
      "The full saving cannot be realised during the year the transformation is delivered because of several factors – In addition to the annual license there will be a purchase component associated with any software procurements of this scale which will be a one-off cost in year 1.\n",
      "\n",
      "Given these complexities it is not currently possible to accurately quantify the year 1 costs, hence the recommendation to authorise the procurement process to the point of supplier selection and then review at ELT before either accepting or cancelling the implementation.\n",
      "\n"
     ]
    }
   ],
   "source": [
    "summarise(\"data/HR System - 12052020 - FINAL.docx\")"
   ]
  }
 ],
 "metadata": {
  "kernelspec": {
   "display_name": "Python 3",
   "language": "python",
   "name": "python3"
  },
  "language_info": {
   "codemirror_mode": {
    "name": "ipython",
    "version": 3
   },
   "file_extension": ".py",
   "mimetype": "text/x-python",
   "name": "python",
   "nbconvert_exporter": "python",
   "pygments_lexer": "ipython3",
   "version": "3.8.5"
  }
 },
 "nbformat": 4,
 "nbformat_minor": 4
}
