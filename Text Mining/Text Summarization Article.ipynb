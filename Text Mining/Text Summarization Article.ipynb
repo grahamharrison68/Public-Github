{
 "cells": [
  {
   "cell_type": "code",
   "execution_count": 1,
   "metadata": {},
   "outputs": [],
   "source": [
    "import tkinter as tk\n",
    "from tkinter.filedialog import askopenfilename\n",
    "import os \n",
    "import docx\n",
    "import gensim.summarization\n",
    "from IPython.display import display, Markdown, clear_output\n",
    "import ipywidgets as widgets"
   ]
  },
  {
   "cell_type": "code",
   "execution_count": 2,
   "metadata": {},
   "outputs": [],
   "source": [
    "def openfile():\n",
    "    \"\"\"Opens a file on the local storage via a File | Open dialog box\n",
    "\n",
    "    Returns:\n",
    "        str: The full path to the file selected via the File | Open dialog or \"\" if no file was selected\n",
    "    \"\"\"\n",
    "    # Hide the additional dialog box\n",
    "    root = tk.Tk()\n",
    "    root.withdraw()\n",
    "    root.wm_attributes('-topmost', 1)\n",
    "\n",
    "    # Show the file open dailog box and return the filename\n",
    "    filename = askopenfilename(initialdir=os.getcwd(), title=\"Choose Input File\", filetypes = ((\"Word Documents\",\"*.docx\"),(\"Text Files\",\"*.txt\")))\n",
    "\n",
    "    return filename"
   ]
  },
  {
   "cell_type": "code",
   "execution_count": 3,
   "metadata": {},
   "outputs": [],
   "source": [
    "def getText(filename):\n",
    "    \"\"\"Reads the text from a .txt or .docx file\n",
    "\n",
    "    Args:\n",
    "        filename (str): The full path to the file to be read\n",
    "\n",
    "    Returns:\n",
    "        str: All of the text read from the file\n",
    "    \"\"\"\n",
    "    extension = os.path.splitext(filename)[1][1:] # Extract the extension from the filename\n",
    "    \n",
    "    if extension == \"txt\": # If it is a .txt file just open the file and read the contents\n",
    "        f = open(filename, \"r\")\n",
    "        fullText = f.read()\n",
    "        return fullText\n",
    "\n",
    "    if extension == \"docx\": # if it is a .docx use the docx library to open it\n",
    "        doc = docx.Document(filename)\n",
    "        fullText = []\n",
    "\n",
    "        for para in doc.paragraphs: # Append each paragraph to fullText\n",
    "            fullText.append(para.text)\n",
    "        \n",
    "        return '\\n'.join(fullText) # Join each element of fullText, separated with a \\n and return the whole as a string\n",
    "    \n",
    "    return \"\" # If the filename does not have a .txt. or .docx extension, return an empty string"
   ]
  },
  {
   "cell_type": "code",
   "execution_count": 4,
   "metadata": {},
   "outputs": [],
   "source": [
    "def summarise(text, word_count=300):\n",
    "    \"\"\"Uses text summarization to produce a summary of the text passed in\n",
    "\n",
    "    Args:\n",
    "        text (str): The text to summarize\n",
    "        word_count (int, optional): The maximum number of words to limit the summary to. Defaults to 300.\n",
    "\n",
    "    Returns:\n",
    "        str: A summarized version of the text passed in.\n",
    "    \"\"\"\n",
    "    if text == \"\": # If the text passed in is empty, return an empty string\n",
    "        return \"\"\n",
    "\n",
    "    # There are a lot of combinations of text in the input that can be preprocessed.\n",
    "    # The code below is a simple example of the sort of preprocessing that can inprove the summarizrion\n",
    "    striptext = text.replace('\\n\\n', ' ') # Replace double carriage return linefeed with a space\n",
    "    striptext = striptext.replace('\\n', ' ') # Replace single carriage return linefeed with a space\n",
    "    striptext = striptext.replace('\\t', ' ') # Replace tab with a space\n",
    "    striptext = striptext.replace('i.e.', '[[ie]]') # Replace i.e. as it is interpreted as two sentences separated by full stops\n",
    "    \n",
    "    # Use gensim.summarization.summarize to summarize the text. The internal process is to tokenize the sentences and \n",
    "    # words, then assign importance to the words through frequency and other techniques and then to establish the scoring \n",
    "    # and weighting for each sentence.\n",
    "    summary = gensim.summarization.summarize(striptext, word_count=word_count)\n",
    "    \n",
    "    # A simple example of post-processing - replace the full stops with a full stops, next line and put any instances of\n",
    "    # i.e. back as they were before the pre-processing. Lastly return the summarization.\n",
    "    return summary.replace(\".\", \".\\n\").replace('[[ie]]', 'i.e.') "
   ]
  },
  {
   "cell_type": "code",
   "execution_count": 5,
   "metadata": {},
   "outputs": [],
   "source": [
    "def printmd(string):\n",
    "    \"\"\"Formats and prints a string that can contain HTML markup like <b>, <H> etc.\n",
    "\n",
    "    Args:\n",
    "        string (str): The string to format and print containing markup.\n",
    "    \"\"\"\n",
    "\n",
    "    display(Markdown(string)) # Use IPython.display IPython.Markdown and to format and print the string"
   ]
  },
  {
   "cell_type": "code",
   "execution_count": 6,
   "metadata": {},
   "outputs": [],
   "source": [
    "def openLocalFileAndSummarize():\n",
    "    \"\"\"Displays a File | Open dialog for the user to select a file from local storage, then prints the title followed by a summarization of the text contained in the selected file.\n",
    "    \"\"\"\n",
    "    file_name = openfile()\n",
    "    if file_name != \"\": \n",
    "        printmd(f\"<b>Executive Summary for {os.path.basename(file_name)}\\n</b>\")\n",
    "        print(summarise(getText(file_name)))"
   ]
  },
  {
   "cell_type": "code",
   "execution_count": 7,
   "metadata": {},
   "outputs": [],
   "source": [
    "def on_button_clicked(_):\n",
    "    \"\"\"Event handler for the button click\n",
    "\n",
    "    Args:\n",
    "        _ (N/A): Dummy parameter which must be passed in or an error is raised\n",
    "    \"\"\"\n",
    "    with out:\n",
    "      clear_output() # Clear the output from the last run\n",
    "      openLocalFileAndSummarize() # Open the File | Open dialog box, select a file and summarize it\n",
    "\n",
    "button = widgets.Button(description='Choose a File') # Create the button\n",
    "out = widgets.Output() # Create the output\n",
    "button.on_click(on_button_clicked) # Assign the event handler"
   ]
  },
  {
   "cell_type": "markdown",
   "metadata": {},
   "source": [
    "- https://www.sustainability-reports.com/unleashing-the-power-of-online-reporting/\n",
    "- https://www.mckinsey.com/business-functions/marketing-and-sales/our-insights/were-all-marketers-now"
   ]
  },
  {
   "cell_type": "code",
   "execution_count": 8,
   "metadata": {},
   "outputs": [
    {
     "output_type": "display_data",
     "data": {
      "text/plain": "VBox(children=(Button(description='Choose a File', style=ButtonStyle()), Output()))",
      "application/vnd.jupyter.widget-view+json": {
       "version_major": 2,
       "version_minor": 0,
       "model_id": "88f2bb7dfc2e418bb377dc8028f07a02"
      }
     },
     "metadata": {}
    }
   ],
   "source": [
    "widgets.VBox([button,out]) # Create a vertical box consisting of the button followed by the output"
   ]
  }
 ],
 "metadata": {
  "kernelspec": {
   "name": "python385jvsc74a57bd06a787e808c3d1dd82fe363a7abeb54d04b42f9574bc37122e3147b76bc04cd61",
   "display_name": "Python 3.8.5 64-bit (conda)"
  },
  "language_info": {
   "codemirror_mode": {
    "name": "ipython",
    "version": 3
   },
   "file_extension": ".py",
   "mimetype": "text/x-python",
   "name": "python",
   "nbconvert_exporter": "python",
   "pygments_lexer": "ipython3",
   "version": "3.8.5"
  }
 },
 "nbformat": 4,
 "nbformat_minor": 4
}