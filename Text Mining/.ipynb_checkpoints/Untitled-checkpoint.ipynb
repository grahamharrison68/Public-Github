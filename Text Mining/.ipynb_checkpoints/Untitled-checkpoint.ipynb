{
 "cells": [
  {
   "cell_type": "code",
   "execution_count": null,
   "metadata": {},
   "outputs": [],
   "source": [
    "#pip install python-docx\n",
    "#pip install docx"
   ]
  },
  {
   "cell_type": "code",
   "execution_count": 9,
   "metadata": {},
   "outputs": [],
   "source": [
    "import docx\n",
    "import gensim.summarization"
   ]
  },
  {
   "cell_type": "code",
   "execution_count": 4,
   "metadata": {},
   "outputs": [],
   "source": [
    "def getText(filename):\n",
    "    doc = docx.Document(filename)\n",
    "    fullText = []\n",
    "    for para in doc.paragraphs:\n",
    "        fullText.append(para.text)\n",
    "    return '\\n'.join(fullText)"
   ]
  },
  {
   "cell_type": "code",
   "execution_count": 41,
   "metadata": {},
   "outputs": [],
   "source": [
    "text = getText(\"data/ePortfolio - 09022020.docx\")"
   ]
  },
  {
   "cell_type": "code",
   "execution_count": 42,
   "metadata": {
    "scrolled": true
   },
   "outputs": [
    {
     "data": {
      "text/plain": [
       "'9th February 2021 To:  ELT  EPORTFOLIO SYSTEM REPLACEMENT ISSUE The apprenticeship ePortfolio platform is a system called OneFile. The data has very low timeliness, accuracy and consistency and the system suffers from data duplication errors because it is not integrated with other data sources. It is also considered to be unfit for purpose by users. RECOMMENDATION The recommendation is to sign a contract with Advanced by the end of February to commit to taking the Pro suite ePortfolio platform, with the bulk of actual spend deferred to 1st August. Furthermore, the recommendation is to engage with OneFile to actively run down the current licenses and to reduce the OneFile contract accordingly from March. TIMING A decision on whether to plan for a September launch of the new Pro ePortfolio platform is required by the end of February.  BACKGROUND AND ANALYSIS In 2018 the separate student records system, external parent & student portal, CRM system, resource planning, student tracking, timetabling, SAR, lesson observations, dashboard and ESFA data systems were all unified into the Pro suite.  Unifying the separate systems eliminated many copies of data into a single database that significantly increased data accuracy, timeliness and consistency which contributed to a transformation in data and information. However, at the time of purchase Advanced did not have an ePortfolio module and hence OneFile was left as a standalone system. In the intervening period it has not been possible to provide apprenticeship information and dashboarding services to the standard of the rest of the college because of the data integration and associated issues. Also, several audits have highlighted many instances where the same data item has to be stored in both systems with different values across the two systems (i.e. start dates that do not match) leading to poor audit outcomes. OneFile is not fit for purpose along the dimensions of usability, data accuracy, reporting, analytics, cost etc. and is preventing high-end data-related outcomes that have become possible for other areas of the college. Advanced have been developing a Pro suite ePortfolio module. Emma Innesbeer, Lucie Hulme and Tmasyn Lawton have been embedded in the design team and have been actively involved in shaping the features and capabilities. The Pro suite ePortfolio module has now been officially launched and is ready for purchase. Reduced pricing is available for colleges that commit contractually by the end of February and these colleges will also continue to be embedded on the development team with the opportunity to shape ongoing development. The majority of the cost can be deferred to August 1st. Some early stage consultancy might need to be called down in during the 2020/21 period, ~£5k. Some key milestones have now occurred meaning that a decision is required on whether to undertake a move from OneFile to ProSolution ePortfolio – The pre-February early adopters price offer will expire at the end of February and costs will increase by 45%. The OneFile contract is due for renewal at the end of March and a contract will be required for an agreed number of Apprentices which will be significantly lower if we are running the license down. If the OneFile contractual numbers are reduced this will signal our intent to move which will need to be managed from mid-March onwards. The on-boarding of apprentices peaks in September and if the strategy is not established and the systems lined up by then the next window will be in September 2022. There are some associated risk and issues – It is not possible to cleanly migrate and quickly decommission OneFile as the data structures are complex and the data inaccessible and much of the data is video and sound portfolio evidence.  This will require a prolonged period of dual running whilst apprentices are moved over manually or run down on the old system. This in turn will lead to some operational challenges and an inability to recover all of the savings in year 1. Despite the challenges the OneFile system is not fit-for-purpose and it will never be possible to deliver extra-ordinary, data-augmented decision making or to deliver an extraordinary experience to apprentices, employers, instructor-assessors and other staff. The EP management team are all strongly in favour of the change and have been actively involved in the design and development of the new system. Alternatives to the Advanced ePortfolio have been considered – Specifically, the SmartAssessor system was evaluated. Although the useability is slightly better than OneFile it suffers from the same integration issues as it is only offered as SaaS (Software-as-a-Service) with no access permitted to the underlying data. SUMMARY Moving from OneFile to the Pro suite ePortfolio system will enable the benefits associated with a fully integrated MIS, specifically data accuracy, timeliness and consistency and the ability to use the data to augment and inform decision making. Several key milestones mean that a decision is required before the end of February to enable a project that would see the new intake of September apprentices join the new system rather than continue on OneFile. FINANCIAL IMPLICATIONS The exact financial implications are very difficult to state accurately because the complex OneFile licensing model makes it hard to project costs. The direct comparison is that OneFile historically costs £28,800 in annual licensing plus overage costs that can add another £4k - £6k per year. The 5 year license cost for the Pro ePortfolio module is £74,328 compared to £164,000 for OneFile i.e. a 5 year saving of £89,672. However, year 1 of Pro ePortfolio would require £10,200 of consultancy to facilitate the go-live and also OneFile usage would decline over 1-2 years and could not be switched off immediately. It should also be noted that whilst Advanced require a contractual commitment by the end of February to hold the pre-February charges, the costs will not be incurred until 1st August i.e. in-year spend will be minimised. INFRASTRUCTURE AND HEALTH AND SAFETY ISSUES There are no physical infrastructure issues; potentially the health and safety of staff could improve through moving from a complex and difficult system to Pro suite ePortfolio and Canvas which are industry-leading solutions. CLIMATE CHANGE AND SUSTAINABILITY There are no climate change or sustainability issues. INTERNAL AND EXTERNAL COMMUNICATIONS CONSIDERATIONS Internal communications to the EP division, particularly the Instructor Assessors will be key to achieving full buy in and a smooth change.   Graham Harrison (Group Director of IT, Information Management & Projects)  Annexes:  Annex A – Initial Cost Breakdown  ANNEX a – iNITIAL cOST bREAKDOWN Table I – 5 Year Cost Profile With PRe-February Prices Table II – Comparison of Pre-February and Post-February Prices  '"
      ]
     },
     "execution_count": 42,
     "metadata": {},
     "output_type": "execute_result"
    }
   ],
   "source": [
    "# Prepare text\n",
    "striptext = text.replace('\\n\\n', ' ')\n",
    "striptext = striptext.replace('\\n', ' ')\n",
    "striptext = striptext.replace('\\t', ' ')\n",
    "striptext"
   ]
  },
  {
   "cell_type": "code",
   "execution_count": 43,
   "metadata": {},
   "outputs": [
    {
     "name": "stdout",
     "output_type": "stream",
     "text": [
      "RECOMMENDATION The recommendation is to sign a contract with Advanced by the end of February to commit to taking the Pro suite ePortfolio platform, with the bulk of actual spend deferred to 1st August.\n",
      "Some key milestones have now occurred meaning that a decision is required on whether to undertake a move from OneFile to ProSolution ePortfolio – The pre-February early adopters price offer will expire at the end of February and costs will increase by 45%.\n",
      "SUMMARY Moving from OneFile to the Pro suite ePortfolio system will enable the benefits associated with a fully integrated MIS, specifically data accuracy, timeliness and consistency and the ability to use the data to augment and inform decision making.\n"
     ]
    }
   ],
   "source": [
    "summary = gensim.summarization.summarize(striptext, word_count=100) \n",
    "print(summary)"
   ]
  },
  {
   "cell_type": "code",
   "execution_count": 47,
   "metadata": {},
   "outputs": [],
   "source": [
    "def summarise(filename):\n",
    "    text = getText(filename)\n",
    "    striptext = text.replace('\\n\\n', ' ')\n",
    "    striptext = striptext.replace('\\n', ' ')\n",
    "    striptext = striptext.replace('\\t', ' ')\n",
    "    \n",
    "    summary = gensim.summarization.summarize(striptext, word_count=200) \n",
    "    print(summary)"
   ]
  },
  {
   "cell_type": "code",
   "execution_count": 48,
   "metadata": {},
   "outputs": [
    {
     "name": "stdout",
     "output_type": "stream",
     "text": [
      "RECOMMENDATION The recommendation is to sign a contract with Advanced by the end of February to commit to taking the Pro suite ePortfolio platform, with the bulk of actual spend deferred to 1st August.\n",
      "TIMING A decision on whether to plan for a September launch of the new Pro ePortfolio platform is required by the end of February.\n",
      "Some key milestones have now occurred meaning that a decision is required on whether to undertake a move from OneFile to ProSolution ePortfolio – The pre-February early adopters price offer will expire at the end of February and costs will increase by 45%.\n",
      "SUMMARY Moving from OneFile to the Pro suite ePortfolio system will enable the benefits associated with a fully integrated MIS, specifically data accuracy, timeliness and consistency and the ability to use the data to augment and inform decision making.\n",
      "Several key milestones mean that a decision is required before the end of February to enable a project that would see the new intake of September apprentices join the new system rather than continue on OneFile.\n",
      "The 5 year license cost for the Pro ePortfolio module is £74,328 compared to £164,000 for OneFile i.e. a 5 year saving of £89,672.\n"
     ]
    }
   ],
   "source": [
    "summarise(\"data/ePortfolio - 09022020.docx\")"
   ]
  },
  {
   "cell_type": "code",
   "execution_count": 27,
   "metadata": {},
   "outputs": [
    {
     "data": {
      "text/plain": [
       "'RECOMMENDATION The recommendation is to sign a contract with Advanced by the end of February to commit to taking the Pro suite ePortfolio platform, with the bulk of actual spend deferred to 1st August.\\nSome key milestones have now occurred meaning that a decision is required on whether to undertake a move from OneFile to ProSolution ePortfolio – The pre-February early adopters price offer will expire at the end of February and costs will increase by 45%.\\nSUMMARY Moving from OneFile to the Pro suite ePortfolio system will enable the benefits associated with a fully integrated MIS, specifically data accuracy, timeliness and consistency and the ability to use the data to augment and inform decision making.'"
      ]
     },
     "execution_count": 27,
     "metadata": {},
     "output_type": "execute_result"
    }
   ],
   "source": [
    "summarise(\"data/ePortfolio - 09022020.docx\")"
   ]
  },
  {
   "cell_type": "code",
   "execution_count": 28,
   "metadata": {},
   "outputs": [
    {
     "data": {
      "text/plain": [
       "'04 May 2020 To:  ELT  HR SYSTEMS REPLACEMENT ISSUE The main HR system (iTrent) has some key issues including high cost and low integration with the core MIS platform.\\nAs new HR legislation is introduced like RTI and LGPS iTrent charge a non-negotiable amount during the year of the change and then add the same amount to the recurring license costs.\\nThe full saving cannot be realised during the year the transformation is delivered because of several factors – In addition to the annual license there will be a purchase component associated with any software procurements of this scale which will be a one-off cost in year 1.'"
      ]
     },
     "execution_count": 28,
     "metadata": {},
     "output_type": "execute_result"
    }
   ],
   "source": [
    "summarise(\"data/HR System - 12052020 - FINAL.docx\")"
   ]
  },
  {
   "cell_type": "code",
   "execution_count": 31,
   "metadata": {},
   "outputs": [
    {
     "data": {
      "text/plain": [
       "'04 May 2020\\n\\nTo: \\tELT \\n\\nHR SYSTEMS REPLACEMENT\\n\\nISSUE\\n\\nThe main HR system (iTrent) has some key issues including high cost and low integration with the core MIS platform.\\n\\nHR also use a separate system called Ozola for managing sessional resources which is functionally adequate but high cost.\\n\\nThere are suppliers who can provide a unified HR system that would replace both systems which has the potential to deliver many effectiveness, efficiency and economy benefits.\\n\\nGiven the current point in the academic cycle in respect of planning of budget and resources for 2020/21 a decision is required now about whether to proceed from feasibility to phase one of the procurement cycle.\\n\\nRECOMMENDATION\\n\\nThe recommendation is to commit to starting a procurement exercise within the framework of the Crescent Purchasing Consortium.\\n\\nIt is recommended that the procurement exercise progress to the point where all the supplier responses are evaluated and costed and at that point a further ELT review be held to decide whether to proceed to contractual engagement.\\n\\nTIMING\\n\\nThe recommended timing is to begin immediately.\\n\\nThe precise timing of any systems implementation will be established during the first stage of the procurement cycle if the recommendation is accepted.\\n\\nHowever, it is likely that any systems migration would be targeted for a natural break in the academic cycle, for example October or February half term, and that parallel running would take place for one calendar quarter to verify payroll calculations and other key outputs.\\n\\nBACKGROUND AND ANALYSIS\\n\\niTrent has been the incumbent HR system since 2010/11. \\n\\nLicensing costs have risen during that time due to several factors –\\n\\nThe initial contract did not include many of the optional modules which were later found to be required and the associated costs of additional modules has accumulated.\\n\\nAs new HR legislation is introduced like RTI and LGPS iTrent charge a non-negotiable amount during the year of the change and then add the same amount to the recurring license costs. Other suppliers like Advanced adapt to legislative changes within the standard contract.\\n\\nThe license model is based on staffing headcount and as we have used iTrent for external catering, external payroll services etc. the user count has crossed another threshold that will see costs increase by another £5k in 2020/21.\\n\\nTotal iTrent costs have increased from £32k in 2014/15 to £48k in 2020/21.\\n\\nIn addition to concerns around rising costs there are other factors that give rise to an exploration of other options.\\n\\nThere is no integration with the core ProSolution MIS system. The data representation of the organisation structure has been created manually in iTrent which has caused inevitable differences and inconsistencies. This leads to an inability to join data across the systems which is a pre-requisite for accurate, timely and consistent consolidated analytics and reporting.\\n\\nThe iTrent account management has been poor. The account managers will not engage with respect to challenges in FE budgets creating the perception that they take us for granted as a customer.\\n\\niTrent is difficult and unintuitive to use for the non-HR users and the newer and more graphical look-and-feel has not resolved this issue.\\n\\nThere are no embedded workflows in iTrent meaning that tasks like on-boarding new starters often involves semi-manual steps with e-mails being generated and actioned manually.\\n\\nAlso, many tasks like yearly and half-yearly reviews involve managers creating reports in separate Word documents and then storing and maintaining the reports themselves on H: drives rather than being an integrated feature of the HR system.\\n\\niTrent has several issues. However, there are some positive factors –\\n\\nMidland HR who supply iTrent have many years’ experience and their systems are designed from the ground up to work for the education sector.\\n\\nFurther Education has a requirement for HR systems to support split and term time only contracts. For example, a staff member may have a 0.3 FTE contract in one role and a 0.5 FTE contract in another, potentially with different line-managers and different terms and conditions. This requirement rules out many of the high-end HR systems that are common in other sectors.\\n\\nThe Ozola sessional recruiting and staff management system also has some significant concerns.\\n\\nIt was purchased when we exited the corporate relationship with Protocol and brought the work in-house. At the time we needed a software solution to manage the new function and Protocol offered to license theirs. \\n\\nThere were no other systems available at the time, hence the commercial terms were less favourable than they would have been in a competitive market.\\n\\nIn the intervening period HR systems have entered the market that can accommodate split contracts and also accommodate sessional recruitment and sessional staff management.\\n\\nThe Crescent Purchasing Consortium is a framework that is commonly used by Lincoln College that has recently been used to procure a 5 year contract for printer-copiers and a 3-5 year contract for corporate insurance.\\n\\nThe CPC framework is well understood, easy to use, fully compliant with UK and EU legislation, reduces procurement timescales and ensures competitiveness and value for money \\n\\nThere are specific CPC Lots for HR and Payroll systems that includes both the incumbent (iTrent) and several systems identified as being of interest during the feasibility study (see ).\\n\\nThese CPC lots are defined and structured as a “mini-competition” which provides the ideal framework for specifying critical requirements like integration and sessional capability whilst retaining all of the UK and EU compliance and other benefits.\\n\\nClearly there is an opportunity to replace the HR software systems. However, the initial investigation has explored the technology, people and process triangle and concluded that an opportunity exists for a genuine transformation that, whilst prompted by software and cost factors, will focus on improving on all 3 axes.\\n\\nSUMMARY\\n\\niTrent and Ozola were purchased some time ago and at different times. Market conditions, organisational size and scope and other factors have changed in the meantime and these systems no longer represent the best available in terms of quality or cost.\\n\\nThe exact and full costs for the migration year have not yet been established (see FINANCIAL IMPLICATIONS and RECOMMENDATION). However, an initial review has indicated the potential to reduce software licensing costs by ~£50k per year from year two onwards.\\n\\nThe cost saving is not the only consideration; there are significant opportunities to transform the people and process aspects as well as the technology and to deliver organisation-wide benefits in effectiveness, efficiency and economy.\\n\\nThe HR, Information Services and IT functions have all been involved in an early feasibility investigation and are all agreed and aligned on the current issues and potential future benefits.\\n\\nFINANCIAL IMPLICATIONS\\n\\nThe total annual license costs are £48,148.32 for iTrent and £46,080.00 for Ozola, £94,228.32 in total.\\n\\nThe initial investigation has concluded that a saving of ~£50k per year could be realised in the income and expenditure by changing and consolidating the two HR systems.\\n\\nThe full saving cannot be realised during the year the transformation is delivered because of several factors –\\n\\nIn addition to the annual license there will be a purchase component associated with any software procurements of this scale which will be a one-off cost in year 1.\\n\\nIf we change providers there cannot be a completely clean break between the end of the existing contracts and the start of a new contract –\\n\\niTrent alone consists of 15 separate agreements of different lengths and start and end dates with Ozola being different again.\\n\\nAlso, there will need for one full calendar quarter of parallel running in order to verify that payroll and other key outputs are accurate and correct.\\n\\nGiven these complexities it is not currently possible to accurately quantify the year 1 costs, hence the recommendation to authorise the procurement process to the point of supplier selection and then review at ELT before either accepting or cancelling the implementation.\\n\\nINFRASTRUCTURE AND HEALTH AND SAFETY ISSUES\\n\\nDependent on the approach of the successful supplier there may be a need for additional IT infrastructure like virtual servers, databases and storage etc. all of which can be provided within existing capability and capacity.\\n\\nThere are no direct health and safety issues although a change on this scale will impact the daily working of many stakeholders. Hence comprehensive and inclusive change management and communications management strategies will be required.\\n\\nCLIMATE CHANGE AND SUSTAINABILITY\\n\\nNo climate change and sustainability issues have been identified.\\n\\nINTERNAL AND EXTERNAL COMMUNICATIONS CONSIDERATIONS\\n\\nInternal communications will need to be carefully planned to inform staff of any impending change without causing concern and then by supporting staff through any large-scale change.\\n\\nThere is also a need to ensure that any external communications to CPC approved suppliers are fully compliant with the procurement framework regulations and guidelines.\\n\\n\\n\\n\\n\\n\\n\\nGraham Harrison (Group Director of IT, Information Management & Projects)\\nClaire O’Hara (Head of HR)\\n\\n\\nAnnexes: \\tNo annexes\\n\\t\\t'"
      ]
     },
     "execution_count": 31,
     "metadata": {},
     "output_type": "execute_result"
    }
   ],
   "source": [
    "text = getText(\"data/HR System - 12052020 - FINAL.docx\")\n",
    "text"
   ]
  },
  {
   "cell_type": "code",
   "execution_count": 32,
   "metadata": {},
   "outputs": [
    {
     "data": {
      "text/plain": [
       "'04 May 2020 To:  ELT  HR SYSTEMS REPLACEMENT ISSUE The main HR system (iTrent) has some key issues including high cost and low integration with the core MIS platform. HR also use a separate system called Ozola for managing sessional resources which is functionally adequate but high cost. There are suppliers who can provide a unified HR system that would replace both systems which has the potential to deliver many effectiveness, efficiency and economy benefits. Given the current point in the academic cycle in respect of planning of budget and resources for 2020/21 a decision is required now about whether to proceed from feasibility to phase one of the procurement cycle. RECOMMENDATION The recommendation is to commit to starting a procurement exercise within the framework of the Crescent Purchasing Consortium. It is recommended that the procurement exercise progress to the point where all the supplier responses are evaluated and costed and at that point a further ELT review be held to decide whether to proceed to contractual engagement. TIMING The recommended timing is to begin immediately. The precise timing of any systems implementation will be established during the first stage of the procurement cycle if the recommendation is accepted. However, it is likely that any systems migration would be targeted for a natural break in the academic cycle, for example October or February half term, and that parallel running would take place for one calendar quarter to verify payroll calculations and other key outputs. BACKGROUND AND ANALYSIS iTrent has been the incumbent HR system since 2010/11.  Licensing costs have risen during that time due to several factors – The initial contract did not include many of the optional modules which were later found to be required and the associated costs of additional modules has accumulated. As new HR legislation is introduced like RTI and LGPS iTrent charge a non-negotiable amount during the year of the change and then add the same amount to the recurring license costs. Other suppliers like Advanced adapt to legislative changes within the standard contract. The license model is based on staffing headcount and as we have used iTrent for external catering, external payroll services etc. the user count has crossed another threshold that will see costs increase by another £5k in 2020/21. Total iTrent costs have increased from £32k in 2014/15 to £48k in 2020/21. In addition to concerns around rising costs there are other factors that give rise to an exploration of other options. There is no integration with the core ProSolution MIS system. The data representation of the organisation structure has been created manually in iTrent which has caused inevitable differences and inconsistencies. This leads to an inability to join data across the systems which is a pre-requisite for accurate, timely and consistent consolidated analytics and reporting. The iTrent account management has been poor. The account managers will not engage with respect to challenges in FE budgets creating the perception that they take us for granted as a customer. iTrent is difficult and unintuitive to use for the non-HR users and the newer and more graphical look-and-feel has not resolved this issue. There are no embedded workflows in iTrent meaning that tasks like on-boarding new starters often involves semi-manual steps with e-mails being generated and actioned manually. Also, many tasks like yearly and half-yearly reviews involve managers creating reports in separate Word documents and then storing and maintaining the reports themselves on H: drives rather than being an integrated feature of the HR system. iTrent has several issues. However, there are some positive factors – Midland HR who supply iTrent have many years’ experience and their systems are designed from the ground up to work for the education sector. Further Education has a requirement for HR systems to support split and term time only contracts. For example, a staff member may have a 0.3 FTE contract in one role and a 0.5 FTE contract in another, potentially with different line-managers and different terms and conditions. This requirement rules out many of the high-end HR systems that are common in other sectors. The Ozola sessional recruiting and staff management system also has some significant concerns. It was purchased when we exited the corporate relationship with Protocol and brought the work in-house. At the time we needed a software solution to manage the new function and Protocol offered to license theirs.  There were no other systems available at the time, hence the commercial terms were less favourable than they would have been in a competitive market. In the intervening period HR systems have entered the market that can accommodate split contracts and also accommodate sessional recruitment and sessional staff management. The Crescent Purchasing Consortium is a framework that is commonly used by Lincoln College that has recently been used to procure a 5 year contract for printer-copiers and a 3-5 year contract for corporate insurance. The CPC framework is well understood, easy to use, fully compliant with UK and EU legislation, reduces procurement timescales and ensures competitiveness and value for money  There are specific CPC Lots for HR and Payroll systems that includes both the incumbent (iTrent) and several systems identified as being of interest during the feasibility study (see ). These CPC lots are defined and structured as a “mini-competition” which provides the ideal framework for specifying critical requirements like integration and sessional capability whilst retaining all of the UK and EU compliance and other benefits. Clearly there is an opportunity to replace the HR software systems. However, the initial investigation has explored the technology, people and process triangle and concluded that an opportunity exists for a genuine transformation that, whilst prompted by software and cost factors, will focus on improving on all 3 axes. SUMMARY iTrent and Ozola were purchased some time ago and at different times. Market conditions, organisational size and scope and other factors have changed in the meantime and these systems no longer represent the best available in terms of quality or cost. The exact and full costs for the migration year have not yet been established (see FINANCIAL IMPLICATIONS and RECOMMENDATION). However, an initial review has indicated the potential to reduce software licensing costs by ~£50k per year from year two onwards. The cost saving is not the only consideration; there are significant opportunities to transform the people and process aspects as well as the technology and to deliver organisation-wide benefits in effectiveness, efficiency and economy. The HR, Information Services and IT functions have all been involved in an early feasibility investigation and are all agreed and aligned on the current issues and potential future benefits. FINANCIAL IMPLICATIONS The total annual license costs are £48,148.32 for iTrent and £46,080.00 for Ozola, £94,228.32 in total. The initial investigation has concluded that a saving of ~£50k per year could be realised in the income and expenditure by changing and consolidating the two HR systems. The full saving cannot be realised during the year the transformation is delivered because of several factors – In addition to the annual license there will be a purchase component associated with any software procurements of this scale which will be a one-off cost in year 1. If we change providers there cannot be a completely clean break between the end of the existing contracts and the start of a new contract – iTrent alone consists of 15 separate agreements of different lengths and start and end dates with Ozola being different again. Also, there will need for one full calendar quarter of parallel running in order to verify that payroll and other key outputs are accurate and correct. Given these complexities it is not currently possible to accurately quantify the year 1 costs, hence the recommendation to authorise the procurement process to the point of supplier selection and then review at ELT before either accepting or cancelling the implementation. INFRASTRUCTURE AND HEALTH AND SAFETY ISSUES Dependent on the approach of the successful supplier there may be a need for additional IT infrastructure like virtual servers, databases and storage etc. all of which can be provided within existing capability and capacity. There are no direct health and safety issues although a change on this scale will impact the daily working of many stakeholders. Hence comprehensive and inclusive change management and communications management strategies will be required. CLIMATE CHANGE AND SUSTAINABILITY No climate change and sustainability issues have been identified. INTERNAL AND EXTERNAL COMMUNICATIONS CONSIDERATIONS Internal communications will need to be carefully planned to inform staff of any impending change without causing concern and then by supporting staff through any large-scale change. There is also a need to ensure that any external communications to CPC approved suppliers are fully compliant with the procurement framework regulations and guidelines.    Graham Harrison (Group Director of IT, Information Management & Projects) Claire O’Hara (Head of HR)  Annexes:  No annexes   '"
      ]
     },
     "execution_count": 32,
     "metadata": {},
     "output_type": "execute_result"
    }
   ],
   "source": [
    "striptext = text.replace('\\n\\n', ' ')\n",
    "striptext = striptext.replace('\\n', ' ')\n",
    "striptext = striptext.replace('\\t', ' ')\n",
    "striptext"
   ]
  }
 ],
 "metadata": {
  "kernelspec": {
   "display_name": "Python 3",
   "language": "python",
   "name": "python3"
  },
  "language_info": {
   "codemirror_mode": {
    "name": "ipython",
    "version": 3
   },
   "file_extension": ".py",
   "mimetype": "text/x-python",
   "name": "python",
   "nbconvert_exporter": "python",
   "pygments_lexer": "ipython3",
   "version": "3.8.5"
  }
 },
 "nbformat": 4,
 "nbformat_minor": 4
}
