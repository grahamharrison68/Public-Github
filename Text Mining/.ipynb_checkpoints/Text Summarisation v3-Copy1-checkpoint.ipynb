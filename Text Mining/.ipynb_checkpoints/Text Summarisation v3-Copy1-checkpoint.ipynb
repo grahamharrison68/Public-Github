{
 "cells": [
  {
   "cell_type": "code",
   "execution_count": 1,
   "metadata": {},
   "outputs": [],
   "source": [
    "#pip install python-docx\n",
    "#pip install docx"
   ]
  },
  {
   "cell_type": "code",
   "execution_count": 2,
   "metadata": {},
   "outputs": [],
   "source": [
    "import docx\n",
    "import gensim.summarization\n",
    "import os \n",
    "import tkinter as tk\n",
    "from tkinter.filedialog import askopenfilename\n",
    "from IPython.display import Markdown, display\n",
    "import nltk   \n",
    "from bs4 import BeautifulSoup\n",
    "import requests\n",
    "\n",
    "from io import StringIO\n",
    "\n",
    "from pdfminer.converter import TextConverter\n",
    "from pdfminer.layout import LAParams\n",
    "from pdfminer.pdfdocument import PDFDocument\n",
    "from pdfminer.pdfinterp import PDFResourceManager, PDFPageInterpreter\n",
    "from pdfminer.pdfpage import PDFPage\n",
    "from pdfminer.pdfparser import PDFParser"
   ]
  },
  {
   "cell_type": "code",
   "execution_count": 3,
   "metadata": {},
   "outputs": [],
   "source": [
    "def openfile():\n",
    "    # Hide the additional dialog box\n",
    "    root = tk.Tk()\n",
    "    root.withdraw()\n",
    "    root.wm_attributes('-topmost', 1)\n",
    "\n",
    "    filename = askopenfilename(initialdir=os.getcwd(), title=\"Choose Input File\", filetypes = ((\"Word Documents\",\"*.docx\"),(\"Text Files\",\"*.txt\"),(\"PDF Documents\",\"*.pdf\")))\n",
    "\n",
    "    return filename"
   ]
  },
  {
   "cell_type": "code",
   "execution_count": 4,
   "metadata": {},
   "outputs": [],
   "source": [
    "def getText(filename):\n",
    "    extension = os.path.splitext(filename)[1][1:]\n",
    "    if extension == \"txt\":\n",
    "        f = open(filename, \"r\")\n",
    "        fullText = f.read()\n",
    "        return fullText\n",
    "\n",
    "    if extension == \"docx\":\n",
    "        doc = docx.Document(filename)\n",
    "        fullText = []\n",
    "        for para in doc.paragraphs:\n",
    "            fullText.append(para.text)\n",
    "        return '\\n'.join(fullText)\n",
    "\n",
    "    if extension == \"pdf\":\n",
    "        output_string = StringIO()\n",
    "        with open(filename, 'rb') as in_file:\n",
    "            parser = PDFParser(in_file)\n",
    "            doc = PDFDocument(parser)\n",
    "            rsrcmgr = PDFResourceManager()\n",
    "            device = TextConverter(rsrcmgr, output_string, laparams=LAParams())\n",
    "            interpreter = PDFPageInterpreter(rsrcmgr, device)\n",
    "            for page in PDFPage.create_pages(doc):\n",
    "                interpreter.process_page(page)\n",
    "\n",
    "        return output_string.getvalue()\n",
    "    \n",
    "    return \"\"   "
   ]
  },
  {
   "cell_type": "code",
   "execution_count": 5,
   "metadata": {},
   "outputs": [],
   "source": [
    "def summarise(text, word_count=300):\n",
    "    #text = getText(filename)\n",
    "    if text == \"\":\n",
    "        return \"\"\n",
    "    striptext = text.replace('\\n\\n', ' ')\n",
    "    striptext = striptext.replace('\\n', ' ')\n",
    "    striptext = striptext.replace('\\t', ' ')\n",
    "    striptext = striptext.replace('i.e.', '[[ie]]')\n",
    "    \n",
    "    summary = gensim.summarization.summarize(striptext, word_count=word_count)\n",
    "    \n",
    "    return summary.replace(\".\", \".\\n\").replace('[[ie]]', 'i.e.')    "
   ]
  },
  {
   "cell_type": "code",
   "execution_count": 6,
   "metadata": {},
   "outputs": [],
   "source": [
    "def printmd(string):\n",
    "    display(Markdown(string))"
   ]
  },
  {
   "cell_type": "code",
   "execution_count": 7,
   "metadata": {},
   "outputs": [],
   "source": [
    "def openLocalFileAndSummarize():\n",
    "    file_name = openfile()\n",
    "    if file_name != \"\": \n",
    "        printmd(f\"<b>Executive Summary for {os.path.basename(file_name)}\\n</b>\")\n",
    "        print(summarise(getText(file_name)))"
   ]
  },
  {
   "cell_type": "code",
   "execution_count": 9,
   "metadata": {},
   "outputs": [
    {
     "data": {
      "text/markdown": [
       "<b>Executive Summary for CyberSecurityForDummies.pdf\n",
       "</b>"
      ],
      "text/plain": [
       "<IPython.core.display.Markdown object>"
      ]
     },
     "metadata": {},
     "output_type": "display_data"
    },
    {
     "name": "stdout",
     "output_type": "stream",
     "text": [
      "Cybersecurity Means Different Things to Different Folks Cybersecurity Is a Constantly Moving Target Looking at the Risks That Cybersecurity Mitigates Chapter 2: Getting to Know Common Cyberattacks Attacks That Inflict Damage Impersonation Interception Data Theft Malware Poisoned Web Service Attacks Network Infrastructure Poisoning Malvertising \f",
      "Exploiting Maintenance Difficulties Advanced Attacks Chapter 3: Bad Guys and Accidental Bad Guys: The Folks You Must Defend Against Bad Guys and Good Guys Are Relative Terms Bad Guys Up to No Good Cyberattackers and Their Colored Hats Monetizing Their Actions Dealing with Nonmalicious Threats Defending against These Attackers Addressing Risks through Various Methods Part 2: Improving Your Own Personal Security Chapter 4: Evaluating Your Current Cybersecurity Posture Identifying Ways You May Be Less than Secure Identifying Risks Protecting against Risks Evaluating Your Current Security Measures Privacy 101 Banking Online Safely Safely Using Smart Devices Chapter 5: Enhancing Physical Security Understanding Why Physical Security Matters Taking Inventory Locating Your Vulnerable Data Creating and Executing a Physical Security Plan Implementing Physical Security Security for Mobile Devices Realizing That Insiders Pose the Greatest Risks Part 3: Protecting Yourself from Yourself Chapter 6: Securing Your Accounts Realizing That You’re a Target Securing Your External Accounts \f",
      "Securing Data Associated with User Accounts Securing Data with Parties That You’ve Interacted With Securing Data at Parties That You Haven’t Interacted With Chapter 7: Passwords Passwords: The Primary Form of Authentication Avoiding Simplistic Passwords Password Considerations Creating Memorable, Strong Passwords Knowing When to Change Your Password Changing Passwords after a Breach Providing Passwords to Humans Storing Passwords Transmitting Passwords Discovering Alternatives to Passwords Chapter 8: Preventing Social Engineering Don’t Trust Technology More than You Would People Types of Social Engineering Attacks Six Principles Social Engineers Exploit Don’t Overshare on Social Media Leaking Data by Sharing Information as Part of Viral Trends Identifying Fake Social Media Connections Using Bogus Information Using Security Software General Cyberhygiene Can Help Prevent Social Engineering Part 4: Cybersecurity for Businesses and Organizations Chapter 9: Securing Your Small Business Making Sure Someone Is in Charge Watching Out for Employees Considering Cyber Insurance Complying with Regulations and Compliance Handling Internet Access Managing Power Issues Chapter 10: Cybersecurity and Big Businesses \f",
      "Utilizing Technological Complexity Managing Custom Systems Continuity Planning and Disaster Recovery Looking at Regulations Deeper Pockets — and Insured Considering Employees, Consultants, and Partners Looking at the Chief Information Security Officer’s Role Part 5: Handling a Security Incident (This Is a When, Not an If) Chapter 11: Identifying a Security Breach Identifying Overt Breaches Detecting Covert Breaches Chapter 12: Recovering from a Security Breach An Ounce of Prevention Is Worth Many Tons of Response Stay Calm and Act Now with Wisdom Bring in a Pro Recovering from a Breach without a Pro’s Help Reinstall Damaged Software Dealing with Stolen Information Recovering When Your Data Is Compromised at a Third Party Part 6: Backing Up and Recovery Chapter 13: Backing Up Backing Up Is a Must Looking at the Different Types of Backups Exploring Backup Tools Knowing Where to Back Up Knowing Where Not to Store Backups Encrypting Backups Figuring Out How Often You Should Backup Disposing of Backups Testing Backups Conducting Cryptocurrency Backups Backing Up Passwords Creating a Boot Disk \f",
      "Chapter 14: Resetting Your Device Exploring Two Types of Resets Rebuild Your Device after a Hard Reset Chapter 15: Restoring from Backups You Will Need to Restore Wait!\n"
     ]
    }
   ],
   "source": [
    "openLocalFileAndSummarize()"
   ]
  }
 ],
 "metadata": {
  "kernelspec": {
   "display_name": "Python 3",
   "language": "python",
   "name": "python3"
  },
  "language_info": {
   "codemirror_mode": {
    "name": "ipython",
    "version": 3
   },
   "file_extension": ".py",
   "mimetype": "text/x-python",
   "name": "python",
   "nbconvert_exporter": "python",
   "pygments_lexer": "ipython3",
   "version": "3.8.5"
  }
 },
 "nbformat": 4,
 "nbformat_minor": 4
}
