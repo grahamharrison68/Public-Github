{
 "cells": [
  {
   "cell_type": "code",
   "execution_count": 1,
   "metadata": {
    "ExecuteTime": {
     "end_time": "2022-05-23T07:28:05.725855Z",
     "start_time": "2022-05-23T07:28:04.956458Z"
    }
   },
   "outputs": [],
   "source": [
    "import pandas as pd"
   ]
  },
  {
   "cell_type": "code",
   "execution_count": 7,
   "metadata": {
    "ExecuteTime": {
     "end_time": "2022-05-23T07:28:53.583541Z",
     "start_time": "2022-05-23T07:28:52.058438Z"
    }
   },
   "outputs": [],
   "source": [
    "df_loans = pd.read_excel(r\"Data/CustomerLoans.xlsx\")"
   ]
  },
  {
   "cell_type": "code",
   "execution_count": 8,
   "metadata": {
    "ExecuteTime": {
     "end_time": "2022-05-23T07:28:54.680609Z",
     "start_time": "2022-05-23T07:28:54.651458Z"
    }
   },
   "outputs": [
    {
     "name": "stdout",
     "output_type": "stream",
     "text": [
      "<class 'pandas.core.frame.DataFrame'>\n",
      "RangeIndex: 5286 entries, 0 to 5285\n",
      "Data columns (total 23 columns):\n",
      " #   Column                            Non-Null Count  Dtype         \n",
      "---  ------                            --------------  -----         \n",
      " 0   CustomerNumber                    5286 non-null   int64         \n",
      " 1   CustomerForename                  5286 non-null   object        \n",
      " 2   CustomerSurname                   5286 non-null   object        \n",
      " 3   CustomerGender                    5286 non-null   object        \n",
      " 4   CustomerAccessedAdvice            5286 non-null   object        \n",
      " 5   CustomerPostcode                  5286 non-null   object        \n",
      " 6   CustomerAgeAtStart                5286 non-null   int64         \n",
      " 7   CustomerJobTitle                  5286 non-null   object        \n",
      " 8   CustomerDepartment                5286 non-null   object        \n",
      " 9   CustomerDeprivationDecile         5260 non-null   float64       \n",
      " 10  CustomerIncomeDecile              5260 non-null   float64       \n",
      " 11  CustomerEmploymentDecile          5260 non-null   float64       \n",
      " 12  CustomerEducationandSkillsDecile  5260 non-null   float64       \n",
      " 13  CustomerCrimeDecile               5260 non-null   float64       \n",
      " 14  EmployerName                      5286 non-null   object        \n",
      " 15  EmployerBusinessActivity          5286 non-null   object        \n",
      " 16  EmployerNumberOfEmployees         5286 non-null   int64         \n",
      " 17  LoanStartDate                     5286 non-null   datetime64[ns]\n",
      " 18  LoanExpectedEndDate               5286 non-null   datetime64[ns]\n",
      " 19  LoanActualEndDate                 4210 non-null   datetime64[ns]\n",
      " 20  LoanApplicationMethod             5286 non-null   object        \n",
      " 21  LoanType                          5286 non-null   object        \n",
      " 22  LoanStatus                        5286 non-null   object        \n",
      "dtypes: datetime64[ns](3), float64(5), int64(3), object(12)\n",
      "memory usage: 950.0+ KB\n"
     ]
    }
   ],
   "source": [
    "df_loans.info()"
   ]
  },
  {
   "cell_type": "code",
   "execution_count": 9,
   "metadata": {
    "ExecuteTime": {
     "end_time": "2022-05-23T07:28:57.358826Z",
     "start_time": "2022-05-23T07:28:57.323820Z"
    }
   },
   "outputs": [],
   "source": [
    "df_loans[\"LoanStartMonth\"] = df_loans[\"LoanStartDate\"].dt.month\n",
    "df_loans[\"LoanStartYear\"] = df_loans[\"LoanStartDate\"].dt.year\n",
    "\n",
    "df_loans[\"LoanExpectedEndYear\"] = df_loans[\"LoanExpectedEndDate\"].dt.year\n",
    "df_loans[\"LoanActualEndYear\"] = df_loans[\"LoanActualEndDate\"].dt.year\n"
   ]
  },
  {
   "cell_type": "code",
   "execution_count": 10,
   "metadata": {
    "ExecuteTime": {
     "end_time": "2022-05-23T07:28:58.720354Z",
     "start_time": "2022-05-23T07:28:58.684471Z"
    }
   },
   "outputs": [
    {
     "data": {
      "text/html": [
       "<div>\n",
       "<style scoped>\n",
       "    .dataframe tbody tr th:only-of-type {\n",
       "        vertical-align: middle;\n",
       "    }\n",
       "\n",
       "    .dataframe tbody tr th {\n",
       "        vertical-align: top;\n",
       "    }\n",
       "\n",
       "    .dataframe thead th {\n",
       "        text-align: right;\n",
       "    }\n",
       "</style>\n",
       "<table border=\"1\" class=\"dataframe\">\n",
       "  <thead>\n",
       "    <tr style=\"text-align: right;\">\n",
       "      <th></th>\n",
       "      <th>CustomerNumber</th>\n",
       "      <th>CustomerForename</th>\n",
       "      <th>CustomerSurname</th>\n",
       "      <th>CustomerGender</th>\n",
       "      <th>CustomerAccessedAdvice</th>\n",
       "      <th>CustomerPostcode</th>\n",
       "      <th>CustomerAgeAtStart</th>\n",
       "      <th>CustomerJobTitle</th>\n",
       "      <th>CustomerDepartment</th>\n",
       "      <th>CustomerDeprivationDecile</th>\n",
       "      <th>...</th>\n",
       "      <th>LoanStartDate</th>\n",
       "      <th>LoanExpectedEndDate</th>\n",
       "      <th>LoanActualEndDate</th>\n",
       "      <th>LoanApplicationMethod</th>\n",
       "      <th>LoanType</th>\n",
       "      <th>LoanStatus</th>\n",
       "      <th>LoanStartMonth</th>\n",
       "      <th>LoanStartYear</th>\n",
       "      <th>LoanExpectedEndYear</th>\n",
       "      <th>LoanActualEndYear</th>\n",
       "    </tr>\n",
       "  </thead>\n",
       "  <tbody>\n",
       "    <tr>\n",
       "      <th>0</th>\n",
       "      <td>29061</td>\n",
       "      <td>Marian</td>\n",
       "      <td>Williams</td>\n",
       "      <td>F</td>\n",
       "      <td>N</td>\n",
       "      <td>CF2 1YJ</td>\n",
       "      <td>52</td>\n",
       "      <td>Higher Education Lecturer</td>\n",
       "      <td>Human Resources</td>\n",
       "      <td>8</td>\n",
       "      <td>...</td>\n",
       "      <td>2016-12-02</td>\n",
       "      <td>2018-03-31</td>\n",
       "      <td>2018-06-29</td>\n",
       "      <td>Online</td>\n",
       "      <td>Bronze</td>\n",
       "      <td>Repaid</td>\n",
       "      <td>12</td>\n",
       "      <td>2016</td>\n",
       "      <td>2018</td>\n",
       "      <td>2018</td>\n",
       "    </tr>\n",
       "    <tr>\n",
       "      <th>1</th>\n",
       "      <td>81602</td>\n",
       "      <td>Eric</td>\n",
       "      <td>Blackburn</td>\n",
       "      <td>M</td>\n",
       "      <td>N</td>\n",
       "      <td>G93 9NN</td>\n",
       "      <td>31</td>\n",
       "      <td>Engineer (Site)</td>\n",
       "      <td>Finance</td>\n",
       "      <td>6</td>\n",
       "      <td>...</td>\n",
       "      <td>2017-09-06</td>\n",
       "      <td>2021-09-06</td>\n",
       "      <td>2018-04-25</td>\n",
       "      <td>In Person</td>\n",
       "      <td>Platinum</td>\n",
       "      <td>Defaulted</td>\n",
       "      <td>9</td>\n",
       "      <td>2017</td>\n",
       "      <td>2021</td>\n",
       "      <td>2018</td>\n",
       "    </tr>\n",
       "    <tr>\n",
       "      <th>2</th>\n",
       "      <td>24053</td>\n",
       "      <td>Gillian</td>\n",
       "      <td>Curtis</td>\n",
       "      <td>F</td>\n",
       "      <td>N</td>\n",
       "      <td>G1 4PP</td>\n",
       "      <td>36</td>\n",
       "      <td>Warden / Ranger</td>\n",
       "      <td>Human Resources</td>\n",
       "      <td>2</td>\n",
       "      <td>...</td>\n",
       "      <td>2019-05-15</td>\n",
       "      <td>2020-11-15</td>\n",
       "      <td>2020-11-16</td>\n",
       "      <td>Online</td>\n",
       "      <td>Platinum</td>\n",
       "      <td>Repaid</td>\n",
       "      <td>5</td>\n",
       "      <td>2019</td>\n",
       "      <td>2020</td>\n",
       "      <td>2020</td>\n",
       "    </tr>\n",
       "    <tr>\n",
       "      <th>3</th>\n",
       "      <td>91503</td>\n",
       "      <td>Beverley</td>\n",
       "      <td>Jenkins</td>\n",
       "      <td>F</td>\n",
       "      <td>N</td>\n",
       "      <td>B0H 5RR</td>\n",
       "      <td>51</td>\n",
       "      <td>Dispensing Optician</td>\n",
       "      <td>Human Resources</td>\n",
       "      <td>2</td>\n",
       "      <td>...</td>\n",
       "      <td>2017-01-31</td>\n",
       "      <td>2018-04-30</td>\n",
       "      <td>2017-09-11</td>\n",
       "      <td>Online</td>\n",
       "      <td>Silver</td>\n",
       "      <td>Defaulted</td>\n",
       "      <td>1</td>\n",
       "      <td>2017</td>\n",
       "      <td>2018</td>\n",
       "      <td>2017</td>\n",
       "    </tr>\n",
       "    <tr>\n",
       "      <th>4</th>\n",
       "      <td>95173</td>\n",
       "      <td>Ashleigh</td>\n",
       "      <td>Jones</td>\n",
       "      <td>F</td>\n",
       "      <td>N</td>\n",
       "      <td>B63 5TW</td>\n",
       "      <td>37</td>\n",
       "      <td>Higher Education Lecturer</td>\n",
       "      <td>Human Resources</td>\n",
       "      <td>10</td>\n",
       "      <td>...</td>\n",
       "      <td>2016-09-12</td>\n",
       "      <td>2017-12-11</td>\n",
       "      <td>2017-10-03</td>\n",
       "      <td>Online</td>\n",
       "      <td>Bronze</td>\n",
       "      <td>Repaid</td>\n",
       "      <td>9</td>\n",
       "      <td>2016</td>\n",
       "      <td>2017</td>\n",
       "      <td>2017</td>\n",
       "    </tr>\n",
       "  </tbody>\n",
       "</table>\n",
       "<p>5 rows × 27 columns</p>\n",
       "</div>"
      ],
      "text/plain": [
       "   CustomerNumber CustomerForename CustomerSurname CustomerGender  \\\n",
       "0           29061           Marian        Williams              F   \n",
       "1           81602             Eric       Blackburn              M   \n",
       "2           24053          Gillian          Curtis              F   \n",
       "3           91503         Beverley         Jenkins              F   \n",
       "4           95173         Ashleigh           Jones              F   \n",
       "\n",
       "  CustomerAccessedAdvice CustomerPostcode  CustomerAgeAtStart  \\\n",
       "0                      N          CF2 1YJ                  52   \n",
       "1                      N          G93 9NN                  31   \n",
       "2                      N           G1 4PP                  36   \n",
       "3                      N          B0H 5RR                  51   \n",
       "4                      N          B63 5TW                  37   \n",
       "\n",
       "            CustomerJobTitle CustomerDepartment  CustomerDeprivationDecile  \\\n",
       "0  Higher Education Lecturer    Human Resources                          8   \n",
       "1            Engineer (Site)            Finance                          6   \n",
       "2            Warden / Ranger    Human Resources                          2   \n",
       "3        Dispensing Optician    Human Resources                          2   \n",
       "4  Higher Education Lecturer    Human Resources                         10   \n",
       "\n",
       "   ...  LoanStartDate  LoanExpectedEndDate  LoanActualEndDate  \\\n",
       "0  ...     2016-12-02           2018-03-31         2018-06-29   \n",
       "1  ...     2017-09-06           2021-09-06         2018-04-25   \n",
       "2  ...     2019-05-15           2020-11-15         2020-11-16   \n",
       "3  ...     2017-01-31           2018-04-30         2017-09-11   \n",
       "4  ...     2016-09-12           2017-12-11         2017-10-03   \n",
       "\n",
       "   LoanApplicationMethod  LoanType LoanStatus  LoanStartMonth LoanStartYear  \\\n",
       "0                 Online    Bronze     Repaid              12          2016   \n",
       "1              In Person  Platinum  Defaulted               9          2017   \n",
       "2                 Online  Platinum     Repaid               5          2019   \n",
       "3                 Online    Silver  Defaulted               1          2017   \n",
       "4                 Online    Bronze     Repaid               9          2016   \n",
       "\n",
       "  LoanExpectedEndYear LoanActualEndYear  \n",
       "0                2018              2018  \n",
       "1                2021              2018  \n",
       "2                2020              2020  \n",
       "3                2018              2017  \n",
       "4                2017              2017  \n",
       "\n",
       "[5 rows x 27 columns]"
      ]
     },
     "execution_count": 10,
     "metadata": {},
     "output_type": "execute_result"
    }
   ],
   "source": [
    "df_loans.head()"
   ]
  },
  {
   "cell_type": "code",
   "execution_count": 11,
   "metadata": {
    "ExecuteTime": {
     "end_time": "2022-05-23T07:29:02.646366Z",
     "start_time": "2022-05-23T07:29:02.630800Z"
    }
   },
   "outputs": [],
   "source": [
    "df_loans.drop([\"LoanStartDate\", \"LoanExpectedEndDate\", \"LoanActualEndDate\"], axis=1, inplace=True)"
   ]
  },
  {
   "cell_type": "code",
   "execution_count": 12,
   "metadata": {
    "ExecuteTime": {
     "end_time": "2022-05-23T07:29:06.177378Z",
     "start_time": "2022-05-23T07:29:03.988599Z"
    }
   },
   "outputs": [],
   "source": [
    "df_loans.to_excel(\"Data/CustomerLoans v2.xlsx\", index=False)"
   ]
  }
 ],
 "metadata": {
  "kernelspec": {
   "display_name": "Python 3 (ipykernel)",
   "language": "python",
   "name": "python3"
  },
  "language_info": {
   "codemirror_mode": {
    "name": "ipython",
    "version": 3
   },
   "file_extension": ".py",
   "mimetype": "text/x-python",
   "name": "python",
   "nbconvert_exporter": "python",
   "pygments_lexer": "ipython3",
   "version": "3.8.5"
  }
 },
 "nbformat": 4,
 "nbformat_minor": 4
}
